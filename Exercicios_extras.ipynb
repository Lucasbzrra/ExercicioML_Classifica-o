{
 "cells": [
  {
   "cell_type": "markdown",
   "metadata": {
    "application/vnd.databricks.v1+cell": {
     "cellMetadata": {
      "byteLimit": 2048000,
      "rowLimit": 10000
     },
     "inputWidgets": {},
     "nuid": "6bf172e1-f03f-4dfe-aa1a-51e97c2333e0",
     "showTitle": false,
     "title": ""
    },
    "id": "_kwAaQ36gLQ1"
   },
   "source": [
    "### Sobre o notebook\n",
    "\n",
    "Esse notebook contém diversos desafios envolvendo os aprendizados de cada aula. É um notebook construído com o enunciado de cada desafio e com espaço para construir e executar suas soluções. Se for necessário adicionar mais células de código para solucionar o desafio, fique à vontade para acrescentar."
   ]
  },
  {
   "cell_type": "markdown",
   "metadata": {
    "application/vnd.databricks.v1+cell": {
     "cellMetadata": {
      "byteLimit": 2048000,
      "rowLimit": 10000
     },
     "inputWidgets": {},
     "nuid": "b0b61f3d-5ef4-4452-98f9-296922060e82",
     "showTitle": false,
     "title": ""
    },
    "id": "fbQaJ7XHqd2p"
   },
   "source": [
    "# Aula 1"
   ]
  },
  {
   "cell_type": "code",
   "execution_count": 0,
   "metadata": {
    "application/vnd.databricks.v1+cell": {
     "cellMetadata": {
      "byteLimit": 2048000,
      "rowLimit": 10000
     },
     "inputWidgets": {},
     "nuid": "1712e615-4097-4164-b742-de3850468a7a",
     "showTitle": false,
     "title": ""
    }
   },
   "outputs": [],
   "source": [
    "from pyspark.sql.functions import *"
   ]
  },
  {
   "cell_type": "markdown",
   "metadata": {
    "application/vnd.databricks.v1+cell": {
     "cellMetadata": {
      "byteLimit": 2048000,
      "rowLimit": 10000
     },
     "inputWidgets": {},
     "nuid": "3ad97f60-ebaa-463c-a019-66d474aee503",
     "showTitle": false,
     "title": ""
    },
    "id": "XXpTDkQmqgGT"
   },
   "source": [
    "### Desafio 1\n",
    "\n",
    "Faça a leitura da base de dados de diabetes e realize a divisão dos dados em variáveis explicativas e variável alvo (x e y)."
   ]
  },
  {
   "cell_type": "code",
   "execution_count": 0,
   "metadata": {
    "application/vnd.databricks.v1+cell": {
     "cellMetadata": {
      "byteLimit": 2048000,
      "rowLimit": 10000
     },
     "inputWidgets": {},
     "nuid": "d497a767-6e32-48f3-b9f9-a1e689fb4d1f",
     "showTitle": false,
     "title": ""
    }
   },
   "outputs": [],
   "source": [
    "import pyspark.pandas as pd\n",
    "df=pd.read_csv('/FileStore/EntedendoML/diabetes.csv', sep=',')"
   ]
  },
  {
   "cell_type": "code",
   "execution_count": 0,
   "metadata": {
    "application/vnd.databricks.v1+cell": {
     "cellMetadata": {
      "byteLimit": 2048000,
      "rowLimit": 10000
     },
     "inputWidgets": {},
     "nuid": "4038c11c-14ea-4aeb-9cf3-c8dcea4214fd",
     "showTitle": false,
     "title": ""
    }
   },
   "outputs": [
    {
     "output_type": "display_data",
     "data": {
      "text/html": [
       "<style scoped>\n",
       "  .table-result-container {\n",
       "    max-height: 300px;\n",
       "    overflow: auto;\n",
       "  }\n",
       "  table, th, td {\n",
       "    border: 1px solid black;\n",
       "    border-collapse: collapse;\n",
       "  }\n",
       "  th, td {\n",
       "    padding: 5px;\n",
       "  }\n",
       "  th {\n",
       "    text-align: left;\n",
       "  }\n",
       "</style><div class='table-result-container'><table class='table-result'><thead style='background-color: white'><tr><th>glicemia</th><th>pressao_sanguinea</th><th>dobra_cutane_triceps</th><th>insulina</th><th>imc</th><th>diabetes</th></tr></thead><tbody><tr><td>66</td><td>23</td><td>94</td><td>28.1</td><td>0.167</td><td>0</td></tr><tr><td>40</td><td>35</td><td>168</td><td>43.1</td><td>2.288</td><td>1</td></tr><tr><td>50</td><td>32</td><td>88</td><td>31.0</td><td>0.248</td><td>1</td></tr><tr><td>70</td><td>45</td><td>543</td><td>30.5</td><td>0.158</td><td>1</td></tr><tr><td>60</td><td>23</td><td>846</td><td>30.1</td><td>0.398</td><td>1</td></tr><tr><td>72</td><td>19</td><td>175</td><td>25.8</td><td>0.587</td><td>1</td></tr><tr><td>84</td><td>47</td><td>230</td><td>45.8</td><td>0.551</td><td>1</td></tr><tr><td>30</td><td>38</td><td>83</td><td>43.3</td><td>0.183</td><td>0</td></tr><tr><td>70</td><td>30</td><td>96</td><td>34.6</td><td>0.529</td><td>1</td></tr><tr><td>88</td><td>41</td><td>235</td><td>39.3</td><td>0.704</td><td>0</td></tr><tr><td>94</td><td>33</td><td>146</td><td>36.6</td><td>0.254</td><td>1</td></tr><tr><td>70</td><td>26</td><td>115</td><td>31.1</td><td>0.205</td><td>1</td></tr><tr><td>66</td><td>15</td><td>140</td><td>23.2</td><td>0.487</td><td>0</td></tr><tr><td>82</td><td>19</td><td>110</td><td>22.2</td><td>0.245</td><td>0</td></tr><tr><td>76</td><td>36</td><td>245</td><td>31.6</td><td>0.851</td><td>1</td></tr><tr><td>58</td><td>11</td><td>54</td><td>24.8</td><td>0.267</td><td>0</td></tr><tr><td>60</td><td>33</td><td>192</td><td>24.0</td><td>0.966</td><td>0</td></tr><tr><td>72</td><td>47</td><td>207</td><td>37.1</td><td>1.39</td><td>1</td></tr><tr><td>64</td><td>25</td><td>70</td><td>34.0</td><td>0.271</td><td>0</td></tr><tr><td>110</td><td>24</td><td>240</td><td>45.4</td><td>0.721</td><td>1</td></tr><tr><td>80</td><td>11</td><td>82</td><td>19.4</td><td>0.491</td><td>0</td></tr><tr><td>50</td><td>15</td><td>36</td><td>24.2</td><td>0.526</td><td>0</td></tr><tr><td>66</td><td>21</td><td>23</td><td>24.4</td><td>0.342</td><td>0</td></tr><tr><td>90</td><td>34</td><td>300</td><td>33.7</td><td>0.467</td><td>1</td></tr><tr><td>66</td><td>42</td><td>342</td><td>34.7</td><td>0.718</td><td>0</td></tr><tr><td>68</td><td>39</td><td>304</td><td>37.7</td><td>0.254</td><td>1</td></tr><tr><td>88</td><td>60</td><td>110</td><td>46.8</td><td>0.962</td><td>0</td></tr><tr><td>64</td><td>41</td><td>142</td><td>41.5</td><td>0.173</td><td>0</td></tr><tr><td>58</td><td>34</td><td>128</td><td>25.4</td><td>0.699</td><td>0</td></tr><tr><td>66</td><td>13</td><td>38</td><td>19.6</td><td>0.334</td><td>0</td></tr><tr><td>85</td><td>27</td><td>100</td><td>28.9</td><td>0.189</td><td>0</td></tr><tr><td>66</td><td>20</td><td>90</td><td>32.9</td><td>0.867</td><td>1</td></tr><tr><td>64</td><td>35</td><td>140</td><td>28.6</td><td>0.411</td><td>0</td></tr><tr><td>86</td><td>20</td><td>270</td><td>35.1</td><td>0.231</td><td>0</td></tr><tr><td>78</td><td>26</td><td>71</td><td>29.3</td><td>0.767</td><td>0</td></tr><tr><td>74</td><td>29</td><td>125</td><td>32.4</td><td>0.698</td><td>0</td></tr><tr><td>68</td><td>25</td><td>71</td><td>38.5</td><td>0.324</td><td>0</td></tr><tr><td>70</td><td>32</td><td>110</td><td>37.1</td><td>0.153</td><td>1</td></tr><tr><td>80</td><td>15</td><td>176</td><td>32.0</td><td>0.443</td><td>0</td></tr><tr><td>78</td><td>40</td><td>48</td><td>46.7</td><td>0.261</td><td>0</td></tr><tr><td>82</td><td>18</td><td>64</td><td>24.7</td><td>0.761</td><td>0</td></tr><tr><td>72</td><td>27</td><td>228</td><td>33.9</td><td>0.255</td><td>0</td></tr><tr><td>48</td><td>18</td><td>76</td><td>20.4</td><td>0.323</td><td>0</td></tr><tr><td>50</td><td>30</td><td>64</td><td>28.7</td><td>0.356</td><td>0</td></tr><tr><td>90</td><td>51</td><td>220</td><td>49.7</td><td>0.325</td><td>1</td></tr><tr><td>72</td><td>18</td><td>40</td><td>26.6</td><td>0.283</td><td>0</td></tr><tr><td>56</td><td>29</td><td>152</td><td>28.7</td><td>0.801</td><td>0</td></tr><tr><td>58</td><td>28</td><td>140</td><td>29.5</td><td>0.287</td><td>0</td></tr><tr><td>58</td><td>31</td><td>18</td><td>34.3</td><td>0.336</td><td>0</td></tr><tr><td>85</td><td>25</td><td>36</td><td>37.4</td><td>0.247</td><td>1</td></tr><tr><td>72</td><td>33</td><td>135</td><td>33.3</td><td>0.199</td><td>1</td></tr><tr><td>62</td><td>26</td><td>495</td><td>34.0</td><td>0.543</td><td>1</td></tr><tr><td>76</td><td>34</td><td>37</td><td>31.2</td><td>0.192</td><td>0</td></tr><tr><td>54</td><td>32</td><td>175</td><td>30.5</td><td>0.588</td><td>1</td></tr><tr><td>76</td><td>15</td><td>51</td><td>23.2</td><td>0.223</td><td>0</td></tr><tr><td>76</td><td>56</td><td>100</td><td>53.2</td><td>0.759</td><td>1</td></tr><tr><td>74</td><td>30</td><td>100</td><td>33.6</td><td>0.404</td><td>0</td></tr><tr><td>30</td><td>42</td><td>99</td><td>55.0</td><td>0.496</td><td>1</td></tr><tr><td>70</td><td>30</td><td>135</td><td>42.9</td><td>0.452</td><td>0</td></tr><tr><td>58</td><td>36</td><td>94</td><td>33.3</td><td>0.261</td><td>0</td></tr><tr><td>88</td><td>24</td><td>145</td><td>34.5</td><td>0.403</td><td>1</td></tr><tr><td>70</td><td>14</td><td>168</td><td>29.7</td><td>0.361</td><td>1</td></tr><tr><td>64</td><td>37</td><td>225</td><td>34.5</td><td>0.356</td><td>1</td></tr><tr><td>68</td><td>13</td><td>49</td><td>21.1</td><td>0.647</td><td>0</td></tr><tr><td>60</td><td>20</td><td>140</td><td>33.8</td><td>0.088</td><td>0</td></tr><tr><td>70</td><td>26</td><td>50</td><td>30.8</td><td>0.597</td><td>0</td></tr><tr><td>60</td><td>25</td><td>92</td><td>28.7</td><td>0.532</td><td>0</td></tr><tr><td>72</td><td>29</td><td>325</td><td>36.9</td><td>0.159</td><td>0</td></tr><tr><td>52</td><td>26</td><td>63</td><td>32.5</td><td>0.318</td><td>0</td></tr><tr><td>62</td><td>31</td><td>284</td><td>32.8</td><td>0.237</td><td>0</td></tr><tr><td>64</td><td>35</td><td>119</td><td>30.5</td><td>1.4</td><td>0</td></tr><tr><td>74</td><td>50</td><td>204</td><td>37.4</td><td>0.399</td><td>0</td></tr><tr><td>86</td><td>28</td><td>155</td><td>34.3</td><td>1.189</td><td>1</td></tr><tr><td>82</td><td>42</td><td>485</td><td>40.6</td><td>0.687</td><td>0</td></tr><tr><td>52</td><td>15</td><td>94</td><td>24.6</td><td>0.637</td><td>0</td></tr><tr><td>56</td><td>21</td><td>135</td><td>25.2</td><td>0.833</td><td>0</td></tr><tr><td>74</td><td>19</td><td>53</td><td>29.0</td><td>0.229</td><td>0</td></tr><tr><td>72</td><td>41</td><td>114</td><td>40.9</td><td>0.817</td><td>1</td></tr><tr><td>74</td><td>40</td><td>105</td><td>37.2</td><td>0.204</td><td>0</td></tr><tr><td>80</td><td>34</td><td>285</td><td>44.2</td><td>0.167</td><td>0</td></tr><tr><td>74</td><td>18</td><td>156</td><td>29.9</td><td>0.722</td><td>1</td></tr><tr><td>90</td><td>12</td><td>78</td><td>28.4</td><td>0.495</td><td>0</td></tr><tr><td>70</td><td>23</td><td>130</td><td>35.4</td><td>0.542</td><td>1</td></tr><tr><td>60</td><td>42</td><td>48</td><td>43.5</td><td>0.678</td><td>0</td></tr><tr><td>64</td><td>24</td><td>55</td><td>29.7</td><td>0.37</td><td>0</td></tr><tr><td>72</td><td>42</td><td>130</td><td>32.7</td><td>0.719</td><td>1</td></tr><tr><td>110</td><td>46</td><td>130</td><td>67.1</td><td>0.319</td><td>1</td></tr><tr><td>64</td><td>18</td><td>92</td><td>34.9</td><td>0.725</td><td>0</td></tr><tr><td>74</td><td>20</td><td>23</td><td>27.7</td><td>0.299</td><td>0</td></tr><tr><td>68</td><td>36</td><td>495</td><td>30.1</td><td>0.615</td><td>1</td></tr><tr><td>98</td><td>41</td><td>58</td><td>32.0</td><td>1.321</td><td>1</td></tr><tr><td>76</td><td>39</td><td>114</td><td>27.9</td><td>0.64</td><td>1</td></tr><tr><td>80</td><td>35</td><td>160</td><td>31.6</td><td>0.361</td><td>1</td></tr><tr><td>70</td><td>44</td><td>94</td><td>33.1</td><td>0.374</td><td>0</td></tr><tr><td>84</td><td>41</td><td>210</td><td>39.4</td><td>0.395</td><td>1</td></tr><tr><td>62</td><td>13</td><td>48</td><td>22.9</td><td>0.678</td><td>1</td></tr><tr><td>64</td><td>44</td><td>99</td><td>34.8</td><td>0.905</td><td>1</td></tr><tr><td>60</td><td>27</td><td>318</td><td>30.9</td><td>0.15</td><td>1</td></tr><tr><td>70</td><td>16</td><td>44</td><td>20.4</td><td>0.235</td><td>0</td></tr><tr><td>72</td><td>32</td><td>190</td><td>37.7</td><td>0.324</td><td>0</td></tr><tr><td>76</td><td>29</td><td>280</td><td>37.5</td><td>0.605</td><td>1</td></tr><tr><td>64</td><td>27</td><td>87</td><td>33.2</td><td>0.289</td><td>0</td></tr><tr><td>65</td><td>26</td><td>130</td><td>42.6</td><td>0.431</td><td>1</td></tr><tr><td>82</td><td>32</td><td>175</td><td>34.2</td><td>0.26</td><td>1</td></tr><tr><td>70</td><td>40</td><td>271</td><td>41.8</td><td>0.742</td><td>1</td></tr><tr><td>62</td><td>41</td><td>129</td><td>35.8</td><td>0.514</td><td>1</td></tr><tr><td>68</td><td>30</td><td>120</td><td>30.0</td><td>0.464</td><td>0</td></tr><tr><td>60</td><td>29</td><td>478</td><td>34.6</td><td>1.072</td><td>1</td></tr><tr><td>60</td><td>33</td><td>190</td><td>28.8</td><td>0.687</td><td>0</td></tr><tr><td>66</td><td>15</td><td>56</td><td>23.6</td><td>0.666</td><td>0</td></tr><tr><td>78</td><td>27</td><td>32</td><td>34.6</td><td>0.101</td><td>0</td></tr><tr><td>70</td><td>39</td><td>744</td><td>36.7</td><td>2.329</td><td>0</td></tr><tr><td>80</td><td>31</td><td>53</td><td>45.2</td><td>0.089</td><td>0</td></tr><tr><td>80</td><td>37</td><td>370</td><td>46.2</td><td>0.238</td><td>1</td></tr><tr><td>80</td><td>25</td><td>37</td><td>25.4</td><td>0.583</td><td>0</td></tr><tr><td>68</td><td>28</td><td>45</td><td>29.7</td><td>0.293</td><td>0</td></tr><tr><td>84</td><td>21</td><td>192</td><td>35.9</td><td>0.586</td><td>1</td></tr><tr><td>70</td><td>32</td><td>88</td><td>33.1</td><td>0.446</td><td>0</td></tr><tr><td>50</td><td>22</td><td>176</td><td>27.1</td><td>1.318</td><td>1</td></tr><tr><td>76</td><td>35</td><td>194</td><td>38.2</td><td>0.329</td><td>0</td></tr><tr><td>90</td><td>33</td><td>680</td><td>52.3</td><td>0.427</td><td>0</td></tr><tr><td>70</td><td>33</td><td>402</td><td>35.4</td><td>0.282</td><td>0</td></tr><tr><td>80</td><td>14</td><td>55</td><td>24.4</td><td>0.249</td><td>0</td></tr><tr><td>62</td><td>7</td><td>258</td><td>27.6</td><td>0.926</td><td>1</td></tr><tr><td>50</td><td>16</td><td>375</td><td>25.9</td><td>0.655</td><td>0</td></tr><tr><td>76</td><td>28</td><td>150</td><td>33.3</td><td>1.353</td><td>1</td></tr><tr><td>68</td><td>15</td><td>130</td><td>30.9</td><td>0.299</td><td>0</td></tr><tr><td>74</td><td>18</td><td>67</td><td>33.6</td><td>0.997</td><td>0</td></tr><tr><td>62</td><td>32</td><td>56</td><td>25.2</td><td>0.128</td><td>0</td></tr><tr><td>78</td><td>50</td><td>45</td><td>33.2</td><td>0.422</td><td>0</td></tr><tr><td>70</td><td>52</td><td>57</td><td>40.5</td><td>0.677</td><td>0</td></tr><tr><td>64</td><td>23</td><td>116</td><td>27.8</td><td>0.454</td><td>0</td></tr><tr><td>62</td><td>10</td><td>278</td><td>25.3</td><td>0.881</td><td>0</td></tr><tr><td>76</td><td>28</td><td>122</td><td>35.9</td><td>0.28</td><td>0</td></tr><tr><td>88</td><td>15</td><td>155</td><td>32.4</td><td>0.262</td><td>0</td></tr><tr><td>74</td><td>26</td><td>135</td><td>26.0</td><td>0.647</td><td>0</td></tr><tr><td>84</td><td>44</td><td>545</td><td>38.7</td><td>0.619</td><td>0</td></tr><tr><td>86</td><td>39</td><td>220</td><td>45.6</td><td>0.808</td><td>1</td></tr><tr><td>56</td><td>17</td><td>49</td><td>20.8</td><td>0.34</td><td>0</td></tr><tr><td>72</td><td>43</td><td>75</td><td>36.1</td><td>0.263</td><td>0</td></tr><tr><td>88</td><td>29</td><td>40</td><td>36.9</td><td>0.434</td><td>0</td></tr><tr><td>62</td><td>30</td><td>74</td><td>36.6</td><td>0.757</td><td>1</td></tr><tr><td>78</td><td>37</td><td>182</td><td>43.3</td><td>1.224</td><td>1</td></tr><tr><td>48</td><td>45</td><td>194</td><td>40.5</td><td>0.613</td><td>1</td></tr><tr><td>62</td><td>31</td><td>120</td><td>35.5</td><td>0.692</td><td>0</td></tr><tr><td>70</td><td>38</td><td>360</td><td>28.0</td><td>0.337</td><td>1</td></tr><tr><td>84</td><td>29</td><td>215</td><td>30.7</td><td>0.52</td><td>0</td></tr><tr><td>78</td><td>25</td><td>184</td><td>36.6</td><td>0.412</td><td>1</td></tr><tr><td>58</td><td>33</td><td>135</td><td>31.6</td><td>0.422</td><td>1</td></tr><tr><td>82</td><td>41</td><td>42</td><td>35.8</td><td>0.156</td><td>0</td></tr><tr><td>76</td><td>37</td><td>105</td><td>39.7</td><td>0.215</td><td>0</td></tr><tr><td>68</td><td>23</td><td>132</td><td>25.5</td><td>0.326</td><td>1</td></tr><tr><td>68</td><td>14</td><td>148</td><td>24.8</td><td>0.143</td><td>0</td></tr><tr><td>68</td><td>19</td><td>180</td><td>30.5</td><td>1.391</td><td>1</td></tr><tr><td>68</td><td>28</td><td>205</td><td>32.9</td><td>0.875</td><td>1</td></tr><tr><td>70</td><td>37</td><td>148</td><td>39.4</td><td>0.605</td><td>0</td></tr><tr><td>74</td><td>17</td><td>96</td><td>26.6</td><td>0.433</td><td>1</td></tr><tr><td>50</td><td>10</td><td>85</td><td>29.5</td><td>0.626</td><td>0</td></tr><tr><td>68</td><td>22</td><td>94</td><td>34.1</td><td>0.315</td><td>0</td></tr><tr><td>80</td><td>11</td><td>64</td><td>19.3</td><td>0.284</td><td>0</td></tr><tr><td>66</td><td>39</td><td>140</td><td>38.1</td><td>0.15</td><td>0</td></tr><tr><td>60</td><td>12</td><td>231</td><td>27.5</td><td>0.527</td><td>0</td></tr><tr><td>90</td><td>33</td><td>29</td><td>26.8</td><td>0.731</td><td>1</td></tr><tr><td>72</td><td>21</td><td>168</td><td>25.6</td><td>0.123</td><td>0</td></tr><tr><td>64</td><td>32</td><td>156</td><td>35.1</td><td>0.692</td><td>1</td></tr><tr><td>86</td><td>36</td><td>120</td><td>45.5</td><td>0.127</td><td>1</td></tr><tr><td>70</td><td>32</td><td>68</td><td>30.8</td><td>0.122</td><td>0</td></tr><tr><td>58</td><td>16</td><td>52</td><td>32.7</td><td>0.166</td><td>0</td></tr><tr><td>60</td><td>18</td><td>58</td><td>23.9</td><td>0.26</td><td>0</td></tr><tr><td>76</td><td>43</td><td>255</td><td>47.9</td><td>0.259</td><td>0</td></tr><tr><td>78</td><td>34</td><td>171</td><td>34.2</td><td>0.893</td><td>1</td></tr><tr><td>70</td><td>13</td><td>105</td><td>25.9</td><td>0.472</td><td>0</td></tr><tr><td>74</td><td>21</td><td>73</td><td>25.9</td><td>0.673</td><td>0</td></tr><tr><td>88</td><td>36</td><td>108</td><td>38.5</td><td>0.349</td><td>0</td></tr><tr><td>46</td><td>19</td><td>83</td><td>28.7</td><td>0.654</td><td>0</td></tr><tr><td>62</td><td>19</td><td>74</td><td>21.8</td><td>0.279</td><td>0</td></tr><tr><td>62</td><td>12</td><td>43</td><td>27.2</td><td>0.58</td><td>0</td></tr><tr><td>50</td><td>40</td><td>167</td><td>33.3</td><td>0.962</td><td>1</td></tr><tr><td>74</td><td>40</td><td>54</td><td>35.3</td><td>0.378</td><td>0</td></tr><tr><td>76</td><td>36</td><td>249</td><td>36.5</td><td>0.875</td><td>1</td></tr><tr><td>64</td><td>33</td><td>325</td><td>31.2</td><td>0.583</td><td>1</td></tr><tr><td>74</td><td>25</td><td>293</td><td>34.9</td><td>0.385</td><td>0</td></tr><tr><td>54</td><td>28</td><td>83</td><td>34.0</td><td>0.499</td><td>0</td></tr><tr><td>86</td><td>16</td><td>66</td><td>27.5</td><td>0.306</td><td>0</td></tr><tr><td>102</td><td>28</td><td>140</td><td>32.8</td><td>0.234</td><td>1</td></tr><tr><td>82</td><td>48</td><td>465</td><td>38.4</td><td>2.137</td><td>1</td></tr><tr><td>64</td><td>23</td><td>89</td><td>0.0</td><td>1.731</td><td>0</td></tr><tr><td>64</td><td>22</td><td>66</td><td>35.8</td><td>0.545</td><td>0</td></tr><tr><td>58</td><td>40</td><td>94</td><td>34.9</td><td>0.225</td><td>0</td></tr><tr><td>52</td><td>43</td><td>158</td><td>36.2</td><td>0.816</td><td>0</td></tr><tr><td>82</td><td>43</td><td>325</td><td>39.2</td><td>0.528</td><td>1</td></tr><tr><td>82</td><td>15</td><td>84</td><td>25.2</td><td>0.299</td><td>0</td></tr><tr><td>60</td><td>37</td><td>75</td><td>37.2</td><td>0.509</td><td>0</td></tr><tr><td>100</td><td>39</td><td>72</td><td>43.4</td><td>1.021</td><td>0</td></tr><tr><td>72</td><td>30</td><td>82</td><td>30.8</td><td>0.821</td><td>0</td></tr><tr><td>60</td><td>8</td><td>182</td><td>25.4</td><td>0.947</td><td>0</td></tr><tr><td>62</td><td>18</td><td>59</td><td>25.1</td><td>1.268</td><td>0</td></tr><tr><td>70</td><td>24</td><td>110</td><td>24.3</td><td>0.221</td><td>0</td></tr><tr><td>54</td><td>13</td><td>50</td><td>22.3</td><td>0.205</td><td>0</td></tr><tr><td>82</td><td>26</td><td>285</td><td>32.0</td><td>0.452</td><td>1</td></tr><tr><td>68</td><td>23</td><td>81</td><td>31.6</td><td>0.949</td><td>0</td></tr><tr><td>66</td><td>29</td><td>196</td><td>32.0</td><td>0.444</td><td>0</td></tr><tr><td>64</td><td>14</td><td>415</td><td>23.7</td><td>0.389</td><td>0</td></tr><tr><td>72</td><td>12</td><td>87</td><td>22.1</td><td>0.463</td><td>0</td></tr><tr><td>58</td><td>24</td><td>275</td><td>27.7</td><td>1.6</td><td>0</td></tr><tr><td>56</td><td>34</td><td>115</td><td>24.7</td><td>0.944</td><td>0</td></tr><tr><td>84</td><td>41</td><td>88</td><td>35.0</td><td>0.286</td><td>1</td></tr><tr><td>48</td><td>32</td><td>165</td><td>42.1</td><td>0.52</td><td>0</td></tr><tr><td>68</td><td>49</td><td>579</td><td>42.4</td><td>0.702</td><td>1</td></tr><tr><td>72</td><td>30</td><td>176</td><td>34.4</td><td>0.528</td><td>0</td></tr><tr><td>84</td><td>23</td><td>310</td><td>42.4</td><td>1.076</td><td>0</td></tr><tr><td>74</td><td>22</td><td>61</td><td>26.2</td><td>0.256</td><td>0</td></tr><tr><td>60</td><td>35</td><td>167</td><td>34.6</td><td>0.534</td><td>1</td></tr><tr><td>84</td><td>33</td><td>474</td><td>35.7</td><td>0.258</td><td>1</td></tr><tr><td>64</td><td>29</td><td>115</td><td>26.4</td><td>0.219</td><td>1</td></tr><tr><td>88</td><td>41</td><td>170</td><td>45.3</td><td>0.507</td><td>0</td></tr><tr><td>68</td><td>18</td><td>76</td><td>26.0</td><td>0.561</td><td>0</td></tr><tr><td>64</td><td>46</td><td>78</td><td>40.6</td><td>0.496</td><td>0</td></tr><tr><td>78</td><td>32</td><td>210</td><td>42.9</td><td>0.516</td><td>1</td></tr><tr><td>78</td><td>39</td><td>277</td><td>37.0</td><td>0.264</td><td>1</td></tr><tr><td>64</td><td>30</td><td>180</td><td>34.1</td><td>0.328</td><td>1</td></tr><tr><td>94</td><td>46</td><td>145</td><td>40.6</td><td>0.284</td><td>0</td></tr><tr><td>82</td><td>25</td><td>180</td><td>35.0</td><td>0.233</td><td>1</td></tr><tr><td>74</td><td>16</td><td>85</td><td>30.4</td><td>0.551</td><td>0</td></tr><tr><td>74</td><td>11</td><td>60</td><td>30.0</td><td>0.527</td><td>0</td></tr><tr><td>66</td><td>23</td><td>50</td><td>32.2</td><td>0.497</td><td>0</td></tr><tr><td>64</td><td>27</td><td>120</td><td>33.2</td><td>0.23</td><td>0</td></tr><tr><td>78</td><td>63</td><td>14</td><td>59.4</td><td>2.42</td><td>1</td></tr><tr><td>72</td><td>12</td><td>70</td><td>25.3</td><td>0.658</td><td>0</td></tr><tr><td>80</td><td>45</td><td>92</td><td>36.5</td><td>0.33</td><td>0</td></tr><tr><td>64</td><td>37</td><td>64</td><td>33.6</td><td>0.51</td><td>1</td></tr><tr><td>74</td><td>18</td><td>63</td><td>30.5</td><td>0.285</td><td>0</td></tr><tr><td>64</td><td>13</td><td>95</td><td>21.2</td><td>0.415</td><td>0</td></tr><tr><td>68</td><td>32</td><td>210</td><td>39.9</td><td>0.381</td><td>0</td></tr><tr><td>54</td><td>28</td><td>105</td><td>37.8</td><td>0.498</td><td>0</td></tr><tr><td>68</td><td>28</td><td>71</td><td>30.2</td><td>0.364</td><td>0</td></tr><tr><td>84</td><td>48</td><td>237</td><td>37.6</td><td>1.001</td><td>1</td></tr><tr><td>74</td><td>33</td><td>60</td><td>25.9</td><td>0.46</td><td>0</td></tr><tr><td>72</td><td>22</td><td>56</td><td>20.8</td><td>0.733</td><td>0</td></tr><tr><td>70</td><td>40</td><td>49</td><td>35.3</td><td>0.705</td><td>0</td></tr><tr><td>56</td><td>13</td><td>105</td><td>21.8</td><td>0.452</td><td>0</td></tr><tr><td>52</td><td>10</td><td>36</td><td>27.8</td><td>0.269</td><td>0</td></tr><tr><td>64</td><td>36</td><td>100</td><td>36.8</td><td>0.6</td><td>0</td></tr><tr><td>78</td><td>41</td><td>140</td><td>46.1</td><td>0.571</td><td>0</td></tr><tr><td>80</td><td>45</td><td>191</td><td>33.7</td><td>0.711</td><td>1</td></tr><tr><td>76</td><td>17</td><td>110</td><td>23.8</td><td>0.466</td><td>0</td></tr><tr><td>74</td><td>38</td><td>75</td><td>25.9</td><td>0.162</td><td>0</td></tr><tr><td>70</td><td>30</td><td>328</td><td>35.5</td><td>0.344</td><td>1</td></tr><tr><td>58</td><td>22</td><td>49</td><td>27.8</td><td>0.306</td><td>0</td></tr><tr><td>82</td><td>31</td><td>125</td><td>38.2</td><td>0.233</td><td>0</td></tr><tr><td>68</td><td>42</td><td>250</td><td>42.3</td><td>0.365</td><td>1</td></tr><tr><td>62</td><td>41</td><td>480</td><td>40.7</td><td>0.536</td><td>0</td></tr><tr><td>78</td><td>32</td><td>265</td><td>46.5</td><td>1.159</td><td>0</td></tr><tr><td>65</td><td>28</td><td>66</td><td>36.8</td><td>0.629</td><td>0</td></tr><tr><td>70</td><td>18</td><td>122</td><td>28.9</td><td>1.144</td><td>1</td></tr><tr><td>72</td><td>15</td><td>76</td><td>30.1</td><td>0.547</td><td>0</td></tr><tr><td>70</td><td>33</td><td>145</td><td>25.1</td><td>0.163</td><td>1</td></tr><tr><td>74</td><td>32</td><td>193</td><td>29.3</td><td>0.839</td><td>0</td></tr><tr><td>90</td><td>19</td><td>71</td><td>25.2</td><td>0.313</td><td>0</td></tr><tr><td>64</td><td>25</td><td>79</td><td>33.3</td><td>0.738</td><td>0</td></tr><tr><td>90</td><td>26</td><td>90</td><td>36.5</td><td>0.314</td><td>1</td></tr><tr><td>60</td><td>23</td><td>170</td><td>28.6</td><td>0.692</td><td>0</td></tr><tr><td>50</td><td>23</td><td>76</td><td>30.4</td><td>0.968</td><td>0</td></tr><tr><td>62</td><td>17</td><td>210</td><td>22.1</td><td>0.207</td><td>0</td></tr><tr><td>54</td><td>19</td><td>86</td><td>25.6</td><td>0.154</td><td>0</td></tr><tr><td>70</td><td>18</td><td>105</td><td>31.6</td><td>0.268</td><td>1</td></tr><tr><td>88</td><td>34</td><td>165</td><td>30.3</td><td>0.771</td><td>1</td></tr><tr><td>90</td><td>7</td><td>326</td><td>19.6</td><td>0.582</td><td>0</td></tr><tr><td>70</td><td>32</td><td>66</td><td>25.0</td><td>0.187</td><td>0</td></tr><tr><td>80</td><td>33</td><td>130</td><td>33.2</td><td>0.305</td><td>0</td></tr><tr><td>64</td><td>19</td><td>82</td><td>18.2</td><td>0.299</td><td>0</td></tr><tr><td>74</td><td>15</td><td>105</td><td>26.3</td><td>0.107</td><td>0</td></tr><tr><td>66</td><td>31</td><td>188</td><td>30.8</td><td>0.493</td><td>0</td></tr><tr><td>60</td><td>18</td><td>106</td><td>29.8</td><td>0.717</td><td>0</td></tr><tr><td>66</td><td>52</td><td>65</td><td>41.3</td><td>0.917</td><td>0</td></tr><tr><td>56</td><td>30</td><td>56</td><td>33.3</td><td>1.251</td><td>0</td></tr><tr><td>80</td><td>37</td><td>210</td><td>36.3</td><td>0.804</td><td>0</td></tr><tr><td>92</td><td>49</td><td>155</td><td>36.4</td><td>0.968</td><td>1</td></tr><tr><td>74</td><td>40</td><td>215</td><td>39.4</td><td>0.661</td><td>1</td></tr><tr><td>72</td><td>25</td><td>190</td><td>32.4</td><td>0.549</td><td>1</td></tr><tr><td>90</td><td>23</td><td>56</td><td>39.5</td><td>0.159</td><td>0</td></tr><tr><td>78</td><td>29</td><td>76</td><td>32.0</td><td>0.365</td><td>0</td></tr><tr><td>90</td><td>35</td><td>225</td><td>34.5</td><td>0.423</td><td>1</td></tr><tr><td>76</td><td>27</td><td>207</td><td>43.6</td><td>1.034</td><td>1</td></tr><tr><td>68</td><td>21</td><td>166</td><td>33.1</td><td>0.16</td><td>0</td></tr><tr><td>82</td><td>43</td><td>67</td><td>32.8</td><td>0.341</td><td>0</td></tr><tr><td>68</td><td>30</td><td>106</td><td>31.9</td><td>0.591</td><td>0</td></tr><tr><td>62</td><td>24</td><td>44</td><td>29.9</td><td>0.422</td><td>0</td></tr><tr><td>64</td><td>23</td><td>115</td><td>36.9</td><td>0.471</td><td>0</td></tr><tr><td>70</td><td>33</td><td>215</td><td>25.5</td><td>0.161</td><td>0</td></tr><tr><td>66</td><td>32</td><td>274</td><td>41.3</td><td>0.502</td><td>1</td></tr><tr><td>68</td><td>34</td><td>77</td><td>37.6</td><td>0.401</td><td>0</td></tr><tr><td>60</td><td>19</td><td>54</td><td>26.9</td><td>0.497</td><td>0</td></tr><tr><td>54</td><td>14</td><td>88</td><td>26.1</td><td>0.748</td><td>0</td></tr><tr><td>72</td><td>30</td><td>18</td><td>38.6</td><td>0.412</td><td>0</td></tr><tr><td>62</td><td>32</td><td>126</td><td>32.0</td><td>0.085</td><td>0</td></tr><tr><td>72</td><td>29</td><td>126</td><td>31.3</td><td>0.338</td><td>0</td></tr><tr><td>66</td><td>30</td><td>165</td><td>34.3</td><td>0.203</td><td>1</td></tr><tr><td>58</td><td>31</td><td>44</td><td>29.5</td><td>0.43</td><td>0</td></tr><tr><td>60</td><td>17</td><td>120</td><td>34.7</td><td>0.198</td><td>0</td></tr><tr><td>86</td><td>30</td><td>330</td><td>30.1</td><td>0.892</td><td>0</td></tr><tr><td>44</td><td>47</td><td>63</td><td>35.5</td><td>0.28</td><td>0</td></tr><tr><td>44</td><td>20</td><td>130</td><td>24.0</td><td>0.813</td><td>0</td></tr><tr><td>76</td><td>24</td><td>600</td><td>28.7</td><td>0.687</td><td>1</td></tr><tr><td>86</td><td>27</td><td>156</td><td>33.3</td><td>1.154</td><td>1</td></tr><tr><td>78</td><td>50</td><td>140</td><td>39.4</td><td>0.175</td><td>0</td></tr><tr><td>52</td><td>22</td><td>115</td><td>28.5</td><td>1.699</td><td>0</td></tr><tr><td>72</td><td>45</td><td>230</td><td>33.6</td><td>0.733</td><td>0</td></tr><tr><td>82</td><td>14</td><td>185</td><td>32.0</td><td>0.682</td><td>1</td></tr><tr><td>24</td><td>19</td><td>25</td><td>27.8</td><td>0.559</td><td>0</td></tr><tr><td>38</td><td>18</td><td>120</td><td>23.1</td><td>0.407</td><td>0</td></tr><tr><td>78</td><td>29</td><td>126</td><td>35.2</td><td>0.692</td><td>1</td></tr><tr><td>78</td><td>42</td><td>293</td><td>40.0</td><td>1.258</td><td>1</td></tr><tr><td>62</td><td>25</td><td>41</td><td>19.5</td><td>0.482</td><td>0</td></tr><tr><td>82</td><td>39</td><td>272</td><td>41.5</td><td>0.27</td><td>0</td></tr><tr><td>62</td><td>13</td><td>182</td><td>24.0</td><td>0.138</td><td>0</td></tr><tr><td>54</td><td>21</td><td>158</td><td>30.9</td><td>0.292</td><td>0</td></tr><tr><td>58</td><td>22</td><td>194</td><td>32.9</td><td>0.593</td><td>1</td></tr><tr><td>88</td><td>42</td><td>321</td><td>38.2</td><td>0.787</td><td>1</td></tr><tr><td>74</td><td>26</td><td>144</td><td>36.1</td><td>0.557</td><td>1</td></tr><tr><td>62</td><td>13</td><td>15</td><td>20.1</td><td>0.257</td><td>0</td></tr><tr><td>86</td><td>42</td><td>160</td><td>38.4</td><td>0.246</td><td>0</td></tr><tr><td>70</td><td>27</td><td>115</td><td>43.5</td><td>0.347</td><td>0</td></tr><tr><td>88</td><td>47</td><td>54</td><td>37.7</td><td>0.362</td><td>0</td></tr><tr><td>78</td><td>40</td><td>90</td><td>34.5</td><td>0.238</td><td>0</td></tr><tr><td>82</td><td>17</td><td>183</td><td>27.5</td><td>0.115</td><td>0</td></tr><tr><td>76</td><td>18</td><td>66</td><td>31.6</td><td>0.649</td><td>0</td></tr><tr><td>76</td><td>32</td><td>91</td><td>40.9</td><td>0.871</td><td>1</td></tr><tr><td>74</td><td>12</td><td>46</td><td>19.5</td><td>0.149</td><td>0</td></tr><tr><td>86</td><td>17</td><td>105</td><td>29.3</td><td>0.695</td><td>0</td></tr><tr><td>72</td><td>30</td><td>152</td><td>27.6</td><td>0.73</td><td>0</td></tr><tr><td>74</td><td>35</td><td>440</td><td>39.4</td><td>0.134</td><td>0</td></tr><tr><td>74</td><td>17</td><td>144</td><td>23.4</td><td>0.447</td><td>1</td></tr><tr><td>50</td><td>36</td><td>159</td><td>37.8</td><td>0.455</td><td>1</td></tr><tr><td>84</td><td>35</td><td>130</td><td>28.3</td><td>0.26</td><td>1</td></tr><tr><td>54</td><td>25</td><td>100</td><td>25.2</td><td>0.234</td><td>0</td></tr><tr><td>60</td><td>23</td><td>106</td><td>33.8</td><td>0.466</td><td>0</td></tr><tr><td>74</td><td>40</td><td>77</td><td>34.1</td><td>0.269</td><td>0</td></tr><tr><td>70</td><td>28</td><td>135</td><td>34.2</td><td>0.142</td><td>0</td></tr><tr><td>52</td><td>27</td><td>540</td><td>38.7</td><td>0.24</td><td>1</td></tr><tr><td>58</td><td>35</td><td>90</td><td>21.8</td><td>0.155</td><td>0</td></tr><tr><td>80</td><td>48</td><td>200</td><td>38.9</td><td>1.162</td><td>0</td></tr><tr><td>82</td><td>31</td><td>70</td><td>34.2</td><td>1.292</td><td>1</td></tr><tr><td>106</td><td>46</td><td>231</td><td>37.6</td><td>0.165</td><td>1</td></tr><tr><td>80</td><td>46</td><td>130</td><td>37.9</td><td>0.637</td><td>1</td></tr><tr><td>80</td><td>45</td><td>132</td><td>34.8</td><td>0.217</td><td>0</td></tr><tr><td>58</td><td>33</td><td>190</td><td>34.0</td><td>0.43</td><td>0</td></tr><tr><td>78</td><td>30</td><td>100</td><td>30.9</td><td>0.164</td><td>0</td></tr><tr><td>68</td><td>26</td><td>168</td><td>33.6</td><td>0.631</td><td>0</td></tr><tr><td>106</td><td>23</td><td>49</td><td>35.5</td><td>0.285</td><td>0</td></tr><tr><td>100</td><td>35</td><td>240</td><td>57.3</td><td>0.88</td><td>0</td></tr><tr><td>58</td><td>17</td><td>265</td><td>24.2</td><td>0.614</td><td>0</td></tr><tr><td>56</td><td>28</td><td>45</td><td>24.2</td><td>0.332</td><td>0</td></tr><tr><td>64</td><td>39</td><td>105</td><td>44.6</td><td>0.366</td><td>0</td></tr><tr><td>74</td><td>26</td><td>205</td><td>33.2</td><td>0.591</td><td>0</td></tr><tr><td>74</td><td>26</td><td>180</td><td>24.1</td><td>0.828</td><td>0</td></tr><tr><td>82</td><td>46</td><td>180</td><td>46.1</td><td>0.335</td><td>1</td></tr><tr><td>70</td><td>32</td><td>95</td><td>39.1</td><td>0.886</td><td>0</td></tr><tr><td>68</td><td>49</td><td>125</td><td>38.5</td><td>0.439</td><td>1</td></tr><tr><td>90</td><td>24</td><td>480</td><td>30.4</td><td>0.128</td><td>1</td></tr><tr><td>74</td><td>19</td><td>125</td><td>29.9</td><td>0.268</td><td>1</td></tr><tr><td>88</td><td>11</td><td>155</td><td>34.5</td><td>0.598</td><td>0</td></tr><tr><td>76</td><td>27</td><td>200</td><td>35.9</td><td>0.483</td><td>0</td></tr><tr><td>76</td><td>20</td><td>100</td><td>28.4</td><td>0.118</td><td>0</td></tr><tr><td>46</td><td>21</td><td>335</td><td>34.4</td><td>0.176</td><td>0</td></tr><tr><td>64</td><td>32</td><td>160</td><td>38.0</td><td>0.674</td><td>1</td></tr><tr><td>64</td><td>13</td><td>387</td><td>31.2</td><td>0.295</td><td>0</td></tr><tr><td>78</td><td>27</td><td>22</td><td>29.6</td><td>0.439</td><td>0</td></tr><tr><td>58</td><td>20</td><td>291</td><td>26.4</td><td>0.352</td><td>0</td></tr><tr><td>50</td><td>33</td><td>392</td><td>33.9</td><td>0.826</td><td>1</td></tr><tr><td>78</td><td>39</td><td>185</td><td>33.8</td><td>0.97</td><td>1</td></tr><tr><td>60</td><td>46</td><td>178</td><td>35.5</td><td>0.415</td><td>0</td></tr><tr><td>66</td><td>36</td><td>200</td><td>38.1</td><td>0.289</td><td>0</td></tr><tr><td>68</td><td>29</td><td>127</td><td>29.3</td><td>0.349</td><td>1</td></tr><tr><td>86</td><td>30</td><td>105</td><td>39.1</td><td>0.251</td><td>0</td></tr><tr><td>78</td><td>29</td><td>180</td><td>36.1</td><td>0.496</td><td>0</td></tr><tr><td>78</td><td>23</td><td>79</td><td>28.4</td><td>0.323</td><td>1</td></tr><tr><td>88</td><td>37</td><td>120</td><td>44.5</td><td>0.646</td><td>1</td></tr><tr><td>56</td><td>27</td><td>165</td><td>29.0</td><td>0.426</td><td>0</td></tr><tr><td>86</td><td>27</td><td>120</td><td>27.4</td><td>0.515</td><td>0</td></tr><tr><td>60</td><td>17</td><td>160</td><td>36.6</td><td>0.453</td><td>0</td></tr><tr><td>80</td><td>37</td><td>150</td><td>42.3</td><td>0.785</td><td>1</td></tr><tr><td>44</td><td>20</td><td>94</td><td>30.8</td><td>0.4</td><td>0</td></tr><tr><td>58</td><td>18</td><td>116</td><td>28.5</td><td>0.219</td><td>0</td></tr><tr><td>88</td><td>37</td><td>140</td><td>40.6</td><td>1.174</td><td>0</td></tr><tr><td>84</td><td>33</td><td>105</td><td>30.0</td><td>0.488</td><td>0</td></tr><tr><td>74</td><td>41</td><td>57</td><td>46.3</td><td>1.096</td><td>0</td></tr><tr><td>70</td><td>22</td><td>200</td><td>36.4</td><td>0.408</td><td>1</td></tr><tr><td>78</td><td>39</td><td>74</td><td>39.0</td><td>0.261</td><td>0</td></tr><tr><td>88</td><td>44</td><td>510</td><td>43.3</td><td>0.222</td><td>1</td></tr><tr><td>88</td><td>39</td><td>110</td><td>36.5</td><td>1.057</td><td>1</td></tr><tr><td>58</td><td>26</td><td>16</td><td>28.4</td><td>0.766</td><td>0</td></tr><tr><td>76</td><td>48</td><td>180</td><td>32.9</td><td>0.171</td><td>0</td></tr><tr><td>72</td><td>23</td><td>112</td><td>26.2</td><td>0.245</td><td>0</td></tr></tbody></table></div>"
      ]
     },
     "metadata": {
      "application/vnd.databricks.v1+output": {
       "addedWidgets": {},
       "aggData": [],
       "aggError": "",
       "aggOverflow": false,
       "aggSchema": [],
       "aggSeriesLimitReached": false,
       "aggType": "",
       "arguments": {},
       "columnCustomDisplayInfos": {},
       "data": [
        [
         66,
         23,
         94,
         28.1,
         0.167,
         0
        ],
        [
         40,
         35,
         168,
         43.1,
         2.288,
         1
        ],
        [
         50,
         32,
         88,
         31.0,
         0.248,
         1
        ],
        [
         70,
         45,
         543,
         30.5,
         0.158,
         1
        ],
        [
         60,
         23,
         846,
         30.1,
         0.398,
         1
        ],
        [
         72,
         19,
         175,
         25.8,
         0.587,
         1
        ],
        [
         84,
         47,
         230,
         45.8,
         0.551,
         1
        ],
        [
         30,
         38,
         83,
         43.3,
         0.183,
         0
        ],
        [
         70,
         30,
         96,
         34.6,
         0.529,
         1
        ],
        [
         88,
         41,
         235,
         39.3,
         0.704,
         0
        ],
        [
         94,
         33,
         146,
         36.6,
         0.254,
         1
        ],
        [
         70,
         26,
         115,
         31.1,
         0.205,
         1
        ],
        [
         66,
         15,
         140,
         23.2,
         0.487,
         0
        ],
        [
         82,
         19,
         110,
         22.2,
         0.245,
         0
        ],
        [
         76,
         36,
         245,
         31.6,
         0.851,
         1
        ],
        [
         58,
         11,
         54,
         24.8,
         0.267,
         0
        ],
        [
         60,
         33,
         192,
         24.0,
         0.966,
         0
        ],
        [
         72,
         47,
         207,
         37.1,
         1.39,
         1
        ],
        [
         64,
         25,
         70,
         34.0,
         0.271,
         0
        ],
        [
         110,
         24,
         240,
         45.4,
         0.721,
         1
        ],
        [
         80,
         11,
         82,
         19.4,
         0.491,
         0
        ],
        [
         50,
         15,
         36,
         24.2,
         0.526,
         0
        ],
        [
         66,
         21,
         23,
         24.4,
         0.342,
         0
        ],
        [
         90,
         34,
         300,
         33.7,
         0.467,
         1
        ],
        [
         66,
         42,
         342,
         34.7,
         0.718,
         0
        ],
        [
         68,
         39,
         304,
         37.7,
         0.254,
         1
        ],
        [
         88,
         60,
         110,
         46.8,
         0.962,
         0
        ],
        [
         64,
         41,
         142,
         41.5,
         0.173,
         0
        ],
        [
         58,
         34,
         128,
         25.4,
         0.699,
         0
        ],
        [
         66,
         13,
         38,
         19.6,
         0.334,
         0
        ],
        [
         85,
         27,
         100,
         28.9,
         0.189,
         0
        ],
        [
         66,
         20,
         90,
         32.9,
         0.867,
         1
        ],
        [
         64,
         35,
         140,
         28.6,
         0.411,
         0
        ],
        [
         86,
         20,
         270,
         35.1,
         0.231,
         0
        ],
        [
         78,
         26,
         71,
         29.3,
         0.767,
         0
        ],
        [
         74,
         29,
         125,
         32.4,
         0.698,
         0
        ],
        [
         68,
         25,
         71,
         38.5,
         0.324,
         0
        ],
        [
         70,
         32,
         110,
         37.1,
         0.153,
         1
        ],
        [
         80,
         15,
         176,
         32.0,
         0.443,
         0
        ],
        [
         78,
         40,
         48,
         46.7,
         0.261,
         0
        ],
        [
         82,
         18,
         64,
         24.7,
         0.761,
         0
        ],
        [
         72,
         27,
         228,
         33.9,
         0.255,
         0
        ],
        [
         48,
         18,
         76,
         20.4,
         0.323,
         0
        ],
        [
         50,
         30,
         64,
         28.7,
         0.356,
         0
        ],
        [
         90,
         51,
         220,
         49.7,
         0.325,
         1
        ],
        [
         72,
         18,
         40,
         26.6,
         0.283,
         0
        ],
        [
         56,
         29,
         152,
         28.7,
         0.801,
         0
        ],
        [
         58,
         28,
         140,
         29.5,
         0.287,
         0
        ],
        [
         58,
         31,
         18,
         34.3,
         0.336,
         0
        ],
        [
         85,
         25,
         36,
         37.4,
         0.247,
         1
        ],
        [
         72,
         33,
         135,
         33.3,
         0.199,
         1
        ],
        [
         62,
         26,
         495,
         34.0,
         0.543,
         1
        ],
        [
         76,
         34,
         37,
         31.2,
         0.192,
         0
        ],
        [
         54,
         32,
         175,
         30.5,
         0.588,
         1
        ],
        [
         76,
         15,
         51,
         23.2,
         0.223,
         0
        ],
        [
         76,
         56,
         100,
         53.2,
         0.759,
         1
        ],
        [
         74,
         30,
         100,
         33.6,
         0.404,
         0
        ],
        [
         30,
         42,
         99,
         55.0,
         0.496,
         1
        ],
        [
         70,
         30,
         135,
         42.9,
         0.452,
         0
        ],
        [
         58,
         36,
         94,
         33.3,
         0.261,
         0
        ],
        [
         88,
         24,
         145,
         34.5,
         0.403,
         1
        ],
        [
         70,
         14,
         168,
         29.7,
         0.361,
         1
        ],
        [
         64,
         37,
         225,
         34.5,
         0.356,
         1
        ],
        [
         68,
         13,
         49,
         21.1,
         0.647,
         0
        ],
        [
         60,
         20,
         140,
         33.8,
         0.088,
         0
        ],
        [
         70,
         26,
         50,
         30.8,
         0.597,
         0
        ],
        [
         60,
         25,
         92,
         28.7,
         0.532,
         0
        ],
        [
         72,
         29,
         325,
         36.9,
         0.159,
         0
        ],
        [
         52,
         26,
         63,
         32.5,
         0.318,
         0
        ],
        [
         62,
         31,
         284,
         32.8,
         0.237,
         0
        ],
        [
         64,
         35,
         119,
         30.5,
         1.4,
         0
        ],
        [
         74,
         50,
         204,
         37.4,
         0.399,
         0
        ],
        [
         86,
         28,
         155,
         34.3,
         1.189,
         1
        ],
        [
         82,
         42,
         485,
         40.6,
         0.687,
         0
        ],
        [
         52,
         15,
         94,
         24.6,
         0.637,
         0
        ],
        [
         56,
         21,
         135,
         25.2,
         0.833,
         0
        ],
        [
         74,
         19,
         53,
         29.0,
         0.229,
         0
        ],
        [
         72,
         41,
         114,
         40.9,
         0.817,
         1
        ],
        [
         74,
         40,
         105,
         37.2,
         0.204,
         0
        ],
        [
         80,
         34,
         285,
         44.2,
         0.167,
         0
        ],
        [
         74,
         18,
         156,
         29.9,
         0.722,
         1
        ],
        [
         90,
         12,
         78,
         28.4,
         0.495,
         0
        ],
        [
         70,
         23,
         130,
         35.4,
         0.542,
         1
        ],
        [
         60,
         42,
         48,
         43.5,
         0.678,
         0
        ],
        [
         64,
         24,
         55,
         29.7,
         0.37,
         0
        ],
        [
         72,
         42,
         130,
         32.7,
         0.719,
         1
        ],
        [
         110,
         46,
         130,
         67.1,
         0.319,
         1
        ],
        [
         64,
         18,
         92,
         34.9,
         0.725,
         0
        ],
        [
         74,
         20,
         23,
         27.7,
         0.299,
         0
        ],
        [
         68,
         36,
         495,
         30.1,
         0.615,
         1
        ],
        [
         98,
         41,
         58,
         32.0,
         1.321,
         1
        ],
        [
         76,
         39,
         114,
         27.9,
         0.64,
         1
        ],
        [
         80,
         35,
         160,
         31.6,
         0.361,
         1
        ],
        [
         70,
         44,
         94,
         33.1,
         0.374,
         0
        ],
        [
         84,
         41,
         210,
         39.4,
         0.395,
         1
        ],
        [
         62,
         13,
         48,
         22.9,
         0.678,
         1
        ],
        [
         64,
         44,
         99,
         34.8,
         0.905,
         1
        ],
        [
         60,
         27,
         318,
         30.9,
         0.15,
         1
        ],
        [
         70,
         16,
         44,
         20.4,
         0.235,
         0
        ],
        [
         72,
         32,
         190,
         37.7,
         0.324,
         0
        ],
        [
         76,
         29,
         280,
         37.5,
         0.605,
         1
        ],
        [
         64,
         27,
         87,
         33.2,
         0.289,
         0
        ],
        [
         65,
         26,
         130,
         42.6,
         0.431,
         1
        ],
        [
         82,
         32,
         175,
         34.2,
         0.26,
         1
        ],
        [
         70,
         40,
         271,
         41.8,
         0.742,
         1
        ],
        [
         62,
         41,
         129,
         35.8,
         0.514,
         1
        ],
        [
         68,
         30,
         120,
         30.0,
         0.464,
         0
        ],
        [
         60,
         29,
         478,
         34.6,
         1.072,
         1
        ],
        [
         60,
         33,
         190,
         28.8,
         0.687,
         0
        ],
        [
         66,
         15,
         56,
         23.6,
         0.666,
         0
        ],
        [
         78,
         27,
         32,
         34.6,
         0.101,
         0
        ],
        [
         70,
         39,
         744,
         36.7,
         2.329,
         0
        ],
        [
         80,
         31,
         53,
         45.2,
         0.089,
         0
        ],
        [
         80,
         37,
         370,
         46.2,
         0.238,
         1
        ],
        [
         80,
         25,
         37,
         25.4,
         0.583,
         0
        ],
        [
         68,
         28,
         45,
         29.7,
         0.293,
         0
        ],
        [
         84,
         21,
         192,
         35.9,
         0.586,
         1
        ],
        [
         70,
         32,
         88,
         33.1,
         0.446,
         0
        ],
        [
         50,
         22,
         176,
         27.1,
         1.318,
         1
        ],
        [
         76,
         35,
         194,
         38.2,
         0.329,
         0
        ],
        [
         90,
         33,
         680,
         52.3,
         0.427,
         0
        ],
        [
         70,
         33,
         402,
         35.4,
         0.282,
         0
        ],
        [
         80,
         14,
         55,
         24.4,
         0.249,
         0
        ],
        [
         62,
         7,
         258,
         27.6,
         0.926,
         1
        ],
        [
         50,
         16,
         375,
         25.9,
         0.655,
         0
        ],
        [
         76,
         28,
         150,
         33.3,
         1.353,
         1
        ],
        [
         68,
         15,
         130,
         30.9,
         0.299,
         0
        ],
        [
         74,
         18,
         67,
         33.6,
         0.997,
         0
        ],
        [
         62,
         32,
         56,
         25.2,
         0.128,
         0
        ],
        [
         78,
         50,
         45,
         33.2,
         0.422,
         0
        ],
        [
         70,
         52,
         57,
         40.5,
         0.677,
         0
        ],
        [
         64,
         23,
         116,
         27.8,
         0.454,
         0
        ],
        [
         62,
         10,
         278,
         25.3,
         0.881,
         0
        ],
        [
         76,
         28,
         122,
         35.9,
         0.28,
         0
        ],
        [
         88,
         15,
         155,
         32.4,
         0.262,
         0
        ],
        [
         74,
         26,
         135,
         26.0,
         0.647,
         0
        ],
        [
         84,
         44,
         545,
         38.7,
         0.619,
         0
        ],
        [
         86,
         39,
         220,
         45.6,
         0.808,
         1
        ],
        [
         56,
         17,
         49,
         20.8,
         0.34,
         0
        ],
        [
         72,
         43,
         75,
         36.1,
         0.263,
         0
        ],
        [
         88,
         29,
         40,
         36.9,
         0.434,
         0
        ],
        [
         62,
         30,
         74,
         36.6,
         0.757,
         1
        ],
        [
         78,
         37,
         182,
         43.3,
         1.224,
         1
        ],
        [
         48,
         45,
         194,
         40.5,
         0.613,
         1
        ],
        [
         62,
         31,
         120,
         35.5,
         0.692,
         0
        ],
        [
         70,
         38,
         360,
         28.0,
         0.337,
         1
        ],
        [
         84,
         29,
         215,
         30.7,
         0.52,
         0
        ],
        [
         78,
         25,
         184,
         36.6,
         0.412,
         1
        ],
        [
         58,
         33,
         135,
         31.6,
         0.422,
         1
        ],
        [
         82,
         41,
         42,
         35.8,
         0.156,
         0
        ],
        [
         76,
         37,
         105,
         39.7,
         0.215,
         0
        ],
        [
         68,
         23,
         132,
         25.5,
         0.326,
         1
        ],
        [
         68,
         14,
         148,
         24.8,
         0.143,
         0
        ],
        [
         68,
         19,
         180,
         30.5,
         1.391,
         1
        ],
        [
         68,
         28,
         205,
         32.9,
         0.875,
         1
        ],
        [
         70,
         37,
         148,
         39.4,
         0.605,
         0
        ],
        [
         74,
         17,
         96,
         26.6,
         0.433,
         1
        ],
        [
         50,
         10,
         85,
         29.5,
         0.626,
         0
        ],
        [
         68,
         22,
         94,
         34.1,
         0.315,
         0
        ],
        [
         80,
         11,
         64,
         19.3,
         0.284,
         0
        ],
        [
         66,
         39,
         140,
         38.1,
         0.15,
         0
        ],
        [
         60,
         12,
         231,
         27.5,
         0.527,
         0
        ],
        [
         90,
         33,
         29,
         26.8,
         0.731,
         1
        ],
        [
         72,
         21,
         168,
         25.6,
         0.123,
         0
        ],
        [
         64,
         32,
         156,
         35.1,
         0.692,
         1
        ],
        [
         86,
         36,
         120,
         45.5,
         0.127,
         1
        ],
        [
         70,
         32,
         68,
         30.8,
         0.122,
         0
        ],
        [
         58,
         16,
         52,
         32.7,
         0.166,
         0
        ],
        [
         60,
         18,
         58,
         23.9,
         0.26,
         0
        ],
        [
         76,
         43,
         255,
         47.9,
         0.259,
         0
        ],
        [
         78,
         34,
         171,
         34.2,
         0.893,
         1
        ],
        [
         70,
         13,
         105,
         25.9,
         0.472,
         0
        ],
        [
         74,
         21,
         73,
         25.9,
         0.673,
         0
        ],
        [
         88,
         36,
         108,
         38.5,
         0.349,
         0
        ],
        [
         46,
         19,
         83,
         28.7,
         0.654,
         0
        ],
        [
         62,
         19,
         74,
         21.8,
         0.279,
         0
        ],
        [
         62,
         12,
         43,
         27.2,
         0.58,
         0
        ],
        [
         50,
         40,
         167,
         33.3,
         0.962,
         1
        ],
        [
         74,
         40,
         54,
         35.3,
         0.378,
         0
        ],
        [
         76,
         36,
         249,
         36.5,
         0.875,
         1
        ],
        [
         64,
         33,
         325,
         31.2,
         0.583,
         1
        ],
        [
         74,
         25,
         293,
         34.9,
         0.385,
         0
        ],
        [
         54,
         28,
         83,
         34.0,
         0.499,
         0
        ],
        [
         86,
         16,
         66,
         27.5,
         0.306,
         0
        ],
        [
         102,
         28,
         140,
         32.8,
         0.234,
         1
        ],
        [
         82,
         48,
         465,
         38.4,
         2.137,
         1
        ],
        [
         64,
         23,
         89,
         0.0,
         1.731,
         0
        ],
        [
         64,
         22,
         66,
         35.8,
         0.545,
         0
        ],
        [
         58,
         40,
         94,
         34.9,
         0.225,
         0
        ],
        [
         52,
         43,
         158,
         36.2,
         0.816,
         0
        ],
        [
         82,
         43,
         325,
         39.2,
         0.528,
         1
        ],
        [
         82,
         15,
         84,
         25.2,
         0.299,
         0
        ],
        [
         60,
         37,
         75,
         37.2,
         0.509,
         0
        ],
        [
         100,
         39,
         72,
         43.4,
         1.021,
         0
        ],
        [
         72,
         30,
         82,
         30.8,
         0.821,
         0
        ],
        [
         60,
         8,
         182,
         25.4,
         0.947,
         0
        ],
        [
         62,
         18,
         59,
         25.1,
         1.268,
         0
        ],
        [
         70,
         24,
         110,
         24.3,
         0.221,
         0
        ],
        [
         54,
         13,
         50,
         22.3,
         0.205,
         0
        ],
        [
         82,
         26,
         285,
         32.0,
         0.452,
         1
        ],
        [
         68,
         23,
         81,
         31.6,
         0.949,
         0
        ],
        [
         66,
         29,
         196,
         32.0,
         0.444,
         0
        ],
        [
         64,
         14,
         415,
         23.7,
         0.389,
         0
        ],
        [
         72,
         12,
         87,
         22.1,
         0.463,
         0
        ],
        [
         58,
         24,
         275,
         27.7,
         1.6,
         0
        ],
        [
         56,
         34,
         115,
         24.7,
         0.944,
         0
        ],
        [
         84,
         41,
         88,
         35.0,
         0.286,
         1
        ],
        [
         48,
         32,
         165,
         42.1,
         0.52,
         0
        ],
        [
         68,
         49,
         579,
         42.4,
         0.702,
         1
        ],
        [
         72,
         30,
         176,
         34.4,
         0.528,
         0
        ],
        [
         84,
         23,
         310,
         42.4,
         1.076,
         0
        ],
        [
         74,
         22,
         61,
         26.2,
         0.256,
         0
        ],
        [
         60,
         35,
         167,
         34.6,
         0.534,
         1
        ],
        [
         84,
         33,
         474,
         35.7,
         0.258,
         1
        ],
        [
         64,
         29,
         115,
         26.4,
         0.219,
         1
        ],
        [
         88,
         41,
         170,
         45.3,
         0.507,
         0
        ],
        [
         68,
         18,
         76,
         26.0,
         0.561,
         0
        ],
        [
         64,
         46,
         78,
         40.6,
         0.496,
         0
        ],
        [
         78,
         32,
         210,
         42.9,
         0.516,
         1
        ],
        [
         78,
         39,
         277,
         37.0,
         0.264,
         1
        ],
        [
         64,
         30,
         180,
         34.1,
         0.328,
         1
        ],
        [
         94,
         46,
         145,
         40.6,
         0.284,
         0
        ],
        [
         82,
         25,
         180,
         35.0,
         0.233,
         1
        ],
        [
         74,
         16,
         85,
         30.4,
         0.551,
         0
        ],
        [
         74,
         11,
         60,
         30.0,
         0.527,
         0
        ],
        [
         66,
         23,
         50,
         32.2,
         0.497,
         0
        ],
        [
         64,
         27,
         120,
         33.2,
         0.23,
         0
        ],
        [
         78,
         63,
         14,
         59.4,
         2.42,
         1
        ],
        [
         72,
         12,
         70,
         25.3,
         0.658,
         0
        ],
        [
         80,
         45,
         92,
         36.5,
         0.33,
         0
        ],
        [
         64,
         37,
         64,
         33.6,
         0.51,
         1
        ],
        [
         74,
         18,
         63,
         30.5,
         0.285,
         0
        ],
        [
         64,
         13,
         95,
         21.2,
         0.415,
         0
        ],
        [
         68,
         32,
         210,
         39.9,
         0.381,
         0
        ],
        [
         54,
         28,
         105,
         37.8,
         0.498,
         0
        ],
        [
         68,
         28,
         71,
         30.2,
         0.364,
         0
        ],
        [
         84,
         48,
         237,
         37.6,
         1.001,
         1
        ],
        [
         74,
         33,
         60,
         25.9,
         0.46,
         0
        ],
        [
         72,
         22,
         56,
         20.8,
         0.733,
         0
        ],
        [
         70,
         40,
         49,
         35.3,
         0.705,
         0
        ],
        [
         56,
         13,
         105,
         21.8,
         0.452,
         0
        ],
        [
         52,
         10,
         36,
         27.8,
         0.269,
         0
        ],
        [
         64,
         36,
         100,
         36.8,
         0.6,
         0
        ],
        [
         78,
         41,
         140,
         46.1,
         0.571,
         0
        ],
        [
         80,
         45,
         191,
         33.7,
         0.711,
         1
        ],
        [
         76,
         17,
         110,
         23.8,
         0.466,
         0
        ],
        [
         74,
         38,
         75,
         25.9,
         0.162,
         0
        ],
        [
         70,
         30,
         328,
         35.5,
         0.344,
         1
        ],
        [
         58,
         22,
         49,
         27.8,
         0.306,
         0
        ],
        [
         82,
         31,
         125,
         38.2,
         0.233,
         0
        ],
        [
         68,
         42,
         250,
         42.3,
         0.365,
         1
        ],
        [
         62,
         41,
         480,
         40.7,
         0.536,
         0
        ],
        [
         78,
         32,
         265,
         46.5,
         1.159,
         0
        ],
        [
         65,
         28,
         66,
         36.8,
         0.629,
         0
        ],
        [
         70,
         18,
         122,
         28.9,
         1.144,
         1
        ],
        [
         72,
         15,
         76,
         30.1,
         0.547,
         0
        ],
        [
         70,
         33,
         145,
         25.1,
         0.163,
         1
        ],
        [
         74,
         32,
         193,
         29.3,
         0.839,
         0
        ],
        [
         90,
         19,
         71,
         25.2,
         0.313,
         0
        ],
        [
         64,
         25,
         79,
         33.3,
         0.738,
         0
        ],
        [
         90,
         26,
         90,
         36.5,
         0.314,
         1
        ],
        [
         60,
         23,
         170,
         28.6,
         0.692,
         0
        ],
        [
         50,
         23,
         76,
         30.4,
         0.968,
         0
        ],
        [
         62,
         17,
         210,
         22.1,
         0.207,
         0
        ],
        [
         54,
         19,
         86,
         25.6,
         0.154,
         0
        ],
        [
         70,
         18,
         105,
         31.6,
         0.268,
         1
        ],
        [
         88,
         34,
         165,
         30.3,
         0.771,
         1
        ],
        [
         90,
         7,
         326,
         19.6,
         0.582,
         0
        ],
        [
         70,
         32,
         66,
         25.0,
         0.187,
         0
        ],
        [
         80,
         33,
         130,
         33.2,
         0.305,
         0
        ],
        [
         64,
         19,
         82,
         18.2,
         0.299,
         0
        ],
        [
         74,
         15,
         105,
         26.3,
         0.107,
         0
        ],
        [
         66,
         31,
         188,
         30.8,
         0.493,
         0
        ],
        [
         60,
         18,
         106,
         29.8,
         0.717,
         0
        ],
        [
         66,
         52,
         65,
         41.3,
         0.917,
         0
        ],
        [
         56,
         30,
         56,
         33.3,
         1.251,
         0
        ],
        [
         80,
         37,
         210,
         36.3,
         0.804,
         0
        ],
        [
         92,
         49,
         155,
         36.4,
         0.968,
         1
        ],
        [
         74,
         40,
         215,
         39.4,
         0.661,
         1
        ],
        [
         72,
         25,
         190,
         32.4,
         0.549,
         1
        ],
        [
         90,
         23,
         56,
         39.5,
         0.159,
         0
        ],
        [
         78,
         29,
         76,
         32.0,
         0.365,
         0
        ],
        [
         90,
         35,
         225,
         34.5,
         0.423,
         1
        ],
        [
         76,
         27,
         207,
         43.6,
         1.034,
         1
        ],
        [
         68,
         21,
         166,
         33.1,
         0.16,
         0
        ],
        [
         82,
         43,
         67,
         32.8,
         0.341,
         0
        ],
        [
         68,
         30,
         106,
         31.9,
         0.591,
         0
        ],
        [
         62,
         24,
         44,
         29.9,
         0.422,
         0
        ],
        [
         64,
         23,
         115,
         36.9,
         0.471,
         0
        ],
        [
         70,
         33,
         215,
         25.5,
         0.161,
         0
        ],
        [
         66,
         32,
         274,
         41.3,
         0.502,
         1
        ],
        [
         68,
         34,
         77,
         37.6,
         0.401,
         0
        ],
        [
         60,
         19,
         54,
         26.9,
         0.497,
         0
        ],
        [
         54,
         14,
         88,
         26.1,
         0.748,
         0
        ],
        [
         72,
         30,
         18,
         38.6,
         0.412,
         0
        ],
        [
         62,
         32,
         126,
         32.0,
         0.085,
         0
        ],
        [
         72,
         29,
         126,
         31.3,
         0.338,
         0
        ],
        [
         66,
         30,
         165,
         34.3,
         0.203,
         1
        ],
        [
         58,
         31,
         44,
         29.5,
         0.43,
         0
        ],
        [
         60,
         17,
         120,
         34.7,
         0.198,
         0
        ],
        [
         86,
         30,
         330,
         30.1,
         0.892,
         0
        ],
        [
         44,
         47,
         63,
         35.5,
         0.28,
         0
        ],
        [
         44,
         20,
         130,
         24.0,
         0.813,
         0
        ],
        [
         76,
         24,
         600,
         28.7,
         0.687,
         1
        ],
        [
         86,
         27,
         156,
         33.3,
         1.154,
         1
        ],
        [
         78,
         50,
         140,
         39.4,
         0.175,
         0
        ],
        [
         52,
         22,
         115,
         28.5,
         1.699,
         0
        ],
        [
         72,
         45,
         230,
         33.6,
         0.733,
         0
        ],
        [
         82,
         14,
         185,
         32.0,
         0.682,
         1
        ],
        [
         24,
         19,
         25,
         27.8,
         0.559,
         0
        ],
        [
         38,
         18,
         120,
         23.1,
         0.407,
         0
        ],
        [
         78,
         29,
         126,
         35.2,
         0.692,
         1
        ],
        [
         78,
         42,
         293,
         40.0,
         1.258,
         1
        ],
        [
         62,
         25,
         41,
         19.5,
         0.482,
         0
        ],
        [
         82,
         39,
         272,
         41.5,
         0.27,
         0
        ],
        [
         62,
         13,
         182,
         24.0,
         0.138,
         0
        ],
        [
         54,
         21,
         158,
         30.9,
         0.292,
         0
        ],
        [
         58,
         22,
         194,
         32.9,
         0.593,
         1
        ],
        [
         88,
         42,
         321,
         38.2,
         0.787,
         1
        ],
        [
         74,
         26,
         144,
         36.1,
         0.557,
         1
        ],
        [
         62,
         13,
         15,
         20.1,
         0.257,
         0
        ],
        [
         86,
         42,
         160,
         38.4,
         0.246,
         0
        ],
        [
         70,
         27,
         115,
         43.5,
         0.347,
         0
        ],
        [
         88,
         47,
         54,
         37.7,
         0.362,
         0
        ],
        [
         78,
         40,
         90,
         34.5,
         0.238,
         0
        ],
        [
         82,
         17,
         183,
         27.5,
         0.115,
         0
        ],
        [
         76,
         18,
         66,
         31.6,
         0.649,
         0
        ],
        [
         76,
         32,
         91,
         40.9,
         0.871,
         1
        ],
        [
         74,
         12,
         46,
         19.5,
         0.149,
         0
        ],
        [
         86,
         17,
         105,
         29.3,
         0.695,
         0
        ],
        [
         72,
         30,
         152,
         27.6,
         0.73,
         0
        ],
        [
         74,
         35,
         440,
         39.4,
         0.134,
         0
        ],
        [
         74,
         17,
         144,
         23.4,
         0.447,
         1
        ],
        [
         50,
         36,
         159,
         37.8,
         0.455,
         1
        ],
        [
         84,
         35,
         130,
         28.3,
         0.26,
         1
        ],
        [
         54,
         25,
         100,
         25.2,
         0.234,
         0
        ],
        [
         60,
         23,
         106,
         33.8,
         0.466,
         0
        ],
        [
         74,
         40,
         77,
         34.1,
         0.269,
         0
        ],
        [
         70,
         28,
         135,
         34.2,
         0.142,
         0
        ],
        [
         52,
         27,
         540,
         38.7,
         0.24,
         1
        ],
        [
         58,
         35,
         90,
         21.8,
         0.155,
         0
        ],
        [
         80,
         48,
         200,
         38.9,
         1.162,
         0
        ],
        [
         82,
         31,
         70,
         34.2,
         1.292,
         1
        ],
        [
         106,
         46,
         231,
         37.6,
         0.165,
         1
        ],
        [
         80,
         46,
         130,
         37.9,
         0.637,
         1
        ],
        [
         80,
         45,
         132,
         34.8,
         0.217,
         0
        ],
        [
         58,
         33,
         190,
         34.0,
         0.43,
         0
        ],
        [
         78,
         30,
         100,
         30.9,
         0.164,
         0
        ],
        [
         68,
         26,
         168,
         33.6,
         0.631,
         0
        ],
        [
         106,
         23,
         49,
         35.5,
         0.285,
         0
        ],
        [
         100,
         35,
         240,
         57.3,
         0.88,
         0
        ],
        [
         58,
         17,
         265,
         24.2,
         0.614,
         0
        ],
        [
         56,
         28,
         45,
         24.2,
         0.332,
         0
        ],
        [
         64,
         39,
         105,
         44.6,
         0.366,
         0
        ],
        [
         74,
         26,
         205,
         33.2,
         0.591,
         0
        ],
        [
         74,
         26,
         180,
         24.1,
         0.828,
         0
        ],
        [
         82,
         46,
         180,
         46.1,
         0.335,
         1
        ],
        [
         70,
         32,
         95,
         39.1,
         0.886,
         0
        ],
        [
         68,
         49,
         125,
         38.5,
         0.439,
         1
        ],
        [
         90,
         24,
         480,
         30.4,
         0.128,
         1
        ],
        [
         74,
         19,
         125,
         29.9,
         0.268,
         1
        ],
        [
         88,
         11,
         155,
         34.5,
         0.598,
         0
        ],
        [
         76,
         27,
         200,
         35.9,
         0.483,
         0
        ],
        [
         76,
         20,
         100,
         28.4,
         0.118,
         0
        ],
        [
         46,
         21,
         335,
         34.4,
         0.176,
         0
        ],
        [
         64,
         32,
         160,
         38.0,
         0.674,
         1
        ],
        [
         64,
         13,
         387,
         31.2,
         0.295,
         0
        ],
        [
         78,
         27,
         22,
         29.6,
         0.439,
         0
        ],
        [
         58,
         20,
         291,
         26.4,
         0.352,
         0
        ],
        [
         50,
         33,
         392,
         33.9,
         0.826,
         1
        ],
        [
         78,
         39,
         185,
         33.8,
         0.97,
         1
        ],
        [
         60,
         46,
         178,
         35.5,
         0.415,
         0
        ],
        [
         66,
         36,
         200,
         38.1,
         0.289,
         0
        ],
        [
         68,
         29,
         127,
         29.3,
         0.349,
         1
        ],
        [
         86,
         30,
         105,
         39.1,
         0.251,
         0
        ],
        [
         78,
         29,
         180,
         36.1,
         0.496,
         0
        ],
        [
         78,
         23,
         79,
         28.4,
         0.323,
         1
        ],
        [
         88,
         37,
         120,
         44.5,
         0.646,
         1
        ],
        [
         56,
         27,
         165,
         29.0,
         0.426,
         0
        ],
        [
         86,
         27,
         120,
         27.4,
         0.515,
         0
        ],
        [
         60,
         17,
         160,
         36.6,
         0.453,
         0
        ],
        [
         80,
         37,
         150,
         42.3,
         0.785,
         1
        ],
        [
         44,
         20,
         94,
         30.8,
         0.4,
         0
        ],
        [
         58,
         18,
         116,
         28.5,
         0.219,
         0
        ],
        [
         88,
         37,
         140,
         40.6,
         1.174,
         0
        ],
        [
         84,
         33,
         105,
         30.0,
         0.488,
         0
        ],
        [
         74,
         41,
         57,
         46.3,
         1.096,
         0
        ],
        [
         70,
         22,
         200,
         36.4,
         0.408,
         1
        ],
        [
         78,
         39,
         74,
         39.0,
         0.261,
         0
        ],
        [
         88,
         44,
         510,
         43.3,
         0.222,
         1
        ],
        [
         88,
         39,
         110,
         36.5,
         1.057,
         1
        ],
        [
         58,
         26,
         16,
         28.4,
         0.766,
         0
        ],
        [
         76,
         48,
         180,
         32.9,
         0.171,
         0
        ],
        [
         72,
         23,
         112,
         26.2,
         0.245,
         0
        ]
       ],
       "datasetInfos": [],
       "dbfsResultPath": null,
       "isJsonSchema": true,
       "metadata": {},
       "overflow": false,
       "plotOptions": {
        "customPlotOptions": {},
        "displayType": "table",
        "pivotAggregation": null,
        "pivotColumns": null,
        "xColumns": null,
        "yColumns": null
       },
       "removedWidgets": [],
       "schema": [
        {
         "metadata": "{}",
         "name": "glicemia",
         "type": "\"integer\""
        },
        {
         "metadata": "{}",
         "name": "pressao_sanguinea",
         "type": "\"integer\""
        },
        {
         "metadata": "{}",
         "name": "dobra_cutane_triceps",
         "type": "\"integer\""
        },
        {
         "metadata": "{}",
         "name": "insulina",
         "type": "\"double\""
        },
        {
         "metadata": "{}",
         "name": "imc",
         "type": "\"double\""
        },
        {
         "metadata": "{}",
         "name": "diabetes",
         "type": "\"integer\""
        }
       ],
       "type": "table"
      }
     },
     "output_type": "display_data"
    }
   ],
   "source": [
    "display(df)"
   ]
  },
  {
   "cell_type": "code",
   "execution_count": 0,
   "metadata": {
    "application/vnd.databricks.v1+cell": {
     "cellMetadata": {
      "byteLimit": 2048000,
      "rowLimit": 10000
     },
     "inputWidgets": {},
     "nuid": "515d23de-635a-4d80-8b73-0f6324076e01",
     "showTitle": false,
     "title": ""
    }
   },
   "outputs": [],
   "source": [
    "df_features=df.drop('diabetes',axis=1).to_numpy()\n",
    "df_label=df['diabetes'].to_numpy()"
   ]
  },
  {
   "cell_type": "markdown",
   "metadata": {
    "application/vnd.databricks.v1+cell": {
     "cellMetadata": {
      "byteLimit": 2048000,
      "rowLimit": 10000
     },
     "inputWidgets": {},
     "nuid": "19f0e22a-d75d-4317-9ce4-2d0dee4487e2",
     "showTitle": false,
     "title": ""
    },
    "id": "dn6U1p70qw7p"
   },
   "source": [
    "### Desafio 2\n",
    "\n",
    "Realize a divisão dos dados entre treino e teste."
   ]
  },
  {
   "cell_type": "code",
   "execution_count": 0,
   "metadata": {
    "application/vnd.databricks.v1+cell": {
     "cellMetadata": {
      "byteLimit": 2048000,
      "rowLimit": 10000
     },
     "inputWidgets": {},
     "nuid": "ab1454ce-a2a5-457e-800b-672382c58f36",
     "showTitle": false,
     "title": ""
    }
   },
   "outputs": [],
   "source": [
    "from sklearn.model_selection import train_test_split\n",
    "X, X_test, Y, Y_test = train_test_split(df_features,df_label, test_size=0.15,stratify=df_label, random_state=5)\n",
    "X_train, X_val, Y_train, Y_val = train_test_split(X,Y, stratify=Y, random_state=5)"
   ]
  },
  {
   "cell_type": "markdown",
   "metadata": {
    "application/vnd.databricks.v1+cell": {
     "cellMetadata": {
      "byteLimit": 2048000,
      "rowLimit": 10000
     },
     "inputWidgets": {},
     "nuid": "1e0eb695-8eaf-4abb-a696-5152e6ae980e",
     "showTitle": false,
     "title": ""
    },
    "id": "IcmuQBIyxHc8"
   },
   "source": [
    "### Desafio 3\n",
    "\n",
    "Crie 2 modelos utilizando os algoritmos [DecisionTreeClassifier](https://scikit-learn.org/stable/modules/generated/sklearn.tree.DecisionTreeClassifier.html) e [RandomForestClassifer](https://scikit-learn.org/stable/modules/generated/sklearn.ensemble.RandomForestClassifier.html) e avalie a acurácia de treino e teste, escolhendo valores para o parâmetro `max_depth` para os modelos não se especializarem demais no padrão dos dados de treino."
   ]
  },
  {
   "cell_type": "code",
   "execution_count": 0,
   "metadata": {
    "application/vnd.databricks.v1+cell": {
     "cellMetadata": {
      "byteLimit": 2048000,
      "rowLimit": 10000
     },
     "inputWidgets": {},
     "nuid": "1047a1c5-aa04-42c9-bd6e-a82213fde34e",
     "showTitle": false,
     "title": ""
    }
   },
   "outputs": [
    {
     "output_type": "stream",
     "name": "stdout",
     "output_type": "stream",
     "text": [
      "Acurácia DTC: 0.764\nAcurácia RTC: 0.816\n"
     ]
    }
   ],
   "source": [
    "from sklearn.tree import DecisionTreeClassifier\n",
    "from sklearn.ensemble import RandomForestClassifier\n",
    "model_DTC = DecisionTreeClassifier(max_depth=3)\n",
    "model_RTC = RandomForestClassifier(max_depth=3)\n",
    "model_DTC.fit(X_train,Y_train)\n",
    "model_RTC.fit(X_train,Y_train)\n",
    "print(f'Acurácia DTC: {model_DTC.score(X_train, Y_train)}')\n",
    "print(f'Acurácia RTC: {model_RTC.score(X_train, Y_train)}')"
   ]
  },
  {
   "cell_type": "markdown",
   "metadata": {
    "application/vnd.databricks.v1+cell": {
     "cellMetadata": {
      "byteLimit": 2048000,
      "rowLimit": 10000
     },
     "inputWidgets": {},
     "nuid": "cf5d7953-e5c1-406e-88c6-64424423fdac",
     "showTitle": false,
     "title": ""
    },
    "id": "luUySRh5xNL1"
   },
   "source": [
    "### Desafio 4\n",
    "\n",
    "Construa uma matriz de confusão para cada um dos modelos para avaliar o desempenho das previsões."
   ]
  },
  {
   "cell_type": "code",
   "execution_count": 0,
   "metadata": {
    "application/vnd.databricks.v1+cell": {
     "cellMetadata": {
      "byteLimit": 2048000,
      "rowLimit": 10000
     },
     "inputWidgets": {},
     "nuid": "977ed2a8-cada-4385-a688-a38c345ab402",
     "showTitle": false,
     "title": ""
    },
    "id": "_sufI0QkZKvu"
   },
   "outputs": [
    {
     "output_type": "display_data",
     "data": {
      "image/png": "[encoded data removed]"
     },
     "metadata": {
      "application/vnd.databricks.v1+output": {
       "addedWidgets": {},
       "arguments": {},
       "data": "data:image/png;base64,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\n",
       "datasetInfos": [],
       "metadata": {},
       "removedWidgets": [],
       "type": "image"
      }
     },
     "output_type": "display_data"
    }
   ],
   "source": [
    "from sklearn.metrics import confusion_matrix\n",
    "from sklearn.metrics import ConfusionMatrixDisplay\n",
    "y_previsto = model_DTC.predict(X_val)\n",
    "matrix_confusao = confusion_matrix(Y_val, y_previsto)\n",
    "visualizacao = ConfusionMatrixDisplay(confusion_matrix=matrix_confusao)\n",
    "visualizacao.plot();"
   ]
  },
  {
   "cell_type": "code",
   "execution_count": 0,
   "metadata": {
    "application/vnd.databricks.v1+cell": {
     "cellMetadata": {
      "byteLimit": 2048000,
      "rowLimit": 10000
     },
     "inputWidgets": {},
     "nuid": "1f03a869-099f-4cb8-884d-0269bd7b7873",
     "showTitle": false,
     "title": ""
    }
   },
   "outputs": [
    {
     "output_type": "display_data",
     "data": {
      "image/png": "[encoded data removed]"
     },
     "metadata": {
      "application/vnd.databricks.v1+output": {
       "addedWidgets": {},
       "arguments": {},
       "data": "data:image/png;base64,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\n",
       "datasetInfos": [],
       "metadata": {},
       "removedWidgets": [],
       "type": "image"
      }
     },
     "output_type": "display_data"
    }
   ],
   "source": [
    "from sklearn.metrics import confusion_matrix\n",
    "from sklearn.metrics import ConfusionMatrixDisplay\n",
    "y_previsto = model_RTC.predict(X_val)\n",
    "matrix_confusao = confusion_matrix(Y_val, y_previsto)\n",
    "visualizacao = ConfusionMatrixDisplay(confusion_matrix=matrix_confusao)\n",
    "visualizacao.plot();"
   ]
  },
  {
   "cell_type": "markdown",
   "metadata": {
    "application/vnd.databricks.v1+cell": {
     "cellMetadata": {
      "byteLimit": 2048000,
      "rowLimit": 10000
     },
     "inputWidgets": {},
     "nuid": "db0b15eb-0541-4088-9d99-a201c300d723",
     "showTitle": false,
     "title": ""
    },
    "id": "dQtdWeLPZ2qI"
   },
   "source": [
    "# Aula 2"
   ]
  },
  {
   "cell_type": "markdown",
   "metadata": {
    "application/vnd.databricks.v1+cell": {
     "cellMetadata": {
      "byteLimit": 2048000,
      "rowLimit": 10000
     },
     "inputWidgets": {},
     "nuid": "dfc46872-d1ba-48d9-b061-eb178b1abe23",
     "showTitle": false,
     "title": ""
    },
    "id": "j3gbWXPaZ6b_"
   },
   "source": [
    "### Desafio 1\n",
    "\n",
    "Extraia as métricas acurácia, recall, precisão e F1-Score dos modelos de classificação gerados no desafio da aula 1."
   ]
  },
  {
   "cell_type": "code",
   "execution_count": 0,
   "metadata": {
    "application/vnd.databricks.v1+cell": {
     "cellMetadata": {
      "byteLimit": 2048000,
      "rowLimit": 10000
     },
     "inputWidgets": {},
     "nuid": "09a6ac85-70f2-4ce3-ad10-f79d79b150e8",
     "showTitle": false,
     "title": ""
    }
   },
   "outputs": [
    {
     "output_type": "stream",
     "name": "stdout",
     "output_type": "stream",
     "text": [
      "DTC               precision    recall  f1-score   support\n\n           0       0.72      0.85      0.78        40\n           1       0.54      0.35      0.42        20\n\n    accuracy                           0.68        60\n   macro avg       0.63      0.60      0.60        60\nweighted avg       0.66      0.68      0.66        60\n\nRTC               precision    recall  f1-score   support\n\n           0       0.72      0.82      0.77        40\n           1       0.50      0.35      0.41        20\n\n    accuracy                           0.67        60\n   macro avg       0.61      0.59      0.59        60\nweighted avg       0.64      0.67      0.65        60\n\n"
     ]
    }
   ],
   "source": [
    "from sklearn.metrics import classification_report\n",
    "result_dtc = model_DTC.predict(X_test)\n",
    "result_rtc = model_RTC.predict(X_test)\n",
    "print('DTC',classification_report(Y_test, result_dtc))\n",
    "print('RTC',classification_report(Y_test, result_rtc))"
   ]
  },
  {
   "cell_type": "markdown",
   "metadata": {
    "application/vnd.databricks.v1+cell": {
     "cellMetadata": {
      "byteLimit": 2048000,
      "rowLimit": 10000
     },
     "inputWidgets": {},
     "nuid": "57e11ab4-dd2d-40ab-8fae-81a5f5f00e8c",
     "showTitle": false,
     "title": ""
    },
    "id": "Iy6nX8iQZ_JJ"
   },
   "source": [
    "### Desafio 2\n",
    "\n",
    "Obtenha a curva ROC e a métrica AUC dos modelos de classificação gerados no desafio da aula 1, comparando as curvas no mesmo gráfico.\n",
    "\n",
    "*Como uma dica, vasculhe a documentação do `Scikit-learn` a partir deste [link](https://scikit-learn.org/stable/auto_examples/release_highlights/plot_release_highlights_0_22_0.html#new-plotting-api) e verifique uma forma de apresentar os resultados das curvas no mesmo gráfico usando o matplotlib*"
   ]
  },
  {
   "cell_type": "code",
   "execution_count": 0,
   "metadata": {
    "application/vnd.databricks.v1+cell": {
     "cellMetadata": {
      "byteLimit": 2048000,
      "rowLimit": 10000
     },
     "inputWidgets": {},
     "nuid": "13ebf081-be76-4126-9fb9-dcfce23c61b6",
     "showTitle": false,
     "title": ""
    }
   },
   "outputs": [
    {
     "output_type": "display_data",
     "data": {
      "image/png": "[encoded data removed]"
     },
     "metadata": {
      "application/vnd.databricks.v1+output": {
       "addedWidgets": {},
       "arguments": {},
       "data": "data:image/png;base64,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\n",
       "datasetInfos": [],
       "metadata": {},
       "removedWidgets": [],
       "type": "image"
      }
     },
     "output_type": "display_data"
    },
    {
     "output_type": "display_data",
     "data": {
      "image/png": "[encoded data removed]"
     },
     "metadata": {
      "application/vnd.databricks.v1+output": {
       "addedWidgets": {},
       "arguments": {},
       "data": "data:image/png;base64,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\n",
       "datasetInfos": [],
       "metadata": {},
       "removedWidgets": [],
       "type": "image"
      }
     },
     "output_type": "display_data"
    }
   ],
   "source": [
    "import matplotlib.pyplot as plt\n",
    "from sklearn.datasets import make_classification\n",
    "from sklearn.metrics import RocCurveDisplay\n",
    "RTC_display=RocCurveDisplay.from_estimator(model_RTC, X_test,Y_test)\n",
    "RTC_display.figure_.suptitle(\"ROC curve comparison\")\n",
    "DTC_display=RocCurveDisplay.from_estimator(model_DTC, X_test,Y_test)\n",
    "DTC_display.figure_.suptitle(\"ROC curve comparison\")\n",
    "plt.show()"
   ]
  },
  {
   "cell_type": "markdown",
   "metadata": {
    "application/vnd.databricks.v1+cell": {
     "cellMetadata": {
      "byteLimit": 2048000,
      "rowLimit": 10000
     },
     "inputWidgets": {},
     "nuid": "84d2679d-2284-43f5-8a10-1540d3e6bc6f",
     "showTitle": false,
     "title": ""
    },
    "id": "MtAISYmrZ_VR"
   },
   "source": [
    "### Desafio 3\n",
    "\n",
    "Obtenha a curva precisão x recall e a métrica AP dos modelos de classificação gerados no desafio da aula 1, comparando as curvas no mesmo gráfico.\n",
    "\n",
    "*Como uma dica, vasculhe a documentação do `Scikit-learn` a partir deste [link](https://scikit-learn.org/stable/auto_examples/release_highlights/plot_release_highlights_0_22_0.html#new-plotting-api) e verifique uma forma de apresentar os resultados das curvas no mesmo gráfico usando o matplotlib*"
   ]
  },
  {
   "cell_type": "code",
   "execution_count": 0,
   "metadata": {
    "application/vnd.databricks.v1+cell": {
     "cellMetadata": {
      "byteLimit": 2048000,
      "rowLimit": 10000
     },
     "inputWidgets": {},
     "nuid": "88ba0695-e973-455d-b4ec-4a39c57e808c",
     "showTitle": false,
     "title": ""
    }
   },
   "outputs": [],
   "source": [
    "# (predict_proba) Retorna um array com duas colunas: uma para a probabilidade da classe negativa (0) e outra para a probabilidade da classe positiva (1). O [:, 1] seleciona a segunda coluna, que é a probabilidade da classe positiva.\n",
    "#average_precision_score calcula a média da precisão ao longo de diferentes níveis de recall. Em termos simples, é uma forma de combinar a precisão e o recall em um único número que representa a qualidade geral do modelo. "
   ]
  },
  {
   "cell_type": "code",
   "execution_count": 0,
   "metadata": {
    "application/vnd.databricks.v1+cell": {
     "cellMetadata": {
      "byteLimit": 2048000,
      "rowLimit": 10000
     },
     "inputWidgets": {},
     "nuid": "c381cf45-997b-428f-8fdc-ab1535001260",
     "showTitle": false,
     "title": ""
    }
   },
   "outputs": [
    {
     "output_type": "display_data",
     "data": {
      "image/png": "[encoded data removed]"
     },
     "metadata": {
      "application/vnd.databricks.v1+output": {
       "addedWidgets": {},
       "arguments": {},
       "data": "data:image/png;base64,iVBORw0KGgoAAAANSUhEUgAAAmEAAAG5CAYAAADGcOOUAAAAOXRFWHRTb2Z0d2FyZQBNYXRwbG90bGliIHZlcnNpb24zLjUuMSwgaHR0cHM6Ly9tYXRwbG90bGliLm9yZy/YYfK9AAAACXBIWXMAAAsTAAALEwEAmpwYAAB2IUlEQVR4nO3dd3gVVf7H8fdJIYGQhEDovbeQhBqaFEGxo669oqA/Xdvq2nftq+uuurr2hoA0e2EVGyoiSu8dEmroSSAkpCfn98dcrgESSEJuJuXzeh6eJPfOnfnOnZB8cs6Zc4y1FhERERGpWH5uFyAiIiJSEymEiYiIiLhAIUxERETEBQphIiIiIi5QCBMRERFxgUKYiIiIiAsUwkTENcaYNsYYa4wJcLuW4hhj0o0x7Uqw3RhjzD5jzAhjzBfGmPCKqK+iGWMeN8ZM8Xxe6a+fSGWmECZSDRljrjLGLPYEiN3GmG+MMYPdrqs8ecJAruccDxpjfjfGDCjv41hr61prN5dg02FAf+B2YL+1NrW8azmWMWaiMSbH8x6kGGN+MMZ08fVxRaR8KISJVDPGmHuAl4BngMZAK+B1YHQZ9lXZWzg+tNbWBRoCc4HPjDHm2I2MMf6+LsRaO8Zau9lae5G19iZfH6+Qf3veg+bATmB8BR5bRE6BQphINeLpAnsSuM1a+5m19rC1Ntda+z9r7X2ebSYaY/5R6DXDjDGJhb7eaox5wBizEjjs+fyTY47zX2PMy57PbzDGrDPGpBljNhtj/u8E9fkbY543xiQZYzYD5x5bvzFmvKf1bqcx5h8lCVDW2lxgEtAEaOA5xzeMMTONMYeB4caYZsaYT40x+40xW4wxdx5T18PGmATPeSwxxrT0PGeNMR08n59jjFnr2WanMeZez+MRxpivPPs+4Pm8RaH9NzPGzPC0VsUbY4oMacaYWsaY5caYOwrV9Zsx5tESvAeZwEdA7DHHLcs5/9cYs8MYc8jz+GknO76IlJ5CmEj1MgAIBj4/xf1ciROQ6gEfAOcYY0LB26p0GTDNs+0+4DwgDLgBeNEY06uY/d7k2bYn0Ae45JjnJwJ5QAfPNmcC405WrDEmCBgD7LDWJnkevgp4GggFfgf+B6zAaTEaAfzFGDPKs+09nnM+x3MeNwIZRRxqPPB/1tpQIAr4yfO4HzABaI3T8pgJvFrodR8AiUAzzzk/Y4w5/didW2tzgGuAJ40xXYEHAX/PeZzsPQjxnEO852u/UzjnRThhrj7Odf7YGBN8shpEpHQUwkSqlwZAkrU27xT387K1doe1NtNauw1YClzkee50IMNaOx/AWvu1tTbBOn4BvgeKazm5DHjJs+8U4J9HnjDGNMYJBH/xtODtA14ErjhBnZcZYw4CO4DehWoE+NJa+5u1tgDoATS01j5prc3xjPF6p9C+xwF/t9Zu8JzHCmttchHHywW6GWPCrLUHrLVLPe9BsrX2U2tthrU2DSc0DfWcV0tgEPCAtTbLWrsceBe4rqgTstauBv4BfAHcC1xrrc0/wXtwr+c9SAMGA9d6Hu9b1nO21k7xnFOetfYFIAjofIIaRKQMFMJEqpdkILIcxnLtOObraTitJuC0MB1pBcMYc7YxZr6nq+0gTpCKLGa/zY7Z97ZCn7cGAoHdnoH2B4G3gEYnqPMja209a20ja+3p1tolxZxDa6DZkf169v0wzpg5gJZAwgmOc8SfcM5vmzHmF+O5EcAYU8cY85YxZpsx5hAwB6jnaTVsBqR4wlnh825+guNM8tQ801q76SQ1PW+trQe0wWmBOxKWynzOxph7PV3MqZ7XhVP8NRWRMlIIE6le5gHZwIUn2OYwUKfQ102K2MYe8/XHwDDPOKeL8IQwTzfgp8DzQGNPGJgJHDc43mM3zi//I1oV+nyHp/ZIT7CqZ60Ns9Z2P8G5nEjhc9gBbCm033rW2lBr7TmFnm9/0h1au8haOxonGH6BMwYL4K844SfOWhsGDPE8boBdQP0j3bkerXAG0RfndeArYJQp4V2t1trtwF3Af40xtSnjOXvGf92P02oZ4bmmqRR/TUWkjBTCRKoRz7QIjwKvGWMu9LTQBHpaq/7t2Ww5zhiv+saYJsBfSrDf/cBsnHFPW6y16zxP1cLpqtoP5BljzsYZx1Wcj4A7jTEtjDEROGOejhxjN05X5gvGmDBjjJ8xpr0xZmiJ34DiLQTSjHOTQW3PoPQoY0xfz/PvAk8ZYzoaR7QxpkHhHXgGzV9tjAn33AhwCCjwPB2K0wp10BhTH3is0HntwBmT9k9jTLAxJhoYC0wpqlBjzLU4XatjgDuBScaYuiU5SWvtDzih7+ZTOOdQnHF5+4EAz00BYSU5voiUjkKYSDXjGcNzD/B3nF+kO3DmrvrCs8lknMHaW3FCz4cl3PU0YCSFuiI9XWx34oSrAzhdlTNOsI93gO88x18KfHbM89fhBLu1nv19AjQtYX3F8oypOg9nsPkWIAknhByZUPU/nnP4HidcjQdqF7Gra4Gtni7HW4CrPY+/5Nk+CZgPfHvM667E6S7chXPTxGPW2lnH7twY08qzr+ustenW2mnAYpyxcSX1HE5LVkAZz/k7T/0bcbpNszi+e1pEyoGx9theBxERERHxNbWEiYiIiLhAIUxERETEBQphIiIiIi5QCBMRERFxQWVfnPc4kZGRtk2bNj49xuHDhwkJCfHpMaT0dF0qH12TyknXpfLRNamcKuK6LFmyJMla27Co56pcCGvTpg2LFy/26TFmz57NsGHDfHoMKT1dl8pH16Ry0nWpfHRNKqeKuC7GmG3FPafuSBEREREXKISJiIiIuEAhTERERMQFVW5MmIhIYbm5uSQmJpKVleV2KZVGeHg469atO/mGUmF0TSqn8rwuwcHBtGjRgsDAwBK/RiFMRKq0xMREQkNDadOmDcYYt8upFNLS0ggNDXW7DClE16RyKq/rYq0lOTmZxMRE2rZtW+LXqTtSRKq0rKwsGjRooAAmIq4xxtCgQYNSt8grhIlIlacAJiJuK8vPIYUwERERERcohImIiIi4QCFMROQU+fv7ExsbS/fu3YmJieGFF16goKCgTPt69NFHmTVrVrHPv/nmm7z//vul3u93331HbGwssbGx1K1bl86dOxMbG8t1111XpjoLe/755+nSpQuxsbH07dvXW9+wYcPKbYWTxYsXc+eddwKQnZ3NyJEjiY2N5cMPP2TcuHGsXbu21Pv8y1/+wpw5c8qlvrIaM2YMn3zySZleO3v2bH7//fdy2dfYsWOJiYkhOjqaSy65hPT0dABeffVV3nvvvWJf99JLLx31/ZiXl0fDhg158MEHj9pu2LBhdO7cmZiYGAYNGsSGDRvKVGdhkyZNomPHjnTs2JFJkyYVuc3jjz9O8+bNvd/7M2fO9D73z3/+k5iYGDp37sx3330HQE5ODkOGDCEvL++U6ysRa22V+te7d2/raz///LPPjyGlp+tS+VSGa7J27Vq3S7AhISHez/fu3WtHjBhhH330UdfqOXTo0AmfHzp0qF20aNFxj+fl5ZX6WG+88YY988wzbWpqqrXW2tTUVDtx4sQTHudUzZs3z44YMaLMr8/Ly7NJSUk2Li6uHKs6seKuyfXXX28//vjjMu3zscces88991y57OvI9bPW2rvvvtv+85//tNZae/jwYRsbG1vka3Jzc22PHj1sbm6u97GZM2fagQMH2nbt2tmCggLv44W/F9566y17/vnnl6nOI5KTk23btm1tcnKyTUlJsW3btrUpKSnHbXfse3TEmjVrbHR0tN2/f7/dvHmzbdeunff7//HHH7dTpkwpU11F/TwCFttiMo1awkSk2njif2u4/K155frvif+tKVUNjRo14u233+bVV1/FWkt+fj733Xcfffv2JTo6mrfeesu77b/+9S969OhBTEyMt+WgcGvGgw8+SLdu3YiOjubee+8FnL/sn3/+eQCWL19O//79iY6O5qKLLuLAgQMAnHPOOTzwwAP069ePTp068euvvxZbb5s2bXjggQfo1asXH3/8Md9//z0DBgygV69eXHrppd4WkSVLljB06FB69+7NqFGj2L17NwDPPPMMb7zxBmFhYQCEhYVx/fXXH3ecW2+9lT59+tC9e3cee+wx7+NFnePHH39MVFQUMTExDBkyBHBafc477zz27dvHNddcw6JFi4iNjSUhIeGoFrfi6j/2PD/99FPOOuuso96Hhx56iNjYWPr06cPSpUsZNWoU7du358033wQgPT2dESNG0KtXL3r06MGXX34JwKJFi4iOjiYrK4vDhw/TvXt3Vq9eXeT7ba3l9ttvp3PnzowcOZJ9+/Z5nyvuPR42bBh33XUXsbGxREVFsXDhQrZu3cqbb77Jiy++SGxsrPcaz5kzh4EDB9KuXbtStYoduX7WWjIzM72DzOvUqUObNm1YuHDhca/56aef6NWrFwEBf8x2NX36dO666y5atWrFvHnzijzWkCFDiI+PL3FtRfnuu+8444wzqF+/PhEREZxxxhl8++23JX79l19+yRVXXEFQUBBt27alQ4cO3nO88MILmTp16inVV1I+myfMGPMecB6wz1obVcTzBvgvcA6QAYyx1i71VT0iIhWlXbt25Ofns2/fPr788kvCw8NZtGgR2dnZDBo0iDPPPJP169fz5ZdfsmDBAurUqUNKSspR+0hOTubzzz9n/fr1GGM4ePDgcce57rrreOWVVxg6dCiPPvooTzzxBC+99BLgdAstXLiQmTNn8sQTT5ywi7NBgwYsXbqUpKQkLr74YmbNmkVISAj/+te/+M9//sNDDz3EHXfcwZdffknDhg358MMP+dvf/sZLL71EWloa7dq1O+l78vTTT1O/fn3y8/MZMWIEK1eupHnz5kWe45NPPsl3331H8+bNjzvvRo0a8e677/L888/z1VdfHfVcUlIS//jHP46r/9FHHz3qPAGuv/56LrnkkqNe36pVK5YvX87dd9/NmDFj+O2338jKyiIqKopbbrmF4OBgPv/8c8LCwkhKSqJ///5ccMEF9O3blwsuuIC///3vZGZmcs011xAVddyvPQA+//xzNmzYwNq1a9m7dy/dunXjxhtvJDc3t8j3+EhXYEZGBsuXL2fOnDnceOONrF69mltuuYW6det6w+v48ePZvXs3c+fOZf369VxwwQVccsklpKWlcdpppxVZz7Rp0+jWrRsAN9xwAzNnzqRbt2688MIL3m369OnDr7/+Sr9+/Y567W+//Ubv3r29X2dlZTFr1izeeustDh48yPTp0xk4cOBxx/zf//5Hjx49jnv8ueeeKzL8DBkyhJdffvmox3bu3EnLli29X7do0YKdO3cWeY6vvvoq77//Pn369OGFF14gIiKCnTt30r9//yJfHxUVxaJFi4rcV3nz5WStE4FXgeIGL5wNdPT8iwPe8HwUESmTx87v7nYJx/n+++9ZuXKlt1UiNTWVTZs2MWvWLG644Qbq1KkDQP369Y96XXh4OMHBwYwdO5bzzjuP884776jnU1NTOXjwIEOHDgWcUHHppZd6n7/44osB6N27N1u3bj1hjZdffjkA8+fPZ+3atQwaNAhwxscMGDCADRs2sHr1as444wwA8vPzadq0aaneh48++oi3336bvLw8du/ezdq1a+nWrVuR5zho0CDGjBnDZZdd5j2Pkiiu/mPPE2D37t00bNjwqNdfcMEFAPTo0YP09HRCQ0MJDQ0lKCiIgwcPEhISwsMPP8ycOXPw8/Nj586d7N27lyZNmvDoo4/St29fgoODjwsMhc2ZM4crr7wSf39/mjVrxumnnw5w0vf4yiuvBJxAcujQoSJDOTitOH5+fnTr1o29e/cCEBoayvLly0/6/k2YMIH8/HzuuOMOPvzwQ2644QbACb7r168/bvvdu3fTtWtX79dfffUVw4cPp3bt2vzpT3/iqaee4qWXXsLf3x+Aq6++mtq1a9OmTRteeeWV4/Z33333cd999520ztK49dZbeeSRRzDG8Mgjj/DXv/71hGPcwBnjWatWrQqZYNdnIcxaO8cY0+YEm4wG3vf0l843xtQzxjS11u72VU0lkZaaQtq+LWRl9CG4Tl03SxGRKmrz5s34+/vTqFEjrLW88sorjBo16qhtjgwELk5AQAALFy7kxx9/5JNPPuHVV1/lp59+KnENQUFBgPML5WSDjENCQgCnK+qMM85g+vTpRz2/atUqunfvXmT3Ut26ddm8efMJW8O2bNnC888/z6JFi4iIiGDMmDFkZWUVe45vvvkmCxYs4Ouvv6Z3794sWbKkROdcXP3HnidA7dq1j5tY88h75ufn5/38yNd5eXlMnTqV/fv3s2TJEgIDA2nTpo13H8nJyaSnp5Obm0tWVtZRxypp7cW9x3D8HFTFzUlVuG7n1yslbgkD5/vliiuu4N///rc3hGVlZVG7du3jXnvsezh9+nTmzp1LmzZtAOc9+emnn7zBcurUqfTp06fIOqB0LWHNmzdn9uzZ3q8TExMZNmzYca9t3Lix9/ObbrrJG/SbN2/Ojh07jnp98+bNvV9nZ2cTHBxcbK3lxc0xYc2BHYW+TvQ85qr4BTM5f+1f2Bm/0u1SRKQK2r9/P7fccgu33347xhhGjRrFG2+8QW5uLgAbN27k8OHDnHHGGUyYMIGMjAyA47oj09PTSU1N5ZxzzuHFF19kxYoVRz0fHh5ORESEdyzQ5MmTva1iZdW/f39+++0373idw4cPs3HjRjp37sz+/fu9ASE3N5c1a5yxcg899BC33XYbhw4d8tZ97N2bhw4dIiQkhPDwcPbu3cs333xzwnNMSEggLi6OJ598koYNGx71y7Is9Rela9eupR6XlJqaSqNGjQgMDOTnn39m27Zt3uf+7//+j6eeeoqrr76aBx54oNh9DBkyhA8//JD8/Hx2797Nzz//DHDC9xjgww8/BGDu3LmEh4cTHh5OaGgoaWlpJ637SEtYUf+6deuGtdb7XlhrmTFjBl26dPG+fuPGjUV2rxZ+Dw8dOsSvv/7K9u3b2bp1K1u3buW1114rNhAX5b777iuyxqJaFkeNGsX333/PgQMHOHDgAN9///1xf+gA3nF14HQFHzmPCy64gA8++IDs7Gy2bNnCpk2bvN2tycnJREZGlmoNyLKqEmtHGmNuBm4GJ9UWTr/lLXX7NnoCa9auZUdKjs+OI6WXnp7u02svpVcZrkl4eHiJfhH5UmZmJtHR0eTm5hIQEMAVV1zB7bffTlpaGpdffjkbN24kNjYWay2RkZFMmzaNQYMGMWrUKHr16kWtWrU488wzeeyxx8jNzSUzM5Pdu3dzxRVXkJ2djbWWp59+mrS0NLKzswkMDCQtLY3XX3+dv/zlL2RmZtKmTRtef/110tLSsNZy+PBh0tLSSE9Px1p71HuUn5/vfd5aS3p6OkFBQQQHB/P6669z2WWXkZPj/Px75JFHaNq0KZMmTeLee+/l0KFD5OXl8ec//5lWrVpxzTXXkJycTO/evQkMDCQwMNB77keO06tXL6KioujUqRMtWrQgLi6OrKysYs/x7rvvJiEhAWstQ4cOpV27dsydO5e8vDzS0tLIyMjwfl74fE5Uf+HzBBg+fDjvvfeet4uy8PNZWVnk5OR493/kudGjR3PZZZfRvXt3evbsSadOnUhPT+ett97CGMP5559Pfn4+I0eO5KuvvjoqFOfn55OWlsbIkSP59ttv6dKlCy1btqRv375kZmaSnZ1d7Hucn5+Pn58fMTEx5Obm8tprr5GWlsbw4cO57rrr+Pzzz3nuuee83zuFr3VJ/m8UFBRwzTXXeL8foqKiePHFF72v/fXXX/nrX/963L5OO+00br75ZtLS0pg2bRqnnXYaOTk53vf+9NNP57777iMpKemo77nyEBgYyH333ecdk3b//fd7/1/cfvvt3HjjjfTq1Yu7776bVatWYYyhVatW/Pe//yUtLY1WrVoxevRo+vbtS0BAAM8995z3D6KZM2dyxhlnlKnWrKys0v1MLO62yfL4B7QBVhfz3FvAlYW+3gA0Pdk+fT1FxdLvJlv7WJiNX/GbT48jpVcZpkOQo1WGa1IZpqiobE42RYU4Bg0aZA8cOFAhxzqVa+KrqT5KYunSpfaaa64p9vkLL7zQbty4sQIrKl9FXZeLLrrIbtiwoUz7q0pTVMwArjOO/kCqdXk8mIiI1BwvvPAC27dvd7uMSi0pKYmnnnqq2OefffbZo7r8qrqcnBwuvPBCOnXqVCHH8+UUFdOBYUCkMSYReAwIBLDWvgnMxJmeIh5nioobfFWLiIjIseLifHdD/qpVq7j22mu9XxcUFFC7dm0WLFhQ6n252eV/ZFB9cTp37kznzp0rqBrfq1WrVrmsIlFSvrw78sqTPG+B23x1fBEREbf06NHjqGkhKmK6A6l6NGO+iIiIiAsUwkRERERcoBAmIiIi4gKFMBEREREXKISJiJwif39/YmNjiYqK4vzzzy92Xb/SmjhxIrfffnu57KtNmzb06NGD2NhYYmNj+f3338tlv8davnw5M2fOPOqxb775hj59+tCtWzd69uzJX//6VwAef/xxnn/++XI7duHFou+77z66d+/Offfdx5tvvnncLP4l8cUXX/Dkk0+WW31lcSrfA1u3bmXatGnlsq8333zT+/0zePBg1q5dCzh3gY4ZM6bY1y1btoyxY8ce9diFF1541OLZ4HwvNG/e3Pv/aMaMGWWqs7AlS5bQo0cPOnTowJ133uldxqmwX3/9lfDwcO//i8LX+8Ybb6RRo0bHrRZw7733lmoJsRNRCBMROUW1a9dm+fLlrF69mvr16/Paa6+5XVKRfv75Z+9SMIUDy4mcbN3JYx0bwlavXs3tt9/OlClTWLt2LYsXL6ZDhw6l2mdJFQ6Wb7/9NitXruS5557jlltuKdW0A0fO+d///jd//vOfy73OinJsCDsVV111FatWrWL58uXcf//93HPPPYBzF2hiYmKx860988wz3Hnnnd6vDx48yJIlS0hNTWXz5s1HbXv33XezfPlyPv74Y2688UYKCgpOqeZbb72Vd955h02bNrFp0ya+/fbbIrc77bTTvP8vHn30Ue/jY8aMKfI1d9xxB88+++wp1XZElVi2SESkRL55EPasKt99NukBZ5f8B+6AAQNYudJZe3bhwoXcdddd3gWQJ0yYQOfOnZk4cSIzZswgIyODhIQELrroIv79738DMGHCBP75z39Sr149YmJivMvsbN26lRtvvJGkpCQaNmzIhAkTaNWqFWPGjKF27dosW7aMffv28d577zF+/HgWL15MXFwcEydOLLbWE+0zODiYZcuWMWjQIG677TZuu+029u/fT506dXjnnXfo0qULH3/8MU888QT+/v6Eh4cza9YsHn30UTIzM5k7dy4PPfQQX3/9NX/729+8axH6+/tz6623HlfLO++8w9tvv01OTg4dOnRg8uTJ1KlT57hjzJkzhzVr1nDDDTeQk5NDQUEBn376KR07dqRu3bqkp6dzwQUXkJ6eTu/evXnooYdYt24ddevW5d577yUhIaHIczn2nG+55RaCgoKIjIwEKPJ9fv/995k3b95R7/Ott97KokWLyMzM5JJLLuGJJ54gNTWVPn368NVXX9G5c2euvPJKTj/9dG666aYir0tx3wNH1iU9EnheeuklBg0axOOPP05CQgLx8fEkJSVx//33c9NNN/Hggw+ybt06YmNjuf7664mIiGDXrl2cddZZx33fnUxYWJj388OHDx+1gPj555/PBx98wP3333/Ua9LS0li5ciUxMTHexz777DPOP/98GjduzAcffMDDDz983LG6du1KQEAASUlJNGrUqET1HWv37t0cOnTI2+J23XXX8cUXX3D22WeXeB9Dhgxh69atxz3eunVrkpOT2bNnD02aNClTfV7FTaVfWf9p2aKaqzIskSNHqwzX5KhlQmY+YO1755Tvv5kPnLSGkJAQa621eXl59pJLLrHffPONtdba1NRUm5uba6219ocffrAXX3yxtdbaCRMm2LZt29qDBw/azMxM26pVK7t9+3a7a9cu27JlS7tv3z6bnZ1tBw4caG+77TZrrbXnnXeenThxorXW2vHjx9vRo0dba629/vrr7eWXX24LCgrsF198YUNDQ+28efNsfn6+7dWrl122bJm11trWrVvbqKgoGxMTY/v163fSfZ577rk2Ly/PWmvt6aef7l2aZv78+Xb48OHWWmujoqJsYmKitdZ6l/+ZMGGCt2Zrre3Zs6ddvnx5ke/bY489Zp977jlrrbVJSUnex//2t7/Zl19+udhj3H777XbKlCnWWmuzs7NtRkbGUdfh2M8LH6e4czn2nN977z17zz33ePdR1Pu8cuXK497n5ORka63zvTB06FC7YsUKa621X3zxhe3fv7+dPn26HTVqVJHvh7X2hN8DV155pf3111+ttdZu27bNdunSxXt+0dHRNiMjw+7fv9+2aNHC7ty50/7888/23HPP9e67uO87a6297LLLbExMzHH/Jk2a5H39q6++atu1a2dbtGhx1FJFc+fOteedd95x5/LTTz95v+ePGDlypJ0zZ47dsGGDjYqKKvIazZ8/3zZt2tQWFBQct7+iahwwYMBxx160aJEdMWKE9+s5c+Yc9V4c8fXXX9v69evb6Ohoe9ZZZ9nVq1cf9fyWLVts9+7dj3vduHHj7CeffHLc46VdtkgtYSJSfZSixao8ZWZmEhsby86dO+natat3lvHU1FSuv/56Nm3ahDGG3Nxc72tGjBhBeHg4AN26dWPbtm0kJSUxbNgwGjZsCOBd/Btg3rx5fPbZZwBce+21R7U6nH/++Rhj6NGjB40bN6Z79+74+fnRvXt3tm7dSmxsLOB0Rx5p2TnZPi+99FL8/f1JT0/n999/59JLL/U+l52dDcCgQYMYM2YMl112GRdffPEpvYerV6/m73//OwcPHiQ9PZ1Ro0YVe4wBAwbw9NNPk5iYyMUXX0zHjh1LdIwTnUvhcwanJeXIdTji2Pe5R48eAEe9zx999BFvv/02eXl57N69m7Vr1xIdHc3pp5/O119/zW233caKFSuKrXHBggXFfg/MmjXLOxYL4NChQ6SnpwMwevRoateuTe3atRk+fDgLFy6kXr16x+2/qO+7li1b8uGHH570/TvSIjpt2jT+8Y9/MGnSJAAaNWrErl27jtv+2Pdw7969bNq0icGDB2OMITAwkNWrV3vHXL344otMmTKF0NBQPvzww6Na28BZdL3wBLjlISYmhm3btlG3bl1mzpzJhRdeyKZNm076uuLOubQUwkRETtGRMWEZGRmMGjWK1157jTvvvJNHHnmE4cOH8/nnn7N161aGDRvmfc2RLiZwuuhKO/aqsCP78vPzO2q/fn5+Zd5vSEgI4Cy3U69evSJ/+b355pssWLCAr7/+mt69e7NkyZLjtunevTtLliw5qkuqKGPGjOGLL74gJiaGiRMnepfqKeoYV111FXFxcXz99decc845vPXWW5x++uknPacTnUvhcwbnmqamph71/Mne5y1btvD888+zaNEiIiIiGDNmDFlZWd5jr1u3jjp16nDgwAFatGhx0nqLqn/+/PkEBwcf99yxgeXYr489Bzj6++7yyy9nw4YNx21/zz33HDee7oorrjiqS/lId/uxateu7T1/gI8++ogDBw7Qtm1bwAmR06dP5+mnnwacMWH33ntvkXWD80fE3XfffdzjderUOe5Gk+bNm5OYmOj9OjExkebNmx/32rCwMOrWrQvAOeecw5///GeSkpKO+mOlKMWdc2lpYL6ISDmpU6cOL7/8Mi+88AJ5eXmkpqZ6f/CfaGzWEXFxcfzyyy8kJyeTm5vLxx9/7H1u4MCBfPDBBwBMnTqV00477ZTrLck+w8LCaNu2rbcWa623JSchIYG4uDiefPJJGjZsyI4dOwgNDSUtLc37+vvuu49nnnnG25pTUFDAm2++edxx0tLSaNq0Kbm5uUydOtX7eFHH2Lx5M+3atePOO+9k9OjR3jF4J3OiczlW165diY+PL9F+jzh06BAhISGEh4ezd+9evvnmG+9zr732Gl27dmXatGnccMMNR7WKFnai74EzzzyTV155xft14TD55ZdfkpWVRXJyMrNnz6Zv377HXYsT+fDDD72D0wv/OxLACrcOff3110e1Pm7cuPG4Owjh+Pdw+vTpfPvtt2zdupWtW7eyZMkS7/dfSRxpCTv2X1F3+jZt2pSwsDDmz5+PtZb333+f0aNHH7fd3r17vXdNLly4kIKCAho0aHDSWoo759JSCBMRKUc9e/YkOjqa6dOnc//99/PQQw/Rs2fPErVINW3alMcff5wBAwYwaNAgunbt6n3ulVdeYcKECURHRzN58mT++9//nnKtJd3n1KlTGT9+PDExMXTv3p0vv/wScAJWjx49iIqKYuDAgcTExDB8+HDWrl1LbGwsH374IdHR0bz00ktceeWVdO3alaioqOPuigN46qmniIuLY9CgQd5B/MUd46OPPiIqKorY2FhWr15dqjsfizuXYw0ZMoRly5YVOa1BcWJiYujZsyddunThqquuYtCgQQBs2LCBSZMm8cILL3DaaacxZMgQ/vGPfxS5jxN9D7z88sssXryY6OhounXrdlSYjY6OZvjw4fTv359HHnmEZs2aER0djb+/PzExMbz44oslPo+ivPrqq3Tv3p3Y2Fj+85//eLsiwWmhOvfcc497TZcuXUhNTSUtLY2tW7eybdu2o6amaNu2LeHh4WVa1LwkXn/9dcaNG0eHDh1o3769d1D+m2++6X3vvvjiC6KiooiJieHOO+/kgw8+8LYiXnnllQwYMIANGzbQokULxo8fD0Bubi7x8fH06dPnlGs0pfkGqwz69OljFy9e7LP9L/t+Cj1/v42Ei7+hfXTJbuGWijF79uyjunPEfZXhmqxbt+6oX1SixaLLy1133cX555/PyJEjT3lfvrwmjz/+uPfuz4qWnZ3N0KFDmTt3LgEBx49wevHFFwkNDWXcuHEVXltJlOW6fP755yxdupSnnnrquOeK+nlkjFlirS0ysaklTEREpAgPP/wwGRkZbpdRqW3fvp1nn322yAAGzpQdhcehVQd5eXneCYdPlQbmi4iIFKFx48ZccMEFPtt/XFzcUXdnAkyePNl712VJPf744+VYVel07NjxhHenBgcHc+2111ZgRb5X+O7aU6UQJiJVnrW22LvBRCorX42FEneUZXiXuiNFpEoLDg4mOTm5TD8ARUTKg7WW5OTkIqcPORG1hIlIldaiRQsSExPZv3+/26VUGllZWaX+ZSC+pWtSOZXndQkODi71/G8KYSJSpQUGBnonfxTH7Nmz6dmzp9tlSCG6JpWT29dF3ZEiIiIiLlAIExEREXGBQpiIiIiICxTCRERERFygECYiIiLiAoUwERERERcohImIiIi4QCFMRERExAUKYSIiIiIuUAgTERERcYFCmIiIiIgLFMJEREREXKAQJiIiIuIChTARERERFyiEiYiIiLhAIUxERETEBQphIiIiIi5QCBMRERFxgUKYiIiIiAsUwkRERERcoBAmIiIi4gKFMBEREREXKISJiIiIuEAhTERERMQFCmEiIiIiLlAIExEREXGBQpiIiIiICxTCRERERFygECYiIiLiAoUwERERERcohImIiIi4QCFMRERExAUKYSIiIiIuUAgTERERcYFCmIiIiIgLFMJEREREXKAQJiIiIuIChTARERERFyiEiYiIiLhAIUxERETEBQphIiIiIi5QCBMRERFxgU9DmDHmLGPMBmNMvDHmwSKeb2WM+dkYs8wYs9IYc44v6xERERGpLHwWwowx/sBrwNlAN+BKY0y3Yzb7O/CRtbYncAXwuq/qEREREalMfNkS1g+It9ZuttbmAB8Ao4/ZxgJhns/DgV0+rEdERESk0gjw4b6bAzsKfZ0IxB2zzePA98aYO4AQYGRROzLG3AzcDNC4cWNmz55d3rV6pW7fRk9gzdq17EjJ8dlxpPTS09N9eu2l9HRNKiddl8pH16Rycvu6+DKElcSVwERr7QvGmAHAZGNMlLW2oPBG1tq3gbcB+vTpY4cNG+azgpblJEIidO/WjfbRA312HCm92bNn48trL6Wna1I56bpUPromlZPb18WX3ZE7gZaFvm7heaywscBHANbaeUAwEOnDmkREREQqBV+GsEVAR2NMW2NMLZyB9zOO2WY7MALAGNMVJ4Tt92FNIiIiIpWCz0KYtTYPuB34DliHcxfkGmPMk8aYCzyb/RW4yRizApgOjLHWWl/VJCIiIlJZ+HRMmLV2JjDzmMceLfT5WmCQL2sQERERqYw0Y76IiIiICxTCRERERFygECYiIiLiAoUwERERERcohImIiIi4QCFMRERExAUKYSIiIiIuUAgTERERcYFCmIiIiIgLFMJEREREXKAQJiIiIuIChTARERERFyiEiYiIiLhAIUxERETEBQphIiIiIi5QCBMRERFxgUKYiIiIiAsUwkRERERcoBAmIiIi4gKFMBEREREXKISJiIiIuEAhTERERMQFCmEiIiIiLlAIExEREXGBQpiIiIiICxTCRERERFygECYiIiLiAoUwERERERcohImIiIi4QCFMRERExAUKYSIiIiIuUAgTERERcYFCmIiIiIgLFMJEREREXKAQJiIiIuIChTARERERFyiEiYiIiLhAIUxERETEBQphIiIiIi5QCKvOlk+DGXe6XYWIiIgUQSGsusrLhlmPw/qv3a5EREREiqAQVl2t/gzS97pdhYiIiBRDIaw6shbmv+52FSIiInICCmHV0bbfYM9KCAp3uxIREREphkJYdTTvdajTALqe53YlIiIiUgyFsOomZTNsmAl9boSAYLerERERkWIohFU3C94CvwDoO87tSkREROQEFMKqk6xUWDYFov4EoU3crkZEREROQCGsOlk6GXLSof+tblciIiIiJ6EQVl3k5zldka0HQbNYt6sRERGRk1AIqy42fA2p26H/n92uREREREpAIay6mPc6RLSBzme7XYmIiIiUgEJYdbBzCeyYD3G3gJ+/29WIiIhICSiEVQfz34CgMOh5jduViIiISAkphFV1h3bBms+h57UQFOp2NSIiIlJCCmFV3cJ3wBZA3M1uVyIiIiKloBBWleVkwJIJ0OVcZ1C+iIiIVBkKYVXZiumQeQD63+Z2JSIiIlJKCmFVVUEBLHgTmvWEVv3drkZERERKSSGsqkr4EZI2OpOzGuN2NSIiIlJKPg1hxpizjDEbjDHxxpgHi9nmMmPMWmPMGmPMNF/WU63Mfx1Cm0K3C92uRERERMogwFc7Nsb4A68BZwCJwCJjzAxr7dpC23QEHgIGWWsPGGMa+aqeamXfOkj4CU5/BAJquV2NiIiIlIEvW8L6AfHW2s3W2hzgA2D0MdvcBLxmrT0AYK3d58N6qo/5r0NAbehzo9uViIiISBn5rCUMaA7sKPR1IhB3zDadAIwxvwH+wOPW2m+P3ZEx5mbgZoDGjRsze/ZsX9QLQOr2bfQE1qxdy46UHJ8dp6wCc1IZsGw6e5qczsaFK0+4bcddu2iYm8vvPny/KlJ6erpPr72Unq5J5aTrUvnomlRObl8XX4awkh6/IzAMaAHMMcb0sNYeLLyRtfZt4G2APn362GHDhvmsoGU5iZAI3bt1o330QJ8dp8x+eQ5sLs0ufopmDTufeNv0GXAwEF++XxVp9uzZ1eZcqgtdk8pJ16Xy0TWpnNy+Lr7sjtwJtCz0dQvPY4UlAjOstbnW2i3ARpxQJkXJy4ZF70CHkXCyACYiIiKVmi9bwhYBHY0xbXHC1xXAVcds8wVwJTDBGBOJ0z252Yc1VW1rPof0vdD/dbcrEanyCgosm/amsW3FbGpv/II9gS2xfccxuEMkzerVdrs8EakBfBbCrLV5xpjbge9wxnu9Z61dY4x5ElhsrZ3hee5MY8xaIB+4z1qb7KuaqjRrYd5r0LALtB/hdjUiVU5aVi4rdqSyZNsB9sYvpd2emZxl53KmSQIgnlaM/KQfAO0ahjC4QySDOkQyoH0DwoID3SxdRKopn44Js9bOBGYe89ijhT63wD2ef3Ii236HPSvh/P9qclaRk7DWsj0lgyXbDrB0+wGWbDtI+p4Ezvf7nQv8f6eL3w7y8Wd/44Hsj76UyC1f0j5tN99efBpzNyXxW3wSnyxJ5P152/AzENOyHqd5QlnPVhHUCtA81yJy6twemC8lNf91qF0foi93uxKRSicrN5/VO51WriPBKyk9hwakclHQIv4bNJ9OQc4UhXkt4iD6Lvy7X0STkEhnBzt/AKBLkzC6NAlj3GntyMkrYNn2A8yNT2JufBKv/hzPyz/FU6eWP3Ft6zO4Y0MGd4ikU+O6GP1hJCJloBBWFaRshvVfw2l/hUCNVRHZdyjLG7iWbD/A6p2p5OZbALrVh3sarWJYvV9omrwAY/MhIgqiHoOoPxEQ0bpEx6gV4EdcuwbEtWvAX8/sTGpmLvM3J3tbyn7e4IS6hqFBDO4Q6e2+bBIe7LPzFpHqRSGsKljwNvgFQN9xblciUuHy8gtYvyetUNfiARIPZAJOUIppEc5NA5tzRuAquiV9R9Dm72FXFtRrBYP/AlGXQONup1xHeO1ARnVvwqjuTQDYeTCT3zY5rWRzNu7n82XOzd8dGtX1hrL+7RtQN0g/ZkWkaPrpUNllpcKyyRB1MYQ1dbsaEZ87mJHDsu0HvS1dKxIPkpGTD0DjsCD6tK7PDYPa0qtFKFG5qwhcOw1WzoDsVKgTCb2ugx6XQou+Ph0/2bxebS7r25LL+rakoMCyfk8ac+P3Mzc+mQ8WbWfi71sJ8DPEtqzH4I5OKItpWY9Af40nExGHQlhlt3Qy5KRD/1vdrkSk3BUUWDYnHWZpoa7F+H3pAPj7Gbo1DeOyPi3p1TqC3q0jaBYWhNm9DFa9DZ98Bul7oFYodD0felwCbYeCf8X/WPPzM3RrFka3ZmHcPKQ9Wbn5LN1+wNt1+d8fN/HSrE3UDQqgf7v6TktZx0jaN9R4MpGaTCGsMsvPgwVvQauB0Kyn29WInLKMnDxW7Ej1disu3X6Agxm5gNPd17t1BBf1bE6vVhHEtAynTi3Pj6j9G2HZRFj1sTNG0r8WdDzTafHqNKrSjZUMDvRnYPtIBrZ3Bv4fzMhhXkKyd5D/rHXOMrlNwoIZ1CGSwR0bMKhDJI1CNZ5MpCZRCKvMNnwNqdvhrGfcrkSk1Ky17DyY6YQtTyvXut1p5Bc4A+g7NqrLqG5N6N06gl6tI2gXGYKfX6FWoaxDsOhjWPo+7F4Oxg/aDoHB9zgtX7XruXJeZVGvTi3O7tGUs3s4Qwp2pGR4A9lP6/fy6dJEADo3DvV2XfZrW58QjScTqdb0P7wym/8G1GsNnc9xuxKRk8rJK2DNrtSjBtDvPZQNQJ1a/sS2rMefh7WnV+sIerasR706tY7fibWwcwksmQirP4XcDGjcA856FrpfBKFNKvakfKRl/Tpc2a8VV/ZrRUGBZe3uQ/zq6bqcPH8b4+duIdDf0LNVhDM/WcdIopuHE6DxZCLVikJYZbVzKWyfB6P+CX7+blcjcpyk9GyW7s1j3jfrWLrtACsSU8nJKwCgRURt+rdr4LRytYqgS5PQEweIzINOV+OSibB3NQSGOF2Nvcc4XfHVeNyUn58hqnk4Uc3DuXWYM55s8dYD/Bq/n9/ik/jPrI288MNGQoMDGNCugbelrG1kiMaTnQpr4eA2SFwMLfpARBu3K5IaSCGsspr/ujPguOc1blciQn6BZePeP6aJWLrtAFuTMwAI9N9CVPNwruvf2tu12DisBGObrIXERZ5Wr88gLxOaxsJ5LzmD7INCfXlKlVZwoL8TtDo648lSDufwe4LTSvbrpiS+X7sXgGbhwQzu6MxNNqhDJJF1g9wsu/LLz3MC/vb5sGO+8zFtt/Nc7NVwodbklYpXohBmjBkEPA609rzG4Kw61M53pdVgh3Y5i3X3uxmCw9yuRmqgQ1m5LPdME7F0+wGWbT9IenYeAJF1a9G7dQRX9muFX8pWrj1vGMGBpWitzTwAKz50wtf+dc4fG7FXQq/roVmsT86nKqsfUovzoptxXnQz73JMR7ouv129h48WO+PJujYN4zRPKMv2TFxbo2Wnw87FTtjaPt8J/DnOnbeEt4TWg6BVf5jzPOTnuFur1FglbQkbD9wNLMFZaFt8aeE7YAsg7v/crkRqAGst25IzvFNELN12gA1707AW/Ax0bhLGhT2b0bt1BL1b1adl/drebrDZs3eULIBZ6/wiXDIR1n4BeVnQvDdc8Ap0vxiC6vr0HKsLYwytG4TQukEI1/RvTX6BZfXOVGeQ/6YkJv62lbfnbCbAQN+E+d6uy6jm4fj7VfOuy7Q9fwSu7fNgzyqw+YCBxlEQcwW0GgAt46Beyz9eN18tYOKekoawVGvtNz6tRBw5GbBkgjMYX2MUxAeycvNZmVhomohtB0g+7LQEhAYF0LN1BGdHNaV3a2eaiNDgwLIfLCMFVkyHJZMgaQMEhTld7L2uh6bR5XRGNZe/nyGmZT1iWtbjtuEdyMjJY9HWA0z/aRnbMnN57rsNPPfdBsJrBzKwvTMNxmkdI2lVv07VHk9WUABJG//oVtw+Dw5sdZ4LqO2M8TrtHmjZH1r2heBwV8sVKU5JQ9jPxpjngM+A7CMPWmuX+qSqmmzlB053zYDb3K5Eqok9qUevs7h21x/rLLaNDGFY50ZOK1frCDo2qnv0NBFlYS1s+83T6vWl09XToh+Mfh26Xwi1Qk75nKRodWoFMLRTQ+yuWgwbdhpJ6dn8Fu90Xc7dlMQ3q/cAzo0TR7ouB7WPJCKkiDtVK5O8bNi17I+Wrh3znZ+T4KyS0Ko/9L3Jaelq0gMCKvn5iHiUNITFeT72KfSYBU4v33JquIICZ1qKprHODxORMpq9YR+fLt3J0m0H2HnQWWcxKMCPmJb1GHdaO3q3iqBnq3o0KM/B3IeTPK1eEyE53ml96H0D9L4eGncvv+NIiUXWDWJ0bHNGxzbHWsuWpMPersuvVuxm+sIdGAPdm4UxuENDBneIpE+biNKN8fOF7HQnbG2b63zcuRTyPX//N+gIXc51fka2GgD121Xru2eleitRCLPWDvd1IQIk/OQ0sV/0tn6oSJl9s2o3t01bSoO6QfRrW5+xg9vSu3UEXZuGUSugnOeZsgWw+RcneK37HxTkOr8Yh9wH3UZXupnsazJjDO0a1qVdw7pcN6ANefkFrNyZym+bkvg1Ponxczfz5i8JBAX40bdNfW/XZbemYafeOnoyOYedsLX1V9g61wldNh/8ApwpSvrd9Md4rroNfVuLSAUq6d2R4cBjwBDPQ78AT1prU31VWI00/zWo28SZlFKkDH7esI87P1hGz1YRvH9jP9/NuJ6dDsum0G/hS/DLbgiu5/yi7HU9NOrim2NKuQrw96NXK2cetztGdORwdh4Lt6R4W8r+9e16/vUtRNQJZGAHZ4D/4A6RtKxf59QPnpMBOxYUCl1LoCDPCV3Ne8Pgv0Cb06BlP3VfS7VW0p/Q7wGrgcs8X18LTAAu9kVRNdK+dU5L2Ol/13gGKZN5CcncMnkJnZuE8t6Yvr4JYGl7YOHbsGg8ZB0kN6wLnP0kdL0AArXuYVUWEhTA8C6NGN6lEQD7DmXxW0ISczclMzd+P1+vdObUat2gjjeQDWjfoOiVD46Vm+kJXXNhy6+e0JULxh+a94KBd3hCV5zulJUapaQ/pdtba/9U6OsnjDHLfVBPzTX/DQgIht43ul2JVEFLtx9g7KRFtKpfh/dvjCO89inc0ViUfeth3iuw8iPIz3XWbhx4J8sSDjMselj5HksqhUZhwVzUswUX9WyBtZaE/ene+cm+XL6LqQu2YwxENw/3LEIeSe/WEQQF+DuhK3FRodC12LlBw/g7c8ENuM0JXa3iauykvCJQ8hCWaYwZbK2dC97JWzN9V1YNczgZVn7ozGMT0sDtaqSKWbMrlTHvLaRhaBBTx8VRv7zudLPW+SX6+yuw6Tvn1v9e18OAPzuDoQESZpfPsao7a53Z2vdvgKg/Vbkxn8YYOjQKpUOjUG4Y1Jbc/AJW7Djo7bqcMGc9S36J57TAtYyovYmOuesJKMjBGj9M0xiIu8UTuvprAmqRQkoawm4FJnnGhhkgBRjjq6JqnCXvOZNXxt3qdiVSxcTvS+O68QupGxTA1HFxNCrJckEnk58H6750wteuZc4UAMP/Bn3G6o+E0rDWGWC+7ktYOwMObHEebxxV5cfNBdo8+rCOPgFz+UvtX7G1F2Lys7EYNuW2472cM5hf0JWE4B7EhLZmcEQkgxpF0jxYN2qIFFbSuyOXAzHGmDDP14d8WVSNkpcDC9+F9iOq/A9mqVjbkzO4+t0FGGOYelN/WkSc4oBpz2B75r8GB7dDgw7OOo4xV+gux5IqyHfGPq2d4dwteijRGWzedgi0HgjLp1bNJXKsde7cTvjJ+bf1N8g9DBho0gPTdxy0GYxpPZBOtesRlppF/SPzk8UnMWPFLgDaRYZ4uy77t2tQ/t3mIlXMCUOYMeYaa+0UY8w9xzwOgLX2Pz6srWZY8xmk74HRr7ldiVQhu1Mzuerd+WTnFfDhzQNoG3kKd5AdM9ieVgPgrGeh09ngV85TWlRH+XnOfFZrZ8D6ryB9L/gHQfvT4fS/QeezoXYErPvKCWFVxeFk2DLbE7x+hkM7ncfrt4fYq6DdMCdY1ql/3EubhAdzSe8WXNLbGU+2cW+6p+tyP58uTWTy/G34GYhpWc87yL9nq4jyn0JFyl9GijOOz18BujycrCXsyE92jZz0BWth3msQ2Rk6jHC7Gqki9qdlc/U7C0jNyGXaTf3p3KSM/z2LGWxPy77lW3B1lJcDm2c7XY3rZ0JmCgTWgY5nOHeKdhpV9Qac5+U4rXhHWrt2rwCsM+lu26HO3G/th5d6OTVjDJ2bhNK5SShjB7clJ6+AZdsP8Fu8Mz/Zaz/H88pP8dSp5U9c2/relrLOjUOr9tJK1UHaHuf7oPC/1B3OuMZL3iu/4+Rlw/71sGe1M3ZyzypnypLrZlT72QJOGMKstW95Pj5RMeXUMNt+hz0rnS4f/bCREjiYkcO14xewOzWL98f2o0eLUq6Jd2RJod9eLjTY/jro/2do0N43RVcXuZkQ/6OzFNPGbyH7ENQKhc5nOcGrw0ioVQ5zaFUUayFpU6EuxrlOF6Pxd+bnGv6w05rXrCf4ld8M+rUC/Ihr14C4dg2458zOpGbmMn9zsndppZ83rAOc2f4Hd2jA4I7OTP5NwjUFis9Y6wxBKBy29qx0WnUBMM7whJZxTpf74aSyHyt9P+xdVShwrXbWlS3Ic54PqA2160HabuePm9Amp3p2lVpJJ2v9N/APnDsivwWigbuttVN8WFv1N/91p5si+nK3K5EqIC0rl+snLGLz/sO8N6Yvfdsc3w1UrKIG2w97GPqO02D7E8lOg03fO12Nm35wQkrtCCd0dbvA6ZILKMeln3ztZF2M7U+HNoMr9A7G8NqBjOrehFHdnV+2Ow9m8tsmZyzZr5uS+GK5M56sQ6O63q7LuHb1T21h+ZqsoABSEo5v4co66Dxv/KFRV+ePiibR0DQGmkT90bI7flTJjpOf5yxfdqRl68hHb7ADQps5a312Psu5YaVJD+fO66WT4Ku7y/W0K6uS3h15prX2fmPMRcBWnEla5wAKYWWVsgXWfw2n3VO1/noWV2Tm5DN20mLW7EzlzWt6M7hjZMleqMH2pZd5EDZ8A+tmOC1f+dkQ0hCiL3OWYmozuOqMh8nLgcSFf7R27VpOeXQx+lLzerW5rG9LLuvbkoICy/o9ad6uyw8WbWfi71vx9zP0bFnPu7RSTMt6BPprPNlx8vOcVqajWrhWQU6687x/EDTuBt0vdMJW0xho1L30Ey9nHoS9a44OXPvWOXf9A/gFOjeetR/hBLojgauI8YQ1TUlD2JHtzgU+ttamqq/+FC14y2ni7zvO7UqkksvOy+f/pixh0dYUXr6iJyO7NT75i9L2wsK3/hhs37K/BtufTPpemPInZy3MglwIaw59bnBavVr1L9cuOZ+xFpLjaZ74P5j6eoV1MfqKn5+hW7MwujUL46Yh7cjOy2fJtgPersuXf9rEf3/cRN2gAPq384wn6xBJh0Z1K9d4sowUamUf8O0x8rKdIFQ4cO1b+0cQCgxxgk/s1X8Eroady/YHRdpu+PkZT5fiKucPvCPqNHCO03ec87FxFER2qvZju8qqpCHsK2PMepzuyFuNMQ2BLN+VVc1ZCyumOX9VhzVzuxqpxHLzC7hj2jLmbNzPv/8UzfkxJ/l+yUiB31+G+W86P3y7nu8sCdOyX8UUXFXVCoWMZGeMVP9boNuF0KxX1QiseTnOOL+N3zlj1Q5soSMU6mIc7kyUWg0mSQ0K8Gdg+0gGto/kvlHOGMl5CcnM9UyHMWvdPgAahwV5W8kGtY8sn/nzSio/D/avc1YM2LHI+Zi8iX7+IXDmheUz/rcg35n4d9dSZy66XUudAHZk+pPgcCdk9bsJmngCV4P25RO8a4XAjvkw5zmnZb1FX+h9wx+BK7SJxjiXQknnCXvQMy4s1Vqbb4w5DIz2bWnVWNoeyEp1WidEipFfYLn34xV8v3Yvj5/fjcv6tix+4+x0WPAG/PaKM2A8+jIY+oAG25fUqKdh0J3QsEvV+AWSvt8Zq7bxW2dsV06a07XUbigMvJ35SaH0P7v6jzWtV6cWZ/doytk9mgKwIyXD23X58/p9fLbUGfPWuXGoN5T1a1u/fNdVTd/vBK0j/3Yu9cyhhjP2smU/CIkkYPs85w/w0n5/WQspm52xnLuWOfvfveKPY9QKdZaC6n+r08LZrCfUa+277+ML33DGEjbsoqE05eBk84Sdbq39yRhzcaHHCm/yma8Kq9ZSEpyP+gUpxbDW8vcvVvHl8l3cf1ZnxgxqW/SGuVmwZALMeR4ykqDzuc7cVI27V2zBVV2d+pV7fIq1zt1qGz3Ba+cSwDoDm3tc4kyJ0XaI00oBZM2e7Wq5bmlZvw5X9GvFFf1aUVBgWbv7kHdppSkLtvHeb1sI9Df0bBXB4A6RDOoQSS+cZWBKJD/XGfOUuNgZa5e4CA5sdZ7zC3Bag3peDS36QYs+zlg7Y2D2v2D7vJId49CuP1q3di51gteRQfMBwZ5jXOMsfN6sl9MaVZEttqGNnX9SLk7258BQ4Cfg/CKesyiElU1yvPOxQQd365BKyVrLU1+tY/rCHdw+vAN/HlbE90l+HqyYDrOfdWZlbzsERjzm/OCX6iEnA7b84oSujd9D2i7AQPPezjJSnUY5v5CrQsudC/z8DFHNw4lqHs4tQ9uTlZvP4q0HvF2XL87ayH9+2MgvQRnsyUlhw7ytDOoQSbvIkD8aGw7t+qOFa8ci2L38jzFWoU2drrg+Y53WrqYxpb/ZJSPlj8B1pJUrfY/znPF3Bs13G/1H4GrUtercFCIlcrJ5wh7zfLyhYsqpIZLjwb8WhLdwuxKphF78YSPv/baFGwa14a9ndjr6yYICWPsF/Py0833UvDdc+JozVYJUfQd3OPO3bfwOtsxxfuHXqusMpu90ljMZbN1GbldZJQUH+jO4Y6T3zuKUw854spCvAkjNzOXpL5fR3WxlWJ2tDA3ZRsfcddTJ9AQi/1rQNNYZbN6ijxO+yvLze9tc5w7VI61cB7f98VyDjk53crNeTuhq0kN3MNcAJZ0n7Bng39bag56vI4C/Wmv/7sPaqq/kzc5cKFXg7iSpWG/MTuDln+K5om9LHj2v2x9/kVsL8bPgxyedbqmGXeGKadD5HLWEVGUF+U7X1sZvneC1b43zeERb6HOj09rVaqDuLPOB+iG1ODe6KcyuxZnpS1lfZx6mIBfyYeehhszK78CygjNIqR9L00596N+pGXFtG1C7Vhl+bhtPd+EkT6dSeCto3tO5xs16OmO6gks58bJUCyUdnXi2tfbhI19Yaw8YY84BFMLKIjleXZFynPfnbeVf367ngphmPH1Rjz8C2LbfnfC1fZ4z4Pait51xQArxVVNWKqz+zAldm753ZgU3/s46jGf+w2nxatBB4bqidBwFe1ZiWvR1Wrha9KFJSGNa70xlR3wS6zcl8c383bz5205q+fvRq3U9TuvYkEEdIunRPBx/vxJcp5grSNi2g/b9z3NCV92Gvj8vqRJKGsL8jTFB1tpsAGNMbaAKTRNdiRTkw4Etzl+4Ih4fL97Bo1+u4YxujXnhshjnB/vuFfDjUxD/A9RtAue+AD2vU6tIVTfpPOdj7fpO92KnUc4klrXruVpWjXX2s8c95I+zuHhMy3rcNrwDmTn5LNya4p2f7LnvNvDcdxsICw5gYHuni3Nwh0haN6hT9Pxk9Vqyo9XFtO80zOenI1VLSUPYVOBHY8wEz9c3AJN8U1I1l7rDmctFd0aKx1crd/HApys5rWMkr17Vk8CUeGfM19ovnCVyzngS+t6k28GruqYxztiuprFOa1eLPmrNrCJq1/JnaKeGDO3ktGAlpWfze0IyczftZ+6mJL5d44wdaxFR21laqaMzl1n9EP3BJCdW0nnC/mWMWQGM9Dz0lLX2O9+VVY0lH5meQt2RAj+u28tfPlhOn9b1eeeCxgR9fScsn+YsYjvkfhh4u8aKVBf1WsK1n7tdhZSDyLpBXBDTjAtimmGtZUvSYWd+sk1JfL1qNx8s2gFA92Zh3layw7mW1IxccvILyM0vIC/fFvn5iZ7Ly7fk5hc4X+dZ8gqO/rzAWmJbRjC8c0Ma1FVnVVVQmhnr1gF51tpZxpg6xphQa22arwqrto6EsPpqCavp5m5K4tapSxnYJJ93m39GrTcnAgbiboXBd2vciEgVYIyhXcO6tGtYl2sHtCEvv4CVO1O9i5C/N3cLb/2y2dn4x+/L+dgQ6O9HLX8/Av0NeQWWKfO3Ywz0bhXByG6NGdm1Ee0bVrJlnMSrpHdH3gTcDNQH2gPNgTeBEb4rrZpKSXDW8Apt4nYl4qLFW1O45/1feCLkW65I+wqzNNuZ5HHoA5q6RKQKC/D3o1erCHq1iuCOER05nJ3Hwq0pfPv7Cjp17EAtf0Ogvx8BnuDkBCg/Ao58HuBHgJ+zTa0Az3N+5o/PC73m2JsCrLWs3nmIH9bt5cd1e3n2m/U8+8162jSow4iujRnZtTF920QQoMXOK42StoTdBvQDFgBYazcZYzRZTVkkx0ODdrrzqQZbvWU3cyc+yY/+XxKafRi6X+xMvhmpLmqR6iYkKIDhnRthdgcybHAxK1+UE2MMPVqE06NFOPec0YldBzP5cf0+Zq3dy+R52xg/dwvhtQMZ1rkhI7s2ZmjnhoQFa/JXN5U0hGVba3OONGcaYwJwZsyX0kpOcOaEkZrHWnbNnUyjHx/lL+YAWW1HwpmPQdNotysTkWqoWb3aXNu/Ndf2b016dh5zN+3nh7X7+HnDPr5cvosAP0Ncu/qM9LSStayvm38qWklD2C/GmIeB2saYM4A/A//zXVnVVF6OM0Nyj0vcrkQq2v6NZH55N80S57LGdKDg4gk06THc7apEpIaoGxTAWVFNOSuqKfkFlmXbDzBr3T5mrdvLE/9byxP/W0vnxqGM6NqIkd0aE9uiHn4lmQNNTklJQ9gDwDhgFfB/wEzgXV8VVW0d3Aa2QIPya5KcDPj1eexvL5NbUIv/mJu47Oa/06RpPbcrE5Eayt/P0KdNffq0qc+DZ3dha9JhZq3by6x1e3lrzmZen51AZN0gTu/idFsO7hhJnVqluY9PSuqk76oxxh9YY63tArzj+5KqMS3cXbNs/A5m3gsHt/N9wDD+WXAVr447i45NNeWEiFQebSJDGHdaO8ad1o7UjFxmb9zHrHX7+Gb1Hj5anEhQgB+DOkQysmtjRnRtROOwYLdLrjZOGsKstfnGmA3GmFbW2u0VUVS15Q1hagmr1g7ugG8fhPVfkd+gE/eHPMM3ae2ZPDaOqOYKYCJSeYXXCWR0bHNGxzYnN7+ARVtS+MHTSvbT+n3wOXRtGkb/dvWJa9uAuLb1idCktGVW0vbFCGCNMWYhcPjIg9baC3xSVXWVnODMgF6nvtuViC/k58L812H2s2AtWUMf4YpVvViXms2EG/rQu3WE2xWKiJRYoL8fAztEMrBDJI+e141N+9L5Ye1efk9IYvrC7Uz4bSsAXZqE0r+dE8j6ta2viWJLoaQh7BGfVlFTJMdrPFh1te13+Ooe2L8OOp9D5oinuebTPazZe5C3r+3DwPaRblcoIlJmxhg6NQ6lU+NQbhvegZy8AlYmHmT+5mQWbEnhw0U7mPj7VgA6Na7rCWUNiGtXn0iFsmKdMIQZY4KBW4AOOIPyx1tr8yqisGopZTO0Oc3tKqQ8HU6C7x+BFdMgvCVcMZ2s9qMYN2kRy7Yf4NWrejG8i6bUE5HqpVaAn3dw/+1ATl4Bq3amekPZJ0sSeX/eNgA6NKr7R/dlu/o0CtWYsiNO1hI2CcgFfgXOBroBd/m6qGopJwMO7dR4sOqioACWToJZj0NOurPM0JD7yPWvzW2Tl/BbfDIvXBrDOT2aul2piIjP1Qrwo3frCHq3juC24ZCbX8DqnanM35zCgi3JfL50J1PmO8PK2zUM8XZf9m/XoEYP9D9ZCOtmre0BYIwZDyz0fUnVVIpn7TCFsKpv9wqn63HnYmg9GM59ARp1Ib/A8pcPlvHj+n08dWEUf+qt5YdEpGYK9PejZ6sIeraK4NZh7cnLL2DNrkPelrL/Ld/FtAVOKGsbGXJUS1lN+tP1ZCEs98gn1to8LQB6Co7cGakxYVVX1iH4+RlY+BbUrg8XvQXRl4MxFBRYHvh0JV+v3M3D53Th2v6t3a5WRKTSCPD3I6ZlPWJa1uP/hrYnv8Cy1hvKkvlq5W6mL9wBwO1hG7kXyM7Lp7qPJjtZCIsxxhzyfG5wZsw/5PncWmvDfFpddZKS4Hysbi1huZmw8kOIvgICq2mTsrWw5jP49mFI3wt9boARjzp3uuIsmvvE/9bwyZJE7hrRkZuHVLNrLCJSzvz9/ljn8qYh7cgvsKzb7YSyWssXQjK89nMC91zc3O1SfeqEIcxa619RhVR7yQlQtzEEhbpdSfmaeS8smwL1WkH7092upvwlJzjnmPATNI2BK6ZBi97ep621/OvbDUyat42bTmvLX0Z2dLFYEZGqyd/PENU83JlLsXZr+AqmL9xOVOc9nNm9idvl+YzWIagoyQnVb6b8pZOdAAbOQPXqJDcL5r7o/AsIgrOfg75jwe/ov0te+zmeN39J4Oq4Vjx8TlfUZS8iUj66Ng3j3o9XMLNZGC0iqufi4n5uF1BjJMdXr67I3SucFqKwathUHD8LXu8PvzwLXc+H2xdB3M3HBbDxc7fw/Pcbubhnc54aHaUAJiJSjp65KApr4Y7py8jNr2Z/6HsohFWEzIOQkVR9BuVnHoSPrnMGp5/zvNvVlJ+0Pc55TfmTE7iu/QIuGQ+hxzeFT1+4nae+WstZ3Zvw70ui8fNTABMRKU8tIurwzz/1YNn2gzz/3Qa3y/EJdUdWBO+g/GrQHVlQAF/cCqmJMGYmmGqS4zd8C1/+GXIOw/C/w6A7nW7IIny5fCcPf76KYZ0b8vKVPQnwrybvgYhIJXNedDPmJSTz1pzN9G/XoNpNfq3fHhUhuRrdGfn7f2HDTDjzH9Aqzu1qTl1uFsy8H6ZfDqHN4P/mwND7ig1g363Zwz0frSCubX3evKY3tQL0X0hExJceOa8bXZqEcs9Hy9mdmul2OeVKv0EqQnICYCCirduVnJotv8KPT0L3iyDuFrerOXX71sO7I5x5v+JuhXGzoGHnYjf/ZeN+7pi2jB7Nw3n3+r4EB+rmYRERXwsO9Oe1q3uRnVfAXdOXk3eq48MOJzm/zxa+Q920+PIpsox82h1pjDkL+C/gD7xrrX22mO3+BHwC9LXWLvZlTa5IjnfWFazK82il7YFPbnTGtV3wClTlQejWwpIJzrxftULgqo+h05knfMmCzcn83+TFtG9Ul0k39KNukHryRUQqSvuGdXnmoh785cPlvDRrE/eOKv4PZq+MFNi3Dvavc/7o3r/e+TojybtJgzZXAeN8V/hJ+Ow3iTHGH3gNOANIBBYZY2ZYa9ces10oznqUC3xVi+tSEqp2V2R+Lnx8g7NG4vUzqvZcZxkp8L87Yd3/oN1wuOjNIgfeF7Z8x0HGTlpM83q1mTy2H+F1AiuoWBEROeLCns2Zl5DMa7PjiWtXn9M6NnSeyDzgCVnrjv54eN8fL64VCo26QOezoVFXaNgFGnVl25INuNlH5cs/5/sB8dbazQDGmA+A0cDaY7Z7CvgXcJ8Pa3GPtU53ZPRlbldSdj8+Adt/h4vfcb55K5q1sPAdwg/mAsPKvp+tv8FnN0H6PjjjKRhwO/iduEd+3e5DXP/eQiJCApk6rj+Rdav7IhoiIpVUVipP9kqnScJv7Jg2lZyWadRK2Qjpe/7YplZdZ1hJxzOd0NWwq/MxrHnRPThmY8XVXwRfhrDmwI5CXycCR43kNsb0Alpaa782xhQbwowxNwM3AzRu3JjZs2eXf7Ueqdu30RNYs3YtO1JyTnl/gTkHGZR9iE0HYKcP6y5Kx127aJiby++ncNzI/fOIWvMKO5udzaaURnDMvsJSN9ALWLlyJSk7y//byRTk02njazTd8yON6g9k9uzuZdpH620f0HrbJ2TWbsy62H+SltsR5sw54et2pxfwz4WZ+BvDnVEBrF82n/VlPZFqKj093af/H6VsdF0qH12Tkmu6ayOdgfgvniUoO4WQw9sJObydoJxkgoC7gQwbxNbE5oQ27EpGo1EcDmnF4ZBWZAdF/nHXfg6wE9gZDxQ99svt6+LawBZjjB/wH2DMyba11r4NvA3Qp08fO2zYMJ/VtSwnERKhe7dutI8eeOo73DYPfoeO/UbRsdOwU99faaTPgIOBlPn9Sk6At6+FZr1ofuMkmhd1x+COEFgG0dHR0LGMxylOToYzDm3Pj2D8CAgIKP25HNjmtH7tWAAxV1HnnH/TuwTdqTtSMnjwzXnUqlWLD/9vAO0b1i3bOVRzs2fPLvv3l/iMrkvlo2tSCiv2wEbokDABAoIhshO0HOntQqRhF75K8OP+T1dzd8dO3HUKy8W5fV18GcJ2Ai0Lfd3C89gRoUAUMNsz03gTYIYx5oJqNTi/qi7cnZPhTFzq5w+XTSp2ygafyTwA065wwtM5z8P810u/j9Wfwf/+Alj403jocUmJXrYnNYur311AZm4+H9zcXwFMRKQidbvQGasb3hIi2hy3WgnApRGW+ZsP8N8fN9KvbX0GtG9Q4WWWB19OUbEI6GiMaWuMqQVcAcw48qS1NtVaG2mtbWOtbQPMB6pXAAPnzki/AKjX2u1KSs5a+PqvsHeNMw6sXquKPf6hXfDe2bBrKVw6AfrdVLrX5xyGL2+DT26Ahp3gll9LHMCS07O5+t35JKdnM+nGfnRtGlaGExARkTILDIZ2w5zGiyICGIAxhqcujKJNZAh3fbCMpPTsiq2xnPgshFlr84Dbge+AdcBH1to1xpgnjTEX+Oq4lU5ygpPk/avQlAZLJ8GKaTDkPuh4RsUee/9GGH+mMyP/1Z84c5KVxq7l8NYQWDYVTrsXbvjGef9LIDUjl2vHL2TnwUzeG9OX2Jb1Slu9iIhUkJCgAF67qhepmbnc/eFyCgqs2yWVmk+TgbV2JjDzmMceLWbbYb6sxTXJCVVruaJdy50Z5NsNh2EPVuyxE5fA1Eucv3zGfAXNYkv+2oICp8ty1uMQ0tCZSqPtkBK/PD07jzETF7JpXxrvXt+XuHZVs2lbRKQm6do0jMfO787Dn6/ijV8SuG14Ffp9i2bM962CAkjZXHUW7s48AB9dCyGR8Kd3i20G9on4WTDpfAgOgxu/K10AS98H0y6F7//m3JZ862+lCmBZufmMm7SIlYmpvHJlL4Z2alj6+kVExBVX9mvJedFN+c8PG1m0NcXtckpFIcyX0nZBXmbVGJRfUACf3wKHdsOlk5wgVlFWfgzTLof67eDG70v3fsXPgjcGwta5cO4LcMVUqFO/xC/PySvglilLWLAlhRcujeGsqBNP3CoiIpWLMYZ/XtyDlhG1uWPaMlIOn/r0UhVFIcyXkj3zklSFEPbbi7DxWxj1NLTsW3HHnf8GfDYOWvaHG76G0MYle11eNnz3N5jyJ6gTCTf9DH3HlWo5pbz8Au76YBmzN+znmYt6cGHP5mU8CRERcVNocCCvXtWLlMM53PvxiiozPkwhzJeSj0xPUcn7qLfMgZ/+AVF/gn43V8wxrXXGb337IHQ9H675FILDS/bapE3w7kiY96oTvG7+GRp3K9XhCwos93+ykm9W7+GR87pxZb8KvgNURETKVVTzcP52bld+Wr+P8XO3uF1OiVShW/aqoOQEZ6K50GZuV1K8Q7ucCVEbdIDzX66Yhbnz8+Cru2DZFOg9Bs79T8nHny2dDN/c78xbdsU06HJuqQ9vreWRL1fz2bKd3HtmJ8YOdnPlMBERKS/XDWjNvIRk/vXtenq3iaBXqwi3SzohtYT5UkqCMyj/JOsTusa7MHcGXDYZgipgUtLcTGfw/7IpMPQBOO+lEgewyKT5MON2aN4bbv29zAHsmZnrmLpgO7cOa1/l7qQREZHiGWP41yXRNAkP5o5py0jNyHW7pBOqpOmgmkiOhwbt3K6ieLMehx3z4YKXnQVOfS3zAEy+CDZ848yCP/zhkre8+QXgV5AHIx6F676EsLK1Lv73x0288+sWrh/QmvtHdcZURMufiIhUmPDazviwfWlZ3PfJCqytvOPDFMJ8JT8PDmytvOPB1n7pGVN1U4lnkz8lh3bBhHMgcTFc8l7pZ8E/9z8s6f0CnPbXMk+d8facBF6atYlLe7fgsfO7K4CJiFRTsS3r8cBZXfh+7V4m/r7V7XKKpRDmKwe3QUFe5QxhSfHwxW1Ot96opyvgeJtg/Cg4uB2u+QSiLi79PtqeRnpo2VsVJ8/fxjMz13NedFOe/VM0fn4KYCIi1dnYwW0Z2bURz8xcx8rEg26XUySFMF9J2ex8rGwTteYcdsZk+Qc684H5emHunUvgvVHOfGljvnbWA6tgny5J5JEvVjOyayNevDwWfwUwEZFqzxjD85fG0LBuELdPW8ahrMo3PkwhzFe8c4RVopYwa+Gre2DfOvjTO1CvpW+PF/8jTDwfatUt/Sz45eSbVbu575MVDOrQgFev6kWgv77lRURqinp1avHKVT3ZeTCThz5dVenGh+k3kq8kJ0BQWMXOPH8ySybAyg+cuxI7jPTtsVZ9AtMuc2bBH1vKWfDLyc/r93HnB8vo1SqCd67rQ3BgBS7DJCIilULv1vW598zOfL1qN1MXbHe7nKMohPlKcrwTPCrL4O+dS+GbB6D9CBh6v2+PNf8N+HRsoVnwK34poN8TkrhlyhI6NwnlvRv6UqeWpsQTEamp/m9IO4Z2asiTX61lza5Ut8vxUgjzlSNzhFUGGSnw0fUQ0ggufsd3C3NbC7OeKNss+OVoybYDjJu0mNYN6vD+jXGEBQdWeA0iIlJ5+PkZ/nNZDBF1Arlj2jLSs/PcLglQCPON3Cw4uKNyjAeznoW503bDZe9DSAPfHKcgD2bcAXP/48yCf+kkCAz2zbFOYPXOVMZMWEij0CCmjI2jfkitCq9BREQqnwZ1g3j5ip5sTT7M3z+vHOPD1EfjCwe2ALZyLNydmQKbvnMmR23R23fH+fYBZ160IfeXbhLWchS/L43r3ltIWHAgU2/qT6Owig+BIiJSecW1a8DdIzvxwg8bGdC+AY1drkctYb7gXbi7EoQwgKhLnIWufenANifonf43VwLYtuTDXPXOAvz9DFPGxdG8Xu0Kr0FERCq/Pw/vwKAODXhsxhoS0wpcrUUhzBeOTE/h9piwpjHQejCc/1/fBaPw5tCgY9lmwS8nuw5mctU7C8jNL2DK2DjaRoa4UoeIiFR+/n6GFy+PJTQ4kLXJ+a7Wou5IX0hJgDqRULueu3X0vt7550thzeCOxb49xgnsT8vmmncXcCgzl2k39adzk1DXahERkaqhUWgws+4ZyrIFv7lah0KYLyQnVI5B+dXcwYwcrh2/gN2pWUwe248eLSr+TkwREamawmu7f+e8uiN9ITmh8owHq6bSsnK5/r2FbE46zLvX96FPm/pulyQiIlIqCmHlLTsN0vcohPlQZk4+YycuZs2uQ7x+VS8GdahEqxKIiIiUkEJYeausC3dXE9l5+dw8eTGLt6Xw4uWxjOzm9g3GIiIiZaMxYeWtMi7cXU3kFVhun7aMXzcl8e9Lojk/ppnbJYmIiJSZQlh5Sz7SEtbO3TqqmfwCy7urspm/O4MnLujOZX1aul2SiIjIKVF3ZHlLjoew5lCrjtuVVBvWWv72+Srm787ngbO6cP3ANm6XJCIicsoUwspbcrxawcqRtZYnv1rLB4t2cH77QG4dprF2IiJSPSiElbcUzRFWnv7zw0Ym/LaVGwe15eIO7s/pIiIiUl4UwspTRgpkHtD0FOXk9dnxvPJTPFf0bckj53XFuLAmpYiIiK8ohJUn78Ldagk7VZN+38q/v93A6NhmPH1RDwUwERGpdhTCypOmpygXHy3ewWMz1nBmt8Y8f2kM/n4KYCIiUv0ohJWnlAQwflCvtduVVFn/W7GLBz9dyWkdI3nlqp4E+utbVEREqif9hitPyfFOAAuo5XYlVdKstXu5+8Pl9Gldn7ev7UNQgL/bJYmIiPiMQlh50sLdZTZ3UxJ/nrqU7s3CGD+mD7VrKYCJiEj1phBWXqz1hDCNByutRVtTuOn9xbRrGMKkG/sRGqypKEREpPpTCCsv6Xsh97AW7i6llYkHuXHCIpqGBzN5bBz16qgrV0REagaFsPLivTNSIaykNuxJ47r3FhJeJ5CpN8XRMDTI7ZJEREQqjEJYefHOEaYQVhJbkg5z9bsLCArwY+q4OJqG13a7JBERkQoV4HYB1UZyPPjXgvCWbldS6SUeyODqd+ZTYC0fjOtP6wYhbpckIiJS4dQSVl6SEyCiLfjprr4T2Xcoi6vfXUB6dh6Tx/ajQ6NQt0sSERFxhVrCyosW7j6plMM5XP3uAvanZTNlXBzdm4W7XZKIiIhr1BJWHgryIWWzxoOdQGpmLteOX8D2lAzGX9+XXq0i3C5JRETEVQph5SE1EfJzFMKKcTg7jxsnLmLj3jTevKY3A9o3cLskERER1ymElQct3F2srNx8bnp/Mcu2H+DlK3oyvEsjt0sSERGpFDQmrDykbHY+aqLWo+TkFfDnqUv5PSGZ/1wWw9k9mrpdkoiISKWhlrDykBwPgSEQ2sTtSiqN/ALL3R8u56f1+/jHhVFc3KuF2yWJiIhUKgph5SE5ARq0A2PcrqRSKCiwPPDpSr5etZu/ndOVa/q3drskERGRSkchrDwkx2s8mIe1lsf/t4ZPliTyl5EduWlIO7dLEhERqZQUwk5VXg4c3K7xYDgB7Nlv1/P+vG3cPKQdd43o6HZJIiIilZZC2Kk6uA1svlrCgFd/iuetXzZzdVwrHjq7C0bdsyIiIsVSCDtVWrgbgHd/3cwLP2zk4p7NeWp0lAKYiIjISSiEnSrNEca0Bdv5x9frODuqCf++JBo/PwUwERGRk1EIO1XJ8RBcD+rUd7sSV3yxbCd/+2IVwzo35L9X9CTAX99SIiIiJaHfmKeqBi/c/e3qPfz14xXEta3Pm9f0plaAvp1ERERKSr81T1VyzQxhszfs447pS4luEc671/clONDf7ZJERESqFIWwU5GTAYd21rhB+fM3J/N/k5fQsVEoE8f0o26QVr8SEREpLYWwU3FkzcgaFMKW7zjI2ImLaFm/DpPH9iO8TqDbJYmIiFRJCmGnIsUzPUUNmah17a5DXDd+AQ3qBjFlbBwN6ga5XZKIiEiVpRB2KrzTU1T/EBa/L51rxy8gJCiAqePiaBIe7HZJIiIiVZpC2KlI3gx1G0NQqNuV+NSOlAyueXcBxsCUcXG0rF/H7ZJERESqPJ+GMGPMWcaYDcaYeGPMg0U8f48xZq0xZqUx5kdjTGtf1lPuasDC3XtSs7jq3flk5uYzeWwc7RvWdbskERGRasFnIcwY4w+8BpwNdAOuNMZ0O2azZUAfa2008Anwb1/V4xMpCVC/ndtV+ExSejZXvzufA4dzef/GfnRtGuZ2SSIiItWGL1vC+gHx1trN1toc4ANgdOENrLU/W2szPF/OB1r4sJ7ylZUKh/dX25aw1Ixcrh2/kJ0HM3lvTF9iWtZzuyQREZFqxZcTPDUHdhT6OhGIO8H2Y4FvinrCGHMzcDNA48aNmT17djmVeLzU7dvoCaxZu5YdKTnFbhd6aBO9gdW7M0nyYT1uyMyzPLcoi+2HCvhL7yAytq1k9ja3q4L09HSfXnspPV2TyknXpfLRNamc3L4ulWKWTWPMNUAfYGhRz1tr3wbeBujTp48dNmyYz2pZlpMIidC9WzfaRw8sfsOV+2EpRA29EBp19Vk9FS0zJ58xExayLS2TN67pzZndm7hdktfs2bPx5bWX0tM1qZx0XSofXZPKye3r4ssQthNoWejrFp7HjmKMGQn8DRhqrc32YT3lKzkeMBDR1u1Kyk12Xj63TFnCwq0pvHR5bKUKYCIiItWNL8eELQI6GmPaGmNqAVcAMwpvYIzpCbwFXGCt3efDWspfSgKEt4TA6jFfVl5+AXdNX84vG/fz7MU9GB3b3O2SREREqjWfhTBrbR5wO/AdsA74yFq7xhjzpDHmAs9mzwF1gY+NMcuNMTOK2V3lkxxfbSZpLSiw3PfJSr5ds4dHz+vG5X1buV2SiIhItefTMWHW2pnAzGMee7TQ5yN9eXyfsdaZqDX6UrcrOWXWWv7+5Wo+X7aT+0Z15sbB1ad7VUREpDLTjPllcTgJslOr/PQU1lqe/nod0xZs58/D2nPb8Kp9PiIiIlWJQlhZVJOFu1+atYl3525hzMA23Deqs9vliIiI1CgKYWVRDRbufuuXBP774yYu69OCR8/rhjHG7ZJERERqFIWwskhOAL8AqFe1lro8YvK8rfzzm/WcF92Uf14cjZ+fApiIiEhFUwgri+R4iGgD/pVirttS+WRJIo98uYaRXRvx4uWx+CuAiYiIuEIhrCxSNlfJ8WAzV+3m/k9WMLhDJK9e1YtAf11+ERERt+i3cGkVFDjdkVXszsif1u/lzunL6NUqgrev601woL/bJYmIiNRoCmGllbYb8jKr1KD83+OTuGXKUro2DeO9G/pSp1bV60YVERGpbhTCSquK3Rm5ZNsBxr2/mLYNQnj/xn6EBQe6XZKIiIigEFZ63hBW+bsjV+9MZcyEhTQKDWLyuH5EhNRyuyQRERHxUAgrrZTNEBAMoc3cruSENu1N47r3FhIWHMjUm/rTKLR6LDQuIiJSXSiElVZyvHNnpF/lfeu2JR/m6ncX4O9nmDoujub1artdkoiIiByj8iaJyio5ARq0c7uKYu06mMlV7ywgN7+AqePiaBMZ4nZJIiIiUgSFsNLIz4MDWyrteLB9aVlc/e4CDmXmMnlsHJ0ah7pdkoiIiBRDcxWURup2KMirlBO1Hjicw7XvLmRPahZTxvUjqnm42yWJiIjICSiElUZygvOxkrWEpWXlcv2EhWxJPsyEMX3p3bq+2yWJiIjISag7sjS8IazytIRl5ORx48RFrN11iDeu7sWgDpFulyQiIiIloBBWGsnxEBQGIQ3drgSA7Lx8/m/yEpZsO8BLV8Qyomtjt0sSERGRElJ3ZGmkJDitYMa4XQm5+QXcPm0Zv25K4rlLojkvunLPWyYiIiJHU0tYaRyZI8xl+QWWv360gh/W7uXJ0d25tE9Lt0sSERGRUlIIK6m8bDi4w/VB+QUFloc/W8WMFbt48OwuXDegjav1iIiISNkohJVUyhbAujoo31rLk1+t5cPFO7jz9A7cMtT9VjkREREpG4WwkvIu3O1e8Hnh+41M/H0rYwe35e4zOrlWh4iIiJw6hbCSSvFMT+HSmLDXfo7n1Z/jubJfK/5+bldMJbg5QERERMpOIaykkuOhTiTUrlfhh5742xae+24DF8Y24x8XRimAiYiIVAMKYSWVvNmVrsiPFu3g8f+tZVT3xjx/aQz+fgpgIiIi1YFCWEklx1f4nZEzVuzigc9WMqRTQ16+sicB/rpcIiIi1YV+q5dEdjqk74H67SrskD+s3cs9Hy6nb5v6vHVNb4IC/Cvs2CIiIuJ7CmElkVKxC3f/umk/t01dSvfm4bw3pi+1aymAiYiIVDcKYSWRXHEhbOGWFG56fzHtGoYw6Ya+1A3SylIiIiLVkUJYSRwJYT7ujlyZeJAbJy6iWb3aTB4bR706tXx6PBEREXGPQlhJpCRAWHOoVcdnh1i/5xDXvbeQenUCmToujoahQT47loiIiLhPIawkkuN92gq2eX8617y7kKAAP6aN60/T8No+O5aIiIhUDgphJeHD6Sl2pGRw9bsLsNYydVx/WjXwXWubiIiIVB4KYSeTkQKZB3wyUeveQ1lcM34Bh7PzeH9sPzo0qlvuxxAREZHKSSHsZHx0Z2RyejbXvLuApLRsJt7Yj+7Nwst1/yIiIlK5af6Dk/HBwt2pmblc995CtqdkMPGGfvRqFVFu+xYREZGqQS1hJ5McD8YPItqUy+4OZ+dxw4SFbNybxpvX9mZA+wblsl8RERGpWtQSdjLJCVCvFQSc+pxdWbn5jJu0mBWJqbx2VU+Gd25UDgWKiIhIVaSWsJMppzsjc/IK+PPUpczfkszzl0ZzVlTTcihOREREqiqFsBOxFlI2n3IIy8sv4O4Pl/PT+n3848IoLurZopwKFBERkapKIexE0vdCTvopDcovKLA88Okqvl61m7+f25Wr41qXY4EiIiJSVSmEnYh3eoqyhTBrLY/NWMOnSxO5e2Qnxp3m27UnRUREpOpQCDuR5HjnYxlCmLWWZ79Zz+T52/i/Ie24c4RvZtwXERGRqkkh7ERSEsC/FoS3LPVLX/kpnrfmbOaa/q148OwuGGN8UKCIiIhUVQphJ5KcABFtwc+/VC9799fN/OeHjVzcqzlPXhClACYiIiLHUQg7kTJMTzFtwXb+8fU6zunRhH//KRo/PwUwEREROZ5CWHFsPqRsgQYlH0z/+bJE/vbFKoZ3bshLl/ckwF9vr4iIiBRNKaEYgYd3Q352iVvCvl29m3s/Xkn/tg1445re1ArQWysiIiLFU1IoRq3ULc4nJZgjbPaGfdwxfRkxLcJ59/o+BAeWbgyZiIiI1DwKYcUISt3sfHKSlrD5m5P5v8lL6NQ4lAk39CMkSMtxioiIyMkphBWjVupWCAyB0CbFbrNs+wHGTlxEq/p1mDw2jvDagRVXoIiIiFRpCmHFqJW62RmUX8z0Emt3HeL69xYSGRrElHFx1A+pVcEVioiISFWmEFaMwIx9xXZFxu9L59rxC6gbFMDUcXE0Dguu4OpERESkqlMIO5EiBuVvT87g6nfnY4xhyrg4WkTUcaEwERERqeoUwk7kmJaw3amZXD1+Ptl5BUwZ1492Deu6VJiIiIhUdQphJ1Jo4e6k9GyufncBBw7n8v6N/ejSJMzFwkRERKSqUwg7EU9L2MGMHK55dwG7DmYy4Ya+RLeo525dIiIiUuUphBUjLygc6tQnPTuP6ycsYvP+w7xzXR/6tqnvdmkiIiJSDWhm0WLkhLcjNyefGycuYvXOVN68pjendWzodlkiIiJSTfi0JcwYc5YxZoMxJt4Y82ARzwcZYz70PL/AGNPGl/WURlZoG26ZsoRFW1N48fJYzujW2O2SREREpBrxWQgzxvgDrwFnA92AK40x3Y7ZbCxwwFrbAXgR+Jev6imtr3bW4ZeN+/nXxdFcENPM7XJERESkmvFlS1g/IN5au9lamwN8AIw+ZpvRwCTP558AI4wpZor6CrboUASPnd+Ny/q2dLsUERERqYZ8GcKaAzsKfZ3oeazIbay1eUAq0MCHNZ1UQEgEBdYwYOAwbhjU1s1SREREpBqrEgPzjTE3AzcDNG7cmNmzZ/vsWAUFtfmk039oVjfQp8eR0ktPT9c1qWR0TSonXZfKR9ekcnL7uvgyhO0ECvfltfA8VtQ2icaYACAcSD52R9bat4G3Afr06WOHDRvmi3q9Zs+eja+PIaWn61L56JpUTroulY+uSeXk9nXxZXfkIqCjMaatMaYWcAUw45htZgDXez6/BPjJWmt9WJOIiIhIpeCzljBrbZ4x5nbgO8AfeM9au8YY8ySw2Fo7AxgPTDbGxAMpOEFNREREpNrz6Zgwa+1MYOYxjz1a6PMs4FJf1iAiIiJSGWnZIhEREREXKISJiIiIuEAhTERERMQFCmEiIiIiLlAIExEREXGBQpiIiIiICxTCRERERFygECYiIiLiAoUwERERERcohImIiIi4QCFMRERExAUKYSIiIiIuMNZat2soFWPMfmCbjw8TCST5+BhSeroulY+uSeWk61L56JpUThVxXVpbaxsW9USVC2EVwRiz2Frbx+065Gi6LpWPrknlpOtS+eiaVE5uXxd1R4qIiIi4QCFMRERExAUKYUV72+0CpEi6LpWPrknlpOtS+eiaVE6uXheNCRMRERFxgVrCRERERFygECYiIiLighodwowxZxljNhhj4o0xDxbxfJAx5kPP8wuMMW1cKLPGKcF1uccYs9YYs9IY86MxprUbddYkJ7smhbb7kzHGGmN0K76PleSaGGMu8/xfWWOMmVbRNdZEJfj51coY87MxZpnnZ9g5btRZkxhj3jPG7DPGrC7meWOMedlzzVYaY3pVVG01NoQZY/yB14CzgW7AlcaYbsdsNhY4YK3tALwI/Ktiq6x5SnhdlgF9rLXRwCfAvyu2ypqlhNcEY0wocBewoGIrrHlKck2MMR2Bh4BB1truwF8qus6apoT/V/4OfGSt7QlcAbxesVXWSBOBs07w/NlAR8+/m4E3KqAmoAaHMKAfEG+t3WytzQE+AEYfs81oYJLn80+AEcYYU4E11kQnvS7W2p+ttRmeL+cDLSq4xpqmJP9XAJ7C+UMlqyKLq6FKck1uAl6z1h4AsNbuq+Aaa6KSXBcLhHk+Dwd2VWB9NZK1dg6QcoJNRgPvW8d8oJ4xpmlF1FaTQ1hzYEehrxM9jxW5jbU2D0gFGlRIdTVXSa5LYWOBb3xakZz0mnia71taa7+uyMJqsJL8P+kEdDLG/GaMmW+MOVFLgJSPklyXx4FrjDGJwEzgjoopTU6gtL93yk1ARRxExBeMMdcAfYChbtdSkxlj/ID/AGNcLkWOFoDTvTIMp7V4jjGmh7X2oJtFCVcCE621LxhjBgCTjTFR1toCtwuTileTW8J2Ai0Lfd3C81iR2xhjAnCajpMrpLqaqyTXBWPMSOBvwAXW2uwKqq2mOtk1CQWigNnGmK1Af2CGBuf7VEn+nyQCM6y1udbaLcBGnFAmvlOS6zIW+AjAWjsPCMZZRFrcU6LfO75Qk0PYIqCjMaatMaYWzgDJGcdsMwO43vP5JcBPVrPb+tpJr4sxpifwFk4A0zgX3zvhNbHWplprI621bay1bXDG6V1grV3sTrk1Qkl+fn2B0wqGMSYSp3tycwXWWBOV5LpsB0YAGGO64oSw/RVapRxrBnCd5y7J/kCqtXZ3RRy4xnZHWmvzjDG3A98B/sB71to1xpgngcXW2hnAeJym4nicQX1XuFdxzVDC6/IcUBf42HOfxHZr7QWuFV3NlfCaSAUq4TX5DjjTGLMWyAfus9aqJd+HSnhd/gq8Y4y5G2eQ/hj9ce9bxpjpOH+QRHrG4j0GBAJYa9/EGZt3DhAPZAA3VFhtuvYiIiIiFa8md0eKiIiIuEYhTERERMQFCmEiIiIiLlAIExEREXGBQpiIiIiICxTCRKRaMcbkG2OWG2NWG2P+Z4ypV8773+qZdwtjTHp57ltEahaFMBGpbjKttbHW2iic+f1uc7sgEZGiKISJSHU2D89CvMaY9saYb40xS4wxvxpjungeb2yM+dwYs8Lzb6Dn8S88264xxtzs4jmISDVVY2fMF5HqzRjjj7M8zHjPQ28Dt1hrNxlj4oDXgdOBl4FfrLUXeV5T17P9jdbaFGNMbWCRMeZTzTgvIuVJIUxEqpvaxpjlOC1g64AfjDF1gYH8sdQVQJDn4+nAdQDW2nwg1fP4ncaYizyft8RZ/FohTETKjUKYiFQ3mdbaWGNMHZw1/G4DJgIHrbWxJdmBMWYYMBIYYK3NMMbMxlloWUSk3GhMmIhUS9baDOBOnAWTM4AtxphLAYwjxrPpj8Ctnsf9jTHhQDhwwBPAugD9K/wERKTaUwgTkWrLWrsMWAlcCVwNjDXGrADWAKM9m90FDDfGrAKWAN2Ab4EAY8w64FlgfkXXLiLVn7HWul2DiIiISI2jljARERERFyiEiYiIiLhAIUxERETEBQphIiIiIi5QCBMRERFxgUKYiIiIiAsUwkRERERc8P8qYjyRmxokngAAAABJRU5ErkJggg==\n",
       "datasetInfos": [],
       "metadata": {},
       "removedWidgets": [],
       "type": "image"
      }
     },
     "output_type": "display_data"
    }
   ],
   "source": [
    "import matplotlib.pyplot as plt\n",
    "from sklearn.metrics import precision_recall_curve, average_precision_score\n",
    "plt.figure(figsize=(10, 7))\n",
    "\n",
    "listModels={model_DTC,model_RTC}\n",
    "for name in listModels:\n",
    "\n",
    "    y_scores = name.predict_proba(X_test)[:, 1]  \n",
    "    \n",
    "    precision, recall, _ = precision_recall_curve(Y_test, y_scores)\n",
    "    \n",
    "    ap_score = average_precision_score(Y_test, y_scores)\n",
    "    \n",
    "    plt.plot(recall, precision, label=f'{name} (AP = {ap_score:.2f})')\n",
    "\n",
    "plt.xlabel('Recall')\n",
    "plt.ylabel('Precision')\n",
    "plt.title('Curva de Precisão x Recall')\n",
    "plt.legend(loc='best')\n",
    "plt.grid(True)\n",
    "plt.show()"
   ]
  },
  {
   "cell_type": "markdown",
   "metadata": {
    "application/vnd.databricks.v1+cell": {
     "cellMetadata": {
      "byteLimit": 2048000,
      "rowLimit": 10000
     },
     "inputWidgets": {},
     "nuid": "326400b3-983d-479b-b4a5-f840b9b5716d",
     "showTitle": false,
     "title": ""
    },
    "id": "1uD6CKpmk-ud"
   },
   "source": [
    "# Aula 3"
   ]
  },
  {
   "cell_type": "markdown",
   "metadata": {
    "application/vnd.databricks.v1+cell": {
     "cellMetadata": {
      "byteLimit": 2048000,
      "rowLimit": 10000
     },
     "inputWidgets": {},
     "nuid": "654148d6-e970-4183-9568-53896aa85fde",
     "showTitle": false,
     "title": ""
    },
    "id": "_ksJQ1Ca9Alx"
   },
   "source": [
    "### Desafio 1\n",
    "\n",
    "Crie uma função para calcular o intervalo de confiança dos resultados de uma validação cruzada com 2 desvios padrão. A função precisa ter um parâmetro para receber uma lista com os desempenhos da validação cruzada e outro para apresentar o nome do modelo utilizado na validação cruzada. Exemplo de retorno da função:\n",
    "\n",
    "> Intervalo de confiança (\"nome do modelo\"): [\"valor mínimo do intervalo\", \"valor máximo do intervalo\"]\n",
    "\n"
   ]
  },
  {
   "cell_type": "code",
   "execution_count": 0,
   "metadata": {
    "application/vnd.databricks.v1+cell": {
     "cellMetadata": {
      "byteLimit": 2048000,
      "rowLimit": 10000
     },
     "inputWidgets": {},
     "nuid": "60f7200a-4dd9-4cec-b359-e491c21af3cc",
     "showTitle": false,
     "title": ""
    },
    "id": "Bg7Uh6QyTyB5"
   },
   "outputs": [],
   "source": [
    "def interval_conf(result):\n",
    "    media = result['test_score'].mean()\n",
    "    desvio_padrao = result['test_score'].std()\n",
    "    print(f'Intervalo de confiança: [{media - 2*desvio_padrao}, {min(media + 2*desvio_padrao, 1)}]')"
   ]
  },
  {
   "cell_type": "markdown",
   "metadata": {
    "application/vnd.databricks.v1+cell": {
     "cellMetadata": {
      "byteLimit": 2048000,
      "rowLimit": 10000
     },
     "inputWidgets": {},
     "nuid": "6864b9bb-e9df-46d5-8397-ed82c26187ef",
     "showTitle": false,
     "title": ""
    },
    "id": "aA2RAJvGlCM1"
   },
   "source": [
    "### Desafio 2\n",
    "\n",
    "Avalie o desempenho dos modelos com um intervalo de confiança utilizando a validação cruzada com o método [`KFold`](https://scikit-learn.org/stable/modules/generated/sklearn.model_selection.KFold.html), usando 10 partes e embaralhando os dados antes da separação. Use o método [`cross_val_score`](https://scikit-learn.org/stable/modules/generated/sklearn.model_selection.cross_val_score.html) que não retorna o tempo de execução, apenas as métricas."
   ]
  },
  {
   "cell_type": "code",
   "execution_count": 0,
   "metadata": {
    "application/vnd.databricks.v1+cell": {
     "cellMetadata": {
      "byteLimit": 2048000,
      "rowLimit": 10000
     },
     "inputWidgets": {},
     "nuid": "f93cec59-804e-4c23-95b4-7d3bc7000b91",
     "showTitle": false,
     "title": ""
    },
    "id": "1jp9GpFwnR3i"
   },
   "outputs": [
    {
     "output_type": "stream",
     "name": "stdout",
     "output_type": "stream",
     "text": [
      "[0.775      0.725      0.825      0.625      0.69230769 0.71794872\n 0.58974359 0.69230769 0.69230769 0.58974359]\n"
     ]
    }
   ],
   "source": [
    "from sklearn.model_selection import cross_validate, KFold\n",
    "from sklearn.model_selection import cross_val_score\n",
    "kf=KFold(n_splits=10,shuffle=True,random_state=5)\n",
    "cv_result_DTC = cross_val_score(model_DTC,df_features,df_label, cv=kf)\n",
    "print(cv_result_DTC)"
   ]
  },
  {
   "cell_type": "code",
   "execution_count": 0,
   "metadata": {
    "application/vnd.databricks.v1+cell": {
     "cellMetadata": {
      "byteLimit": 2048000,
      "rowLimit": 10000
     },
     "inputWidgets": {},
     "nuid": "6d86d899-096c-44bd-9e62-860a4016dd7a",
     "showTitle": false,
     "title": ""
    }
   },
   "outputs": [
    {
     "output_type": "stream",
     "name": "stdout",
     "output_type": "stream",
     "text": [
      "[0.35714286 0.4        0.88888889 0.17647059 0.5625     0.3\n 0.5        0.42857143 0.3        0.3125    ]\n"
     ]
    }
   ],
   "source": [
    "from sklearn.model_selection import cross_validate, KFold\n",
    "from sklearn.model_selection import cross_val_score\n",
    "kf=KFold(n_splits=10,shuffle=True,random_state=5)\n",
    "cv_result_RTC = cross_val_score(model_RTC,df_features,df_label, cv=kf, scoring = 'recall')\n",
    "print(cv_result_RTC)"
   ]
  },
  {
   "cell_type": "markdown",
   "metadata": {
    "application/vnd.databricks.v1+cell": {
     "cellMetadata": {
      "byteLimit": 2048000,
      "rowLimit": 10000
     },
     "inputWidgets": {},
     "nuid": "a2a8afe4-3ca8-4754-9267-8455674c83ab",
     "showTitle": false,
     "title": ""
    },
    "id": "FXHAOmL4lFBp"
   },
   "source": [
    "### Desafio 3\n",
    "\n",
    "Avalie o desempenho dos modelos com um intervalo de confiança utilizando a validação cruzada (`cross_val_score`) com o método [`StratifiedKFold`](https://scikit-learn.org/stable/modules/generated/sklearn.model_selection.StratifiedKFold.html#sklearn.model_selection.StratifiedKFold), usando 10 partes e embaralhando os dados antes da separação e avaliando a métrica F1-Score."
   ]
  },
  {
   "cell_type": "code",
   "execution_count": 0,
   "metadata": {
    "application/vnd.databricks.v1+cell": {
     "cellMetadata": {
      "byteLimit": 2048000,
      "rowLimit": 10000
     },
     "inputWidgets": {},
     "nuid": "87867190-18ee-42d1-8b7b-ae750fd296fe",
     "showTitle": false,
     "title": ""
    },
    "id": "2Fu1i0l9T2F5"
   },
   "outputs": [
    {
     "output_type": "stream",
     "name": "stdout",
     "output_type": "stream",
     "text": [
      "0.6981410256410256\n"
     ]
    }
   ],
   "source": [
    "from sklearn.model_selection import StratifiedKFold\n",
    "skf = StratifiedKFold(n_splits = 10, shuffle = True, random_state = 5)\n",
    "cv_resultados_Skfold=cross_val_score(model_DTC, df_features, df_label, cv = skf)\n",
    "print(cv_resultados_Skfold.mean())"
   ]
  },
  {
   "cell_type": "markdown",
   "metadata": {
    "application/vnd.databricks.v1+cell": {
     "cellMetadata": {
      "byteLimit": 2048000,
      "rowLimit": 10000
     },
     "inputWidgets": {},
     "nuid": "27c57931-d8e6-47d0-9d44-53a0e797bc11",
     "showTitle": false,
     "title": ""
    },
    "id": "PffR585slFHS"
   },
   "source": [
    "### Desafio 4\n",
    "\n",
    "Avalie o desempenho dos modelos utilizando a validação cruzada (`cross_val_score`) com o método [`LeaveOneOut`](https://scikit-learn.org/stable/modules/generated/sklearn.model_selection.LeaveOneOut.html).\n",
    "\n",
    "O método LeaveOneOut vai gerar um modelo para cada uma das linhas da base de dados, portanto a lista de resultados terá taxa de acerto apenas de 0 ou 1 para cada modelo. Dessa forma, extraia apenas a média do resultado, sem utilizar o intervalo de confiança.\n"
   ]
  },
  {
   "cell_type": "code",
   "execution_count": 0,
   "metadata": {
    "application/vnd.databricks.v1+cell": {
     "cellMetadata": {
      "byteLimit": 2048000,
      "rowLimit": 10000
     },
     "inputWidgets": {},
     "nuid": "d476db90-c018-4088-912f-4c8899e99212",
     "showTitle": false,
     "title": ""
    }
   },
   "outputs": [
    {
     "output_type": "stream",
     "name": "stdout",
     "output_type": "stream",
     "text": [
      "0.649746192893401\n"
     ]
    }
   ],
   "source": [
    "from sklearn.model_selection import LeaveOneOut\n",
    "loo = LeaveOneOut()\n",
    "scores_DTC_CV =cross_val_score(model_DTC, df_features, df_label, cv = loo)\n",
    "print(scores_DTC_CV.mean())"
   ]
  },
  {
   "cell_type": "code",
   "execution_count": 0,
   "metadata": {
    "application/vnd.databricks.v1+cell": {
     "cellMetadata": {
      "byteLimit": 2048000,
      "rowLimit": 10000
     },
     "inputWidgets": {},
     "nuid": "c5f56522-b4a8-4a2e-aa01-2266ed52954b",
     "showTitle": false,
     "title": ""
    }
   },
   "outputs": [
    {
     "output_type": "stream",
     "name": "stdout",
     "output_type": "stream",
     "text": [
      "0.700507614213198\n"
     ]
    }
   ],
   "source": [
    "from sklearn.model_selection import LeaveOneOut\n",
    "loo = LeaveOneOut()\n",
    "scores_RTC_CV =cross_val_score(model_RTC, df_features, df_label, cv = loo)\n",
    "print(scores_RTC_CV.mean())"
   ]
  },
  {
   "cell_type": "markdown",
   "metadata": {
    "application/vnd.databricks.v1+cell": {
     "cellMetadata": {
      "byteLimit": 2048000,
      "rowLimit": 10000
     },
     "inputWidgets": {},
     "nuid": "bfa0030a-1dd5-49c5-8fc2-863648c96ba3",
     "showTitle": false,
     "title": ""
    },
    "id": "LkuY1LZDJnnE"
   },
   "source": [
    "# Aula 4"
   ]
  },
  {
   "cell_type": "markdown",
   "metadata": {
    "application/vnd.databricks.v1+cell": {
     "cellMetadata": {
      "byteLimit": 2048000,
      "rowLimit": 10000
     },
     "inputWidgets": {},
     "nuid": "796d1fd2-8d1a-4e82-be18-3ed2f6f6dce0",
     "showTitle": false,
     "title": ""
    },
    "id": "8H-XGS58Jo97"
   },
   "source": [
    "### Desafio 1\n",
    "\n",
    "Verifique a proporção de dados da variável alvo do conjunto de dados de diabetes. Essa análise pode ser feita a partir da porcentagem de dados ou com a utilização de um gráfico de contagem para entender se há um desbalanceamento de dados."
   ]
  },
  {
   "cell_type": "code",
   "execution_count": 0,
   "metadata": {
    "application/vnd.databricks.v1+cell": {
     "cellMetadata": {
      "byteLimit": 2048000,
      "rowLimit": 10000
     },
     "inputWidgets": {},
     "nuid": "291921e6-e43e-4494-8419-60bc5f65a7be",
     "showTitle": false,
     "title": ""
    }
   },
   "outputs": [
    {
     "output_type": "stream",
     "name": "stdout",
     "output_type": "stream",
     "text": [
      "Out[19]: 0    67.005076\n1    32.994924\nName: diabetes, dtype: float64"
     ]
    }
   ],
   "source": [
    "df['diabetes'].value_counts(normalize=True)*100"
   ]
  },
  {
   "cell_type": "markdown",
   "metadata": {
    "application/vnd.databricks.v1+cell": {
     "cellMetadata": {
      "byteLimit": 2048000,
      "rowLimit": 10000
     },
     "inputWidgets": {},
     "nuid": "bbe365d9-53b6-4205-af7a-92b6f8d01578",
     "showTitle": false,
     "title": ""
    },
    "id": "OMJ-IW4NJr4M"
   },
   "source": [
    "### Desafio 2\n",
    "\n",
    "Utilize um [`pipeline`](https://imbalanced-learn.org/stable/references/generated/imblearn.pipeline.Pipeline.html) contendo ajuste do modelo e o balanceamento dos dados usando o oversampling com [`SMOTE`](https://imbalanced-learn.org/stable/references/generated/imblearn.over_sampling.SMOTE.html), obtendo a média do F1-Score de uma validação cruzada com `StratifiedKFold`."
   ]
  },
  {
   "cell_type": "code",
   "execution_count": 0,
   "metadata": {
    "application/vnd.databricks.v1+cell": {
     "cellMetadata": {
      "byteLimit": 2048000,
      "rowLimit": 10000
     },
     "collapsed": true,
     "inputWidgets": {},
     "nuid": "bec7a5ca-b7b2-4126-8504-0c3e51035638",
     "showTitle": false,
     "title": ""
    }
   },
   "outputs": [
    {
     "output_type": "stream",
     "name": "stdout",
     "output_type": "stream",
     "text": [
      "Collecting imblearn\r\n  Downloading imblearn-0.0-py2.py3-none-any.whl (1.9 kB)\r\nCollecting imbalanced-learn\r\n  Downloading imbalanced_learn-0.12.3-py3-none-any.whl (258 kB)\r\n\u001B[?25l\r\u001B[K     |█▎                              | 10 kB 5.6 MB/s eta 0:00:01\r\u001B[K     |██▌                             | 20 kB 4.4 MB/s eta 0:00:01\r\u001B[K     |███▉                            | 30 kB 6.3 MB/s eta 0:00:01\r\u001B[K     |█████                           | 40 kB 5.1 MB/s eta 0:00:01\r\u001B[K     |██████▍                         | 51 kB 5.2 MB/s eta 0:00:01\r\u001B[K     |███████▋                        | 61 kB 6.1 MB/s eta 0:00:01\r\u001B[K     |████████▉                       | 71 kB 5.8 MB/s eta 0:00:01\r\u001B[K     |██████████▏                     | 81 kB 5.9 MB/s eta 0:00:01\r\u001B[K     |███████████▍                    | 92 kB 6.5 MB/s eta 0:00:01\r\u001B[K     |████████████▊                   | 102 kB 5.9 MB/s eta 0:00:01\r\u001B[K     |██████████████                  | 112 kB 5.9 MB/s eta 0:00:01\r\u001B[K     |███████████████▏                | 122 kB 5.9 MB/s eta 0:00:01\r\u001B[K     |████████████████▌               | 133 kB 5.9 MB/s eta 0:00:01\r\u001B[K     |█████████████████▊              | 143 kB 5.9 MB/s eta 0:00:01\r\u001B[K     |███████████████████             | 153 kB 5.9 MB/s eta 0:00:01\r\u001B[K     |████████████████████▎           | 163 kB 5.9 MB/s eta 0:00:01\r\u001B[K     |█████████████████████▋          | 174 kB 5.9 MB/s eta 0:00:01\r\u001B[K     |██████████████████████▉         | 184 kB 5.9 MB/s eta 0:00:01\r\u001B[K     |████████████████████████        | 194 kB 5.9 MB/s eta 0:00:01\r\u001B[K     |█████████████████████████▍      | 204 kB 5.9 MB/s eta 0:00:01\r\u001B[K     |██████████████████████████▋     | 215 kB 5.9 MB/s eta 0:00:01\r\u001B[K     |████████████████████████████    | 225 kB 5.9 MB/s eta 0:00:01\r\u001B[K     |█████████████████████████████▏  | 235 kB 5.9 MB/s eta 0:00:01\r\u001B[K     |██████████████████████████████▍ | 245 kB 5.9 MB/s eta 0:00:01\r\u001B[K     |███████████████████████████████▊| 256 kB 5.9 MB/s eta 0:00:01\r\u001B[K     |████████████████████████████████| 258 kB 5.9 MB/s \r\n\u001B[?25hRequirement already satisfied: scikit-learn>=1.0.2 in /databricks/python3/lib/python3.9/site-packages (from imbalanced-learn->imblearn) (1.0.2)\r\nRequirement already satisfied: joblib>=1.1.1 in /databricks/python3/lib/python3.9/site-packages (from imbalanced-learn->imblearn) (1.1.1)\r\nRequirement already satisfied: threadpoolctl>=2.0.0 in /databricks/python3/lib/python3.9/site-packages (from imbalanced-learn->imblearn) (2.2.0)\r\nRequirement already satisfied: scipy>=1.5.0 in /databricks/python3/lib/python3.9/site-packages (from imbalanced-learn->imblearn) (1.7.3)\r\nRequirement already satisfied: numpy>=1.17.3 in /databricks/python3/lib/python3.9/site-packages (from imbalanced-learn->imblearn) (1.21.5)\r\nInstalling collected packages: imbalanced-learn, imblearn\r\nSuccessfully installed imbalanced-learn-0.12.3 imblearn-0.0\r\n\u001B[33mWARNING: You are using pip version 21.2.4; however, version 24.2 is available.\r\nYou should consider upgrading via the '/local_disk0/.ephemeral_nfs/envs/pythonEnv-0be5f5a8-1c5e-4583-af1e-d81e245596e6/bin/python -m pip install --upgrade pip' command.\u001B[0m\r\n"
     ]
    }
   ],
   "source": [
    "!pip install imblearn"
   ]
  },
  {
   "cell_type": "code",
   "execution_count": 0,
   "metadata": {
    "application/vnd.databricks.v1+cell": {
     "cellMetadata": {
      "byteLimit": 2048000,
      "rowLimit": 10000
     },
     "inputWidgets": {},
     "nuid": "c6c35442-1e39-487b-8b0e-389d1f628f44",
     "showTitle": false,
     "title": ""
    },
    "id": "MXJSDAQUT3up"
   },
   "outputs": [
    {
     "output_type": "stream",
     "name": "stdout",
     "output_type": "stream",
     "text": [
      "0.5856330219488115\n"
     ]
    }
   ],
   "source": [
    "from imblearn.over_sampling import SMOTE\n",
    "from imblearn.pipeline import Pipeline\n",
    "\n",
    "oversample=SMOTE()\n",
    "Model_DTC_OVEMSAMPLE = DecisionTreeClassifier(max_depth=10)\n",
    "Model_RTC_OVEMSAMPLE = RandomForestClassifier(max_depth=10)\n",
    "skf = StratifiedKFold(n_splits=10, shuffle = True, random_state = 5)\n",
    "\n",
    "pipeline_DTC = Pipeline([\n",
    "    ('oversample', oversample),\n",
    "    ('classifier', Model_DTC_OVEMSAMPLE)\n",
    "])\n",
    "\n",
    "CV_DTC=cross_val_score(pipeline_DTC,X_train,Y_train,cv=skf ,scoring='f1')\n",
    "print(CV_DTC.mean())"
   ]
  },
  {
   "cell_type": "code",
   "execution_count": 0,
   "metadata": {
    "application/vnd.databricks.v1+cell": {
     "cellMetadata": {
      "byteLimit": 2048000,
      "rowLimit": 10000
     },
     "inputWidgets": {},
     "nuid": "b6c28b65-029c-498f-acd1-0d5a1abcdb64",
     "showTitle": false,
     "title": ""
    }
   },
   "outputs": [
    {
     "output_type": "stream",
     "name": "stdout",
     "output_type": "stream",
     "text": [
      "0.5886049576199663\n"
     ]
    }
   ],
   "source": [
    "pipeline_RTC = Pipeline([\n",
    "    ('oversample', oversample),\n",
    "    ('classifier', Model_RTC_OVEMSAMPLE)\n",
    "])\n",
    "\n",
    "CV_RTC=cross_val_score(pipeline_RTC,X_train,Y_train,cv=skf,scoring='f1')\n",
    "print(CV_RTC.mean())"
   ]
  },
  {
   "cell_type": "markdown",
   "metadata": {
    "application/vnd.databricks.v1+cell": {
     "cellMetadata": {
      "byteLimit": 2048000,
      "rowLimit": 10000
     },
     "inputWidgets": {},
     "nuid": "798a9a5f-9dbd-4a33-9da6-053e653c0089",
     "showTitle": false,
     "title": ""
    },
    "id": "rSKJ6r9gJuq0"
   },
   "source": [
    "### Desafio 3\n",
    "\n",
    " Utilize um [`pipeline`](https://imbalanced-learn.org/stable/references/generated/imblearn.pipeline.Pipeline.html) contendo ajuste do modelo e o balanceamento dos dados usando o undersampling com [`Nearmiss`](https://imbalanced-learn.org/stable/references/generated/imblearn.over_sampling.SMOTE.html) na sua versão 3, obtendo a média do F1-Score de uma validação cruzada com `StratifiedKFold`."
   ]
  },
  {
   "cell_type": "code",
   "execution_count": 0,
   "metadata": {
    "application/vnd.databricks.v1+cell": {
     "cellMetadata": {
      "byteLimit": 2048000,
      "rowLimit": 10000
     },
     "collapsed": true,
     "inputWidgets": {},
     "nuid": "f80d3a70-7437-4d65-9c23-aed2ca258be1",
     "showTitle": false,
     "title": ""
    }
   },
   "outputs": [
    {
     "output_type": "stream",
     "name": "stdout",
     "output_type": "stream",
     "text": [
      "0.5085054344184106\n"
     ]
    },
    {
     "output_type": "stream",
     "name": "stderr",
     "output_type": "stream",
     "text": [
      "/local_disk0/.ephemeral_nfs/envs/pythonEnv-0be5f5a8-1c5e-4583-af1e-d81e245596e6/lib/python3.9/site-packages/imblearn/under_sampling/_prototype_selection/_nearmiss.py:203: UserWarning: The number of the samples to be selected is larger than the number of samples available. The balancing ratio cannot be ensure and all samples will be returned.\n  warnings.warn(\n/local_disk0/.ephemeral_nfs/envs/pythonEnv-0be5f5a8-1c5e-4583-af1e-d81e245596e6/lib/python3.9/site-packages/imblearn/under_sampling/_prototype_selection/_nearmiss.py:203: UserWarning: The number of the samples to be selected is larger than the number of samples available. The balancing ratio cannot be ensure and all samples will be returned.\n  warnings.warn(\n"
     ]
    }
   ],
   "source": [
    "from imblearn.under_sampling import NearMiss\n",
    "undersample = NearMiss(version=3)\n",
    "Model_DTC_UnderSample = DecisionTreeClassifier(max_depth=10)\n",
    "skf = StratifiedKFold(n_splits=10, shuffle = True, random_state = 5)\n",
    "\n",
    "pipeline_DTC_Under = Pipeline([\n",
    "    ('undersample', undersample),\n",
    "    ('classifier', Model_DTC_UnderSample)\n",
    "])\n",
    "\n",
    "CV_DTC_Undersample=cross_val_score(pipeline_DTC_Under,X_train,Y_train,cv=skf,scoring ='f1')\n",
    "print(CV_DTC_Undersample.mean())"
   ]
  },
  {
   "cell_type": "code",
   "execution_count": 0,
   "metadata": {
    "application/vnd.databricks.v1+cell": {
     "cellMetadata": {
      "byteLimit": 2048000,
      "rowLimit": 10000
     },
     "collapsed": true,
     "inputWidgets": {},
     "nuid": "d0e37e96-ae19-4d8c-becd-12d0777aa765",
     "showTitle": false,
     "title": ""
    }
   },
   "outputs": [
    {
     "output_type": "stream",
     "name": "stdout",
     "output_type": "stream",
     "text": [
      "0.5130255072696854\n"
     ]
    },
    {
     "output_type": "stream",
     "name": "stderr",
     "output_type": "stream",
     "text": [
      "/local_disk0/.ephemeral_nfs/envs/pythonEnv-0be5f5a8-1c5e-4583-af1e-d81e245596e6/lib/python3.9/site-packages/imblearn/under_sampling/_prototype_selection/_nearmiss.py:203: UserWarning: The number of the samples to be selected is larger than the number of samples available. The balancing ratio cannot be ensure and all samples will be returned.\n  warnings.warn(\n/local_disk0/.ephemeral_nfs/envs/pythonEnv-0be5f5a8-1c5e-4583-af1e-d81e245596e6/lib/python3.9/site-packages/imblearn/under_sampling/_prototype_selection/_nearmiss.py:203: UserWarning: The number of the samples to be selected is larger than the number of samples available. The balancing ratio cannot be ensure and all samples will be returned.\n  warnings.warn(\n"
     ]
    }
   ],
   "source": [
    "from imblearn.under_sampling import NearMiss\n",
    "undersample = NearMiss(version=3)\n",
    "Model_RTC_UnderSample = RandomForestClassifier(max_depth=10)\n",
    "skf = StratifiedKFold(n_splits=10, shuffle = True, random_state = 5)\n",
    "\n",
    "pipeline_RTC_Under = Pipeline([\n",
    "    ('undersample', undersample),\n",
    "    ('classifier', Model_DTC_UnderSample)\n",
    "])\n",
    "\n",
    "CV_RTC_Undersample=cross_val_score(pipeline_RTC_Under,X_train,Y_train,cv=skf,scoring ='f1')\n",
    "print(CV_RTC_Undersample.mean())"
   ]
  },
  {
   "cell_type": "markdown",
   "metadata": {
    "application/vnd.databricks.v1+cell": {
     "cellMetadata": {
      "byteLimit": 2048000,
      "rowLimit": 10000
     },
     "inputWidgets": {},
     "nuid": "14368fbf-bc6c-4046-9a99-e5e7b43de4d7",
     "showTitle": false,
     "title": ""
    },
    "id": "6ZpXGQyPJwNl"
   },
   "source": [
    "### Desafio 4\n",
    "\n",
    "Escolha o modelo que obteve o melhor desempenho ao comparar as estratégias de oversampling e undersampling e realize o teste do modelo nos dados de teste que foram separados no início dos desafios."
   ]
  },
  {
   "cell_type": "code",
   "execution_count": 0,
   "metadata": {
    "application/vnd.databricks.v1+cell": {
     "cellMetadata": {
      "byteLimit": 2048000,
      "rowLimit": 10000
     },
     "inputWidgets": {},
     "nuid": "f7282f2f-6050-4c1e-bd83-d4a79daadd46",
     "showTitle": false,
     "title": ""
    }
   },
   "outputs": [
    {
     "output_type": "stream",
     "name": "stdout",
     "output_type": "stream",
     "text": [
      "0.55\n"
     ]
    }
   ],
   "source": [
    "scores=cross_val_score(pipeline_RTC_Under,X_test,Y_test,cv=skf)\n",
    "print(scores.mean())"
   ]
  }
 ],
 "metadata": {
  "application/vnd.databricks.v1+notebook": {
   "dashboards": [],
   "environmentMetadata": null,
   "language": "python",
   "notebookMetadata": {
    "pythonIndentUnit": 4
   },
   "notebookName": "Exercicios_extras",
   "widgets": {}
  },
  "colab": {
   "authorship_tag": "ABX9TyMXnjQVNjaMipB0qKngZLrs",
   "provenance": []
  },
  "kernelspec": {
   "display_name": "Python 3",
   "name": "python3"
  },
  "language_info": {
   "name": "python"
  }
 },
 "nbformat": 4,
 "nbformat_minor": 0
}
